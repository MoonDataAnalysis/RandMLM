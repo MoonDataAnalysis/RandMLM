{
 "cells": [
  {
   "cell_type": "markdown",
   "id": "dba4c011",
   "metadata": {},
   "source": [
    "#### 本课程设计两类模型\n",
    "\n",
    "#### 当 N = 1 时，使用 unified structural equation model（uSEM）\n",
    "\n",
    "#### 当 N = all 时，使用 multievel vector autoregression model"
   ]
  },
  {
   "cell_type": "code",
   "execution_count": 4,
   "id": "e19323a8",
   "metadata": {},
   "outputs": [
    {
     "name": "stderr",
     "output_type": "stream",
     "text": [
      "Warning message:\n",
      "\"程辑包'mlVAR'是用R版本4.2.3 来建造的\"\n"
     ]
    }
   ],
   "source": [
    "#  载入数据库\n",
    "library(psych) # 描述分析\n",
    "library(plyr)  # 数据整理\n",
    "library(ggplot2) # 可视化\n",
    "library(pompom) # uSEM 建模\n",
    "library(mlVAR) # mlVAR 建模"
   ]
  },
  {
   "cell_type": "markdown",
   "id": "a2954e26",
   "metadata": {},
   "source": [
    "#### 载入数据\n",
    "\n",
    "一组 30 个被试，每天报告8次，连续报告21天，形成了这样一个时间序列数据（1个人有超过100次obs），载入下面数据："
   ]
  },
  {
   "cell_type": "code",
   "execution_count": 26,
   "id": "b679100f",
   "metadata": {},
   "outputs": [],
   "source": [
    "filepath <- \"https://quantdev.ssri.psu.edu/sites/qdev/files/AMIBshare_phase2_interaction_2019_0501.csv\"\n",
    "\n",
    "AMIB_interactionP2 <- read.csv(file=url(filepath),header=TRUE)"
   ]
  },
  {
   "cell_type": "markdown",
   "id": "ea1a4773",
   "metadata": {},
   "source": [
    "#### 这21天的测量包含6个关键感兴趣的变量：\n",
    "\n",
    "人际吸引力（interpersonal affection，“igaff”）\n",
    "\n",
    "人际地位（interpersonal dominance，“igdom”）\n",
    "\n",
    "情绪效价（affect valence，“agval”）\n",
    "\n",
    "情绪唤醒程度（affect arousal，“agarous”）\n",
    "\n",
    "压力（stress，”stress“）\n",
    "\n",
    "健康（health，”health\"）"
   ]
  },
  {
   "cell_type": "code",
   "execution_count": 28,
   "id": "46cff329",
   "metadata": {},
   "outputs": [
    {
     "data": {
      "text/html": [
       "<table class=\"dataframe\">\n",
       "<caption>A data.frame: 6 × 9</caption>\n",
       "<thead>\n",
       "\t<tr><th></th><th scope=col>id</th><th scope=col>day</th><th scope=col>interaction</th><th scope=col>igaff</th><th scope=col>igdom</th><th scope=col>agval</th><th scope=col>agarous</th><th scope=col>stress</th><th scope=col>health</th></tr>\n",
       "\t<tr><th></th><th scope=col>&lt;int&gt;</th><th scope=col>&lt;int&gt;</th><th scope=col>&lt;int&gt;</th><th scope=col>&lt;dbl&gt;</th><th scope=col>&lt;dbl&gt;</th><th scope=col>&lt;dbl&gt;</th><th scope=col>&lt;dbl&gt;</th><th scope=col>&lt;int&gt;</th><th scope=col>&lt;int&gt;</th></tr>\n",
       "</thead>\n",
       "<tbody>\n",
       "\t<tr><th scope=row>1</th><td>203</td><td>1</td><td>1</td><td>9</td><td>8</td><td>9</td><td>8</td><td>0</td><td>0</td></tr>\n",
       "\t<tr><th scope=row>2</th><td>203</td><td>1</td><td>2</td><td>7</td><td>8</td><td>9</td><td>6</td><td>0</td><td>0</td></tr>\n",
       "\t<tr><th scope=row>3</th><td>203</td><td>1</td><td>3</td><td>8</td><td>8</td><td>9</td><td>8</td><td>0</td><td>0</td></tr>\n",
       "\t<tr><th scope=row>4</th><td>203</td><td>1</td><td>4</td><td>9</td><td>8</td><td>9</td><td>8</td><td>0</td><td>0</td></tr>\n",
       "\t<tr><th scope=row>5</th><td>203</td><td>1</td><td>5</td><td>8</td><td>8</td><td>8</td><td>8</td><td>0</td><td>0</td></tr>\n",
       "\t<tr><th scope=row>6</th><td>203</td><td>2</td><td>6</td><td>9</td><td>9</td><td>9</td><td>9</td><td>0</td><td>1</td></tr>\n",
       "</tbody>\n",
       "</table>\n"
      ],
      "text/latex": [
       "A data.frame: 6 × 9\n",
       "\\begin{tabular}{r|lllllllll}\n",
       "  & id & day & interaction & igaff & igdom & agval & agarous & stress & health\\\\\n",
       "  & <int> & <int> & <int> & <dbl> & <dbl> & <dbl> & <dbl> & <int> & <int>\\\\\n",
       "\\hline\n",
       "\t1 & 203 & 1 & 1 & 9 & 8 & 9 & 8 & 0 & 0\\\\\n",
       "\t2 & 203 & 1 & 2 & 7 & 8 & 9 & 6 & 0 & 0\\\\\n",
       "\t3 & 203 & 1 & 3 & 8 & 8 & 9 & 8 & 0 & 0\\\\\n",
       "\t4 & 203 & 1 & 4 & 9 & 8 & 9 & 8 & 0 & 0\\\\\n",
       "\t5 & 203 & 1 & 5 & 8 & 8 & 8 & 8 & 0 & 0\\\\\n",
       "\t6 & 203 & 2 & 6 & 9 & 9 & 9 & 9 & 0 & 1\\\\\n",
       "\\end{tabular}\n"
      ],
      "text/markdown": [
       "\n",
       "A data.frame: 6 × 9\n",
       "\n",
       "| <!--/--> | id &lt;int&gt; | day &lt;int&gt; | interaction &lt;int&gt; | igaff &lt;dbl&gt; | igdom &lt;dbl&gt; | agval &lt;dbl&gt; | agarous &lt;dbl&gt; | stress &lt;int&gt; | health &lt;int&gt; |\n",
       "|---|---|---|---|---|---|---|---|---|---|\n",
       "| 1 | 203 | 1 | 1 | 9 | 8 | 9 | 8 | 0 | 0 |\n",
       "| 2 | 203 | 1 | 2 | 7 | 8 | 9 | 6 | 0 | 0 |\n",
       "| 3 | 203 | 1 | 3 | 8 | 8 | 9 | 8 | 0 | 0 |\n",
       "| 4 | 203 | 1 | 4 | 9 | 8 | 9 | 8 | 0 | 0 |\n",
       "| 5 | 203 | 1 | 5 | 8 | 8 | 8 | 8 | 0 | 0 |\n",
       "| 6 | 203 | 2 | 6 | 9 | 9 | 9 | 9 | 0 | 1 |\n",
       "\n"
      ],
      "text/plain": [
       "  id  day interaction igaff igdom agval agarous stress health\n",
       "1 203 1   1           9     8     9     8       0      0     \n",
       "2 203 1   2           7     8     9     6       0      0     \n",
       "3 203 1   3           8     8     9     8       0      0     \n",
       "4 203 1   4           9     8     9     8       0      0     \n",
       "5 203 1   5           8     8     8     8       0      0     \n",
       "6 203 2   6           9     9     9     9       0      1     "
      ]
     },
     "metadata": {},
     "output_type": "display_data"
    },
    {
     "data": {
      "text/html": [
       "<table class=\"dataframe\">\n",
       "<caption>A psych: 9 × 13</caption>\n",
       "<thead>\n",
       "\t<tr><th></th><th scope=col>vars</th><th scope=col>n</th><th scope=col>mean</th><th scope=col>sd</th><th scope=col>median</th><th scope=col>trimmed</th><th scope=col>mad</th><th scope=col>min</th><th scope=col>max</th><th scope=col>range</th><th scope=col>skew</th><th scope=col>kurtosis</th><th scope=col>se</th></tr>\n",
       "\t<tr><th></th><th scope=col>&lt;int&gt;</th><th scope=col>&lt;dbl&gt;</th><th scope=col>&lt;dbl&gt;</th><th scope=col>&lt;dbl&gt;</th><th scope=col>&lt;dbl&gt;</th><th scope=col>&lt;dbl&gt;</th><th scope=col>&lt;dbl&gt;</th><th scope=col>&lt;dbl&gt;</th><th scope=col>&lt;dbl&gt;</th><th scope=col>&lt;dbl&gt;</th><th scope=col>&lt;dbl&gt;</th><th scope=col>&lt;dbl&gt;</th><th scope=col>&lt;dbl&gt;</th></tr>\n",
       "</thead>\n",
       "<tbody>\n",
       "\t<tr><th scope=row>id</th><td>1</td><td>4200</td><td>310.363810</td><td>77.119508</td><td>321</td><td>308.400298</td><td>121.5732</td><td>203</td><td>439</td><td>236</td><td> 0.07454841</td><td>-1.212313267</td><td>1.18997984</td></tr>\n",
       "\t<tr><th scope=row>day</th><td>2</td><td>4200</td><td> 10.570714</td><td> 5.987424</td><td> 10</td><td> 10.495238</td><td>  7.4130</td><td>  1</td><td> 21</td><td> 20</td><td> 0.09407762</td><td>-1.163276968</td><td>0.09238796</td></tr>\n",
       "\t<tr><th scope=row>interaction</th><td>3</td><td>4200</td><td> 73.884048</td><td>45.183178</td><td> 71</td><td> 72.316964</td><td> 54.8562</td><td>  1</td><td>168</td><td>167</td><td> 0.23187029</td><td>-1.002517539</td><td>0.69719157</td></tr>\n",
       "\t<tr><th scope=row>igaff</th><td>4</td><td>4190</td><td>  7.391169</td><td> 1.782375</td><td>  8</td><td>  7.694809</td><td>  1.4826</td><td>  1</td><td>  9</td><td>  8</td><td>-1.43481679</td><td> 2.006018457</td><td>0.02753545</td></tr>\n",
       "\t<tr><th scope=row>igdom</th><td>5</td><td>4190</td><td>  6.915752</td><td> 1.617504</td><td>  7</td><td>  7.084129</td><td>  1.4826</td><td>  1</td><td>  9</td><td>  8</td><td>-0.92867494</td><td> 0.906719824</td><td>0.02498839</td></tr>\n",
       "\t<tr><th scope=row>agval</th><td>6</td><td>4189</td><td>  6.797684</td><td> 2.086323</td><td>  7</td><td>  7.079481</td><td>  2.2239</td><td>  1</td><td>  9</td><td>  8</td><td>-0.93409704</td><td> 0.134382323</td><td>0.03223490</td></tr>\n",
       "\t<tr><th scope=row>agarous</th><td>7</td><td>4189</td><td>  5.915254</td><td> 2.109067</td><td>  6</td><td>  6.039815</td><td>  2.9652</td><td>  1</td><td>  9</td><td>  8</td><td>-0.51396413</td><td>-0.564101693</td><td>0.03258632</td></tr>\n",
       "\t<tr><th scope=row>stress</th><td>8</td><td>4191</td><td>  1.220950</td><td> 1.381207</td><td>  1</td><td>  1.017000</td><td>  1.4826</td><td>  0</td><td>  5</td><td>  5</td><td> 0.96696607</td><td> 0.018512748</td><td>0.02133536</td></tr>\n",
       "\t<tr><th scope=row>health</th><td>9</td><td>4192</td><td>  1.079198</td><td> 1.173324</td><td>  1</td><td>  0.927251</td><td>  1.4826</td><td>  0</td><td>  5</td><td>  5</td><td> 0.88299394</td><td>-0.004833679</td><td>0.01812205</td></tr>\n",
       "</tbody>\n",
       "</table>\n"
      ],
      "text/latex": [
       "A psych: 9 × 13\n",
       "\\begin{tabular}{r|lllllllllllll}\n",
       "  & vars & n & mean & sd & median & trimmed & mad & min & max & range & skew & kurtosis & se\\\\\n",
       "  & <int> & <dbl> & <dbl> & <dbl> & <dbl> & <dbl> & <dbl> & <dbl> & <dbl> & <dbl> & <dbl> & <dbl> & <dbl>\\\\\n",
       "\\hline\n",
       "\tid & 1 & 4200 & 310.363810 & 77.119508 & 321 & 308.400298 & 121.5732 & 203 & 439 & 236 &  0.07454841 & -1.212313267 & 1.18997984\\\\\n",
       "\tday & 2 & 4200 &  10.570714 &  5.987424 &  10 &  10.495238 &   7.4130 &   1 &  21 &  20 &  0.09407762 & -1.163276968 & 0.09238796\\\\\n",
       "\tinteraction & 3 & 4200 &  73.884048 & 45.183178 &  71 &  72.316964 &  54.8562 &   1 & 168 & 167 &  0.23187029 & -1.002517539 & 0.69719157\\\\\n",
       "\tigaff & 4 & 4190 &   7.391169 &  1.782375 &   8 &   7.694809 &   1.4826 &   1 &   9 &   8 & -1.43481679 &  2.006018457 & 0.02753545\\\\\n",
       "\tigdom & 5 & 4190 &   6.915752 &  1.617504 &   7 &   7.084129 &   1.4826 &   1 &   9 &   8 & -0.92867494 &  0.906719824 & 0.02498839\\\\\n",
       "\tagval & 6 & 4189 &   6.797684 &  2.086323 &   7 &   7.079481 &   2.2239 &   1 &   9 &   8 & -0.93409704 &  0.134382323 & 0.03223490\\\\\n",
       "\tagarous & 7 & 4189 &   5.915254 &  2.109067 &   6 &   6.039815 &   2.9652 &   1 &   9 &   8 & -0.51396413 & -0.564101693 & 0.03258632\\\\\n",
       "\tstress & 8 & 4191 &   1.220950 &  1.381207 &   1 &   1.017000 &   1.4826 &   0 &   5 &   5 &  0.96696607 &  0.018512748 & 0.02133536\\\\\n",
       "\thealth & 9 & 4192 &   1.079198 &  1.173324 &   1 &   0.927251 &   1.4826 &   0 &   5 &   5 &  0.88299394 & -0.004833679 & 0.01812205\\\\\n",
       "\\end{tabular}\n"
      ],
      "text/markdown": [
       "\n",
       "A psych: 9 × 13\n",
       "\n",
       "| <!--/--> | vars &lt;int&gt; | n &lt;dbl&gt; | mean &lt;dbl&gt; | sd &lt;dbl&gt; | median &lt;dbl&gt; | trimmed &lt;dbl&gt; | mad &lt;dbl&gt; | min &lt;dbl&gt; | max &lt;dbl&gt; | range &lt;dbl&gt; | skew &lt;dbl&gt; | kurtosis &lt;dbl&gt; | se &lt;dbl&gt; |\n",
       "|---|---|---|---|---|---|---|---|---|---|---|---|---|---|\n",
       "| id | 1 | 4200 | 310.363810 | 77.119508 | 321 | 308.400298 | 121.5732 | 203 | 439 | 236 |  0.07454841 | -1.212313267 | 1.18997984 |\n",
       "| day | 2 | 4200 |  10.570714 |  5.987424 |  10 |  10.495238 |   7.4130 |   1 |  21 |  20 |  0.09407762 | -1.163276968 | 0.09238796 |\n",
       "| interaction | 3 | 4200 |  73.884048 | 45.183178 |  71 |  72.316964 |  54.8562 |   1 | 168 | 167 |  0.23187029 | -1.002517539 | 0.69719157 |\n",
       "| igaff | 4 | 4190 |   7.391169 |  1.782375 |   8 |   7.694809 |   1.4826 |   1 |   9 |   8 | -1.43481679 |  2.006018457 | 0.02753545 |\n",
       "| igdom | 5 | 4190 |   6.915752 |  1.617504 |   7 |   7.084129 |   1.4826 |   1 |   9 |   8 | -0.92867494 |  0.906719824 | 0.02498839 |\n",
       "| agval | 6 | 4189 |   6.797684 |  2.086323 |   7 |   7.079481 |   2.2239 |   1 |   9 |   8 | -0.93409704 |  0.134382323 | 0.03223490 |\n",
       "| agarous | 7 | 4189 |   5.915254 |  2.109067 |   6 |   6.039815 |   2.9652 |   1 |   9 |   8 | -0.51396413 | -0.564101693 | 0.03258632 |\n",
       "| stress | 8 | 4191 |   1.220950 |  1.381207 |   1 |   1.017000 |   1.4826 |   0 |   5 |   5 |  0.96696607 |  0.018512748 | 0.02133536 |\n",
       "| health | 9 | 4192 |   1.079198 |  1.173324 |   1 |   0.927251 |   1.4826 |   0 |   5 |   5 |  0.88299394 | -0.004833679 | 0.01812205 |\n",
       "\n"
      ],
      "text/plain": [
       "            vars n    mean       sd        median trimmed    mad      min max\n",
       "id          1    4200 310.363810 77.119508 321    308.400298 121.5732 203 439\n",
       "day         2    4200  10.570714  5.987424  10     10.495238   7.4130   1  21\n",
       "interaction 3    4200  73.884048 45.183178  71     72.316964  54.8562   1 168\n",
       "igaff       4    4190   7.391169  1.782375   8      7.694809   1.4826   1   9\n",
       "igdom       5    4190   6.915752  1.617504   7      7.084129   1.4826   1   9\n",
       "agval       6    4189   6.797684  2.086323   7      7.079481   2.2239   1   9\n",
       "agarous     7    4189   5.915254  2.109067   6      6.039815   2.9652   1   9\n",
       "stress      8    4191   1.220950  1.381207   1      1.017000   1.4826   0   5\n",
       "health      9    4192   1.079198  1.173324   1      0.927251   1.4826   0   5\n",
       "            range skew        kurtosis     se        \n",
       "id          236    0.07454841 -1.212313267 1.18997984\n",
       "day          20    0.09407762 -1.163276968 0.09238796\n",
       "interaction 167    0.23187029 -1.002517539 0.69719157\n",
       "igaff         8   -1.43481679  2.006018457 0.02753545\n",
       "igdom         8   -0.92867494  0.906719824 0.02498839\n",
       "agval         8   -0.93409704  0.134382323 0.03223490\n",
       "agarous       8   -0.51396413 -0.564101693 0.03258632\n",
       "stress        5    0.96696607  0.018512748 0.02133536\n",
       "health        5    0.88299394 -0.004833679 0.01812205"
      ]
     },
     "metadata": {},
     "output_type": "display_data"
    }
   ],
   "source": [
    "#s 我们仅把感兴趣的变量提取出来\n",
    "AMIB_interactionP2 <- AMIB_interactionP2[ ,c(\"id\",\"day\",\"interaction\",\n",
    "                                             \"igaff\",\"igdom\",\n",
    "                                             \"agval\", \"agarous\", \n",
    "                                             \"stress\", \"health\")]\n",
    "head(AMIB_interactionP2)\n",
    "describe(AMIB_interactionP2)"
   ]
  },
  {
   "cell_type": "markdown",
   "id": "bce0b354",
   "metadata": {},
   "source": [
    "# 使用 unified Structural Equation Model (uSEM)\n",
    "\n",
    "uSEM 针对个体分别建模，一个人建立一个模型"
   ]
  },
  {
   "cell_type": "code",
   "execution_count": 29,
   "id": "6e8147ab",
   "metadata": {
    "scrolled": false
   },
   "outputs": [
    {
     "data": {
      "text/html": [
       "<table class=\"dataframe\">\n",
       "<caption>A data.frame: 6 × 9</caption>\n",
       "<thead>\n",
       "\t<tr><th></th><th scope=col>id</th><th scope=col>day</th><th scope=col>interaction</th><th scope=col>igaff</th><th scope=col>igdom</th><th scope=col>agval</th><th scope=col>agarous</th><th scope=col>stress</th><th scope=col>health</th></tr>\n",
       "\t<tr><th></th><th scope=col>&lt;int&gt;</th><th scope=col>&lt;int&gt;</th><th scope=col>&lt;int&gt;</th><th scope=col>&lt;dbl&gt;</th><th scope=col>&lt;dbl&gt;</th><th scope=col>&lt;dbl&gt;</th><th scope=col>&lt;dbl&gt;</th><th scope=col>&lt;int&gt;</th><th scope=col>&lt;int&gt;</th></tr>\n",
       "</thead>\n",
       "<tbody>\n",
       "\t<tr><th scope=row>1</th><td>203</td><td>1</td><td>1</td><td>9</td><td>8</td><td>9</td><td>8</td><td>0</td><td>0</td></tr>\n",
       "\t<tr><th scope=row>2</th><td>203</td><td>1</td><td>2</td><td>7</td><td>8</td><td>9</td><td>6</td><td>0</td><td>0</td></tr>\n",
       "\t<tr><th scope=row>3</th><td>203</td><td>1</td><td>3</td><td>8</td><td>8</td><td>9</td><td>8</td><td>0</td><td>0</td></tr>\n",
       "\t<tr><th scope=row>4</th><td>203</td><td>1</td><td>4</td><td>9</td><td>8</td><td>9</td><td>8</td><td>0</td><td>0</td></tr>\n",
       "\t<tr><th scope=row>5</th><td>203</td><td>1</td><td>5</td><td>8</td><td>8</td><td>8</td><td>8</td><td>0</td><td>0</td></tr>\n",
       "\t<tr><th scope=row>6</th><td>203</td><td>2</td><td>6</td><td>9</td><td>9</td><td>9</td><td>9</td><td>0</td><td>1</td></tr>\n",
       "</tbody>\n",
       "</table>\n"
      ],
      "text/latex": [
       "A data.frame: 6 × 9\n",
       "\\begin{tabular}{r|lllllllll}\n",
       "  & id & day & interaction & igaff & igdom & agval & agarous & stress & health\\\\\n",
       "  & <int> & <int> & <int> & <dbl> & <dbl> & <dbl> & <dbl> & <int> & <int>\\\\\n",
       "\\hline\n",
       "\t1 & 203 & 1 & 1 & 9 & 8 & 9 & 8 & 0 & 0\\\\\n",
       "\t2 & 203 & 1 & 2 & 7 & 8 & 9 & 6 & 0 & 0\\\\\n",
       "\t3 & 203 & 1 & 3 & 8 & 8 & 9 & 8 & 0 & 0\\\\\n",
       "\t4 & 203 & 1 & 4 & 9 & 8 & 9 & 8 & 0 & 0\\\\\n",
       "\t5 & 203 & 1 & 5 & 8 & 8 & 8 & 8 & 0 & 0\\\\\n",
       "\t6 & 203 & 2 & 6 & 9 & 9 & 9 & 9 & 0 & 1\\\\\n",
       "\\end{tabular}\n"
      ],
      "text/markdown": [
       "\n",
       "A data.frame: 6 × 9\n",
       "\n",
       "| <!--/--> | id &lt;int&gt; | day &lt;int&gt; | interaction &lt;int&gt; | igaff &lt;dbl&gt; | igdom &lt;dbl&gt; | agval &lt;dbl&gt; | agarous &lt;dbl&gt; | stress &lt;int&gt; | health &lt;int&gt; |\n",
       "|---|---|---|---|---|---|---|---|---|---|\n",
       "| 1 | 203 | 1 | 1 | 9 | 8 | 9 | 8 | 0 | 0 |\n",
       "| 2 | 203 | 1 | 2 | 7 | 8 | 9 | 6 | 0 | 0 |\n",
       "| 3 | 203 | 1 | 3 | 8 | 8 | 9 | 8 | 0 | 0 |\n",
       "| 4 | 203 | 1 | 4 | 9 | 8 | 9 | 8 | 0 | 0 |\n",
       "| 5 | 203 | 1 | 5 | 8 | 8 | 8 | 8 | 0 | 0 |\n",
       "| 6 | 203 | 2 | 6 | 9 | 9 | 9 | 9 | 0 | 1 |\n",
       "\n"
      ],
      "text/plain": [
       "  id  day interaction igaff igdom agval agarous stress health\n",
       "1 203 1   1           9     8     9     8       0      0     \n",
       "2 203 1   2           7     8     9     6       0      0     \n",
       "3 203 1   3           8     8     9     8       0      0     \n",
       "4 203 1   4           9     8     9     8       0      0     \n",
       "5 203 1   5           8     8     8     8       0      0     \n",
       "6 203 2   6           9     9     9     9       0      1     "
      ]
     },
     "metadata": {},
     "output_type": "display_data"
    },
    {
     "data": {
      "text/html": [
       "<table class=\"dataframe\">\n",
       "<caption>A psych: 9 × 13</caption>\n",
       "<thead>\n",
       "\t<tr><th></th><th scope=col>vars</th><th scope=col>n</th><th scope=col>mean</th><th scope=col>sd</th><th scope=col>median</th><th scope=col>trimmed</th><th scope=col>mad</th><th scope=col>min</th><th scope=col>max</th><th scope=col>range</th><th scope=col>skew</th><th scope=col>kurtosis</th><th scope=col>se</th></tr>\n",
       "\t<tr><th></th><th scope=col>&lt;int&gt;</th><th scope=col>&lt;dbl&gt;</th><th scope=col>&lt;dbl&gt;</th><th scope=col>&lt;dbl&gt;</th><th scope=col>&lt;dbl&gt;</th><th scope=col>&lt;dbl&gt;</th><th scope=col>&lt;dbl&gt;</th><th scope=col>&lt;dbl&gt;</th><th scope=col>&lt;dbl&gt;</th><th scope=col>&lt;dbl&gt;</th><th scope=col>&lt;dbl&gt;</th><th scope=col>&lt;dbl&gt;</th><th scope=col>&lt;dbl&gt;</th></tr>\n",
       "</thead>\n",
       "<tbody>\n",
       "\t<tr><th scope=row>id</th><td>1</td><td>111</td><td>203.0000000</td><td> 0.0000000</td><td>203</td><td>203.00000000</td><td> 0.0000</td><td>203</td><td>203</td><td>  0</td><td>       NaN</td><td>       NaN</td><td>0.00000000</td></tr>\n",
       "\t<tr><th scope=row>day</th><td>2</td><td>111</td><td> 10.3873874</td><td> 5.9362847</td><td> 10</td><td> 10.24719101</td><td> 7.4130</td><td>  1</td><td> 21</td><td> 20</td><td> 0.1866305</td><td>-1.1543443</td><td>0.56344721</td></tr>\n",
       "\t<tr><th scope=row>interaction</th><td>3</td><td>111</td><td> 56.0000000</td><td>32.1869539</td><td> 56</td><td> 56.00000000</td><td>41.5128</td><td>  1</td><td>111</td><td>110</td><td> 0.0000000</td><td>-1.2324777</td><td>3.05505046</td></tr>\n",
       "\t<tr><th scope=row>igaff</th><td>4</td><td>111</td><td>  8.1306306</td><td> 0.5296299</td><td>  8</td><td>  8.14606742</td><td> 0.0000</td><td>  7</td><td>  9</td><td>  2</td><td> 0.1082672</td><td> 0.2130838</td><td>0.05027024</td></tr>\n",
       "\t<tr><th scope=row>igdom</th><td>5</td><td>111</td><td>  7.9639640</td><td> 0.4801123</td><td>  8</td><td>  7.97752809</td><td> 0.0000</td><td>  6</td><td>  9</td><td>  3</td><td>-0.5294252</td><td> 3.1021820</td><td>0.04557024</td></tr>\n",
       "\t<tr><th scope=row>agval</th><td>6</td><td>111</td><td>  8.1306306</td><td> 0.5253212</td><td>  8</td><td>  8.14044944</td><td> 0.0000</td><td>  7</td><td>  9</td><td>  2</td><td> 0.1231301</td><td> 0.2989595</td><td>0.04986128</td></tr>\n",
       "\t<tr><th scope=row>agarous</th><td>7</td><td>111</td><td>  7.9054054</td><td> 0.4744064</td><td>  8</td><td>  7.93820225</td><td> 0.0000</td><td>  6</td><td>  9</td><td>  3</td><td>-0.6965747</td><td> 2.8205576</td><td>0.04502866</td></tr>\n",
       "\t<tr><th scope=row>stress</th><td>8</td><td>111</td><td>  0.1531532</td><td> 0.4898645</td><td>  0</td><td>  0.01123596</td><td> 0.0000</td><td>  0</td><td>  3</td><td>  3</td><td> 3.5616516</td><td>13.3886660</td><td>0.04649588</td></tr>\n",
       "\t<tr><th scope=row>health</th><td>9</td><td>111</td><td>  0.2342342</td><td> 0.6023432</td><td>  0</td><td>  0.08988764</td><td> 0.0000</td><td>  0</td><td>  3</td><td>  3</td><td> 3.0723340</td><td>10.0511711</td><td>0.05717189</td></tr>\n",
       "</tbody>\n",
       "</table>\n"
      ],
      "text/latex": [
       "A psych: 9 × 13\n",
       "\\begin{tabular}{r|lllllllllllll}\n",
       "  & vars & n & mean & sd & median & trimmed & mad & min & max & range & skew & kurtosis & se\\\\\n",
       "  & <int> & <dbl> & <dbl> & <dbl> & <dbl> & <dbl> & <dbl> & <dbl> & <dbl> & <dbl> & <dbl> & <dbl> & <dbl>\\\\\n",
       "\\hline\n",
       "\tid & 1 & 111 & 203.0000000 &  0.0000000 & 203 & 203.00000000 &  0.0000 & 203 & 203 &   0 &        NaN &        NaN & 0.00000000\\\\\n",
       "\tday & 2 & 111 &  10.3873874 &  5.9362847 &  10 &  10.24719101 &  7.4130 &   1 &  21 &  20 &  0.1866305 & -1.1543443 & 0.56344721\\\\\n",
       "\tinteraction & 3 & 111 &  56.0000000 & 32.1869539 &  56 &  56.00000000 & 41.5128 &   1 & 111 & 110 &  0.0000000 & -1.2324777 & 3.05505046\\\\\n",
       "\tigaff & 4 & 111 &   8.1306306 &  0.5296299 &   8 &   8.14606742 &  0.0000 &   7 &   9 &   2 &  0.1082672 &  0.2130838 & 0.05027024\\\\\n",
       "\tigdom & 5 & 111 &   7.9639640 &  0.4801123 &   8 &   7.97752809 &  0.0000 &   6 &   9 &   3 & -0.5294252 &  3.1021820 & 0.04557024\\\\\n",
       "\tagval & 6 & 111 &   8.1306306 &  0.5253212 &   8 &   8.14044944 &  0.0000 &   7 &   9 &   2 &  0.1231301 &  0.2989595 & 0.04986128\\\\\n",
       "\tagarous & 7 & 111 &   7.9054054 &  0.4744064 &   8 &   7.93820225 &  0.0000 &   6 &   9 &   3 & -0.6965747 &  2.8205576 & 0.04502866\\\\\n",
       "\tstress & 8 & 111 &   0.1531532 &  0.4898645 &   0 &   0.01123596 &  0.0000 &   0 &   3 &   3 &  3.5616516 & 13.3886660 & 0.04649588\\\\\n",
       "\thealth & 9 & 111 &   0.2342342 &  0.6023432 &   0 &   0.08988764 &  0.0000 &   0 &   3 &   3 &  3.0723340 & 10.0511711 & 0.05717189\\\\\n",
       "\\end{tabular}\n"
      ],
      "text/markdown": [
       "\n",
       "A psych: 9 × 13\n",
       "\n",
       "| <!--/--> | vars &lt;int&gt; | n &lt;dbl&gt; | mean &lt;dbl&gt; | sd &lt;dbl&gt; | median &lt;dbl&gt; | trimmed &lt;dbl&gt; | mad &lt;dbl&gt; | min &lt;dbl&gt; | max &lt;dbl&gt; | range &lt;dbl&gt; | skew &lt;dbl&gt; | kurtosis &lt;dbl&gt; | se &lt;dbl&gt; |\n",
       "|---|---|---|---|---|---|---|---|---|---|---|---|---|---|\n",
       "| id | 1 | 111 | 203.0000000 |  0.0000000 | 203 | 203.00000000 |  0.0000 | 203 | 203 |   0 |        NaN |        NaN | 0.00000000 |\n",
       "| day | 2 | 111 |  10.3873874 |  5.9362847 |  10 |  10.24719101 |  7.4130 |   1 |  21 |  20 |  0.1866305 | -1.1543443 | 0.56344721 |\n",
       "| interaction | 3 | 111 |  56.0000000 | 32.1869539 |  56 |  56.00000000 | 41.5128 |   1 | 111 | 110 |  0.0000000 | -1.2324777 | 3.05505046 |\n",
       "| igaff | 4 | 111 |   8.1306306 |  0.5296299 |   8 |   8.14606742 |  0.0000 |   7 |   9 |   2 |  0.1082672 |  0.2130838 | 0.05027024 |\n",
       "| igdom | 5 | 111 |   7.9639640 |  0.4801123 |   8 |   7.97752809 |  0.0000 |   6 |   9 |   3 | -0.5294252 |  3.1021820 | 0.04557024 |\n",
       "| agval | 6 | 111 |   8.1306306 |  0.5253212 |   8 |   8.14044944 |  0.0000 |   7 |   9 |   2 |  0.1231301 |  0.2989595 | 0.04986128 |\n",
       "| agarous | 7 | 111 |   7.9054054 |  0.4744064 |   8 |   7.93820225 |  0.0000 |   6 |   9 |   3 | -0.6965747 |  2.8205576 | 0.04502866 |\n",
       "| stress | 8 | 111 |   0.1531532 |  0.4898645 |   0 |   0.01123596 |  0.0000 |   0 |   3 |   3 |  3.5616516 | 13.3886660 | 0.04649588 |\n",
       "| health | 9 | 111 |   0.2342342 |  0.6023432 |   0 |   0.08988764 |  0.0000 |   0 |   3 |   3 |  3.0723340 | 10.0511711 | 0.05717189 |\n",
       "\n"
      ],
      "text/plain": [
       "            vars n   mean        sd         median trimmed      mad     min max\n",
       "id          1    111 203.0000000  0.0000000 203    203.00000000  0.0000 203 203\n",
       "day         2    111  10.3873874  5.9362847  10     10.24719101  7.4130   1  21\n",
       "interaction 3    111  56.0000000 32.1869539  56     56.00000000 41.5128   1 111\n",
       "igaff       4    111   8.1306306  0.5296299   8      8.14606742  0.0000   7   9\n",
       "igdom       5    111   7.9639640  0.4801123   8      7.97752809  0.0000   6   9\n",
       "agval       6    111   8.1306306  0.5253212   8      8.14044944  0.0000   7   9\n",
       "agarous     7    111   7.9054054  0.4744064   8      7.93820225  0.0000   6   9\n",
       "stress      8    111   0.1531532  0.4898645   0      0.01123596  0.0000   0   3\n",
       "health      9    111   0.2342342  0.6023432   0      0.08988764  0.0000   0   3\n",
       "            range skew       kurtosis   se        \n",
       "id            0          NaN        NaN 0.00000000\n",
       "day          20    0.1866305 -1.1543443 0.56344721\n",
       "interaction 110    0.0000000 -1.2324777 3.05505046\n",
       "igaff         2    0.1082672  0.2130838 0.05027024\n",
       "igdom         3   -0.5294252  3.1021820 0.04557024\n",
       "agval         2    0.1231301  0.2989595 0.04986128\n",
       "agarous       3   -0.6965747  2.8205576 0.04502866\n",
       "stress        3    3.5616516 13.3886660 0.04649588\n",
       "health        3    3.0723340 10.0511711 0.05717189"
      ]
     },
     "metadata": {},
     "output_type": "display_data"
    }
   ],
   "source": [
    "# 选择一个人的数据\n",
    "data_indiv <- AMIB_interactionP2[AMIB_interactionP2$id == 203, ]\n",
    "head(data_indiv)\n",
    "describe(data_indiv)"
   ]
  },
  {
   "cell_type": "markdown",
   "id": "2731b49a",
   "metadata": {},
   "source": [
    "#### 个体的不同变量，量纲有很大的差异，因此我们要对数据做标准化"
   ]
  },
  {
   "cell_type": "code",
   "execution_count": 30,
   "id": "9b3353e6",
   "metadata": {},
   "outputs": [
    {
     "data": {
      "text/html": [
       "<table class=\"dataframe\">\n",
       "<caption>A psych: 9 × 13</caption>\n",
       "<thead>\n",
       "\t<tr><th></th><th scope=col>vars</th><th scope=col>n</th><th scope=col>mean</th><th scope=col>sd</th><th scope=col>median</th><th scope=col>trimmed</th><th scope=col>mad</th><th scope=col>min</th><th scope=col>max</th><th scope=col>range</th><th scope=col>skew</th><th scope=col>kurtosis</th><th scope=col>se</th></tr>\n",
       "\t<tr><th></th><th scope=col>&lt;int&gt;</th><th scope=col>&lt;dbl&gt;</th><th scope=col>&lt;dbl&gt;</th><th scope=col>&lt;dbl&gt;</th><th scope=col>&lt;dbl&gt;</th><th scope=col>&lt;dbl&gt;</th><th scope=col>&lt;dbl&gt;</th><th scope=col>&lt;dbl&gt;</th><th scope=col>&lt;dbl&gt;</th><th scope=col>&lt;dbl&gt;</th><th scope=col>&lt;dbl&gt;</th><th scope=col>&lt;dbl&gt;</th><th scope=col>&lt;dbl&gt;</th></tr>\n",
       "</thead>\n",
       "<tbody>\n",
       "\t<tr><th scope=row>id</th><td>1</td><td>111</td><td> 2.030000e+02</td><td> 0.000000</td><td>203.00000000</td><td>203.00000000</td><td> 0.0000</td><td>203.0000000</td><td>203.000000</td><td>  0.000000</td><td>       NaN</td><td>       NaN</td><td>0.0000000</td></tr>\n",
       "\t<tr><th scope=row>day</th><td>2</td><td>111</td><td> 1.038739e+01</td><td> 5.936285</td><td> 10.00000000</td><td> 10.24719101</td><td> 7.4130</td><td>  1.0000000</td><td> 21.000000</td><td> 20.000000</td><td> 0.1866305</td><td>-1.1543443</td><td>0.5634472</td></tr>\n",
       "\t<tr><th scope=row>interaction</th><td>3</td><td>111</td><td> 5.600000e+01</td><td>32.186954</td><td> 56.00000000</td><td> 56.00000000</td><td>41.5128</td><td>  1.0000000</td><td>111.000000</td><td>110.000000</td><td> 0.0000000</td><td>-1.2324777</td><td>3.0550505</td></tr>\n",
       "\t<tr><th scope=row>igaff</th><td>4</td><td>111</td><td> 4.400637e-16</td><td> 1.000000</td><td> -0.24664514</td><td>  0.02914637</td><td> 0.0000</td><td> -2.1347562</td><td>  1.641466</td><td>  3.776222</td><td> 0.1082672</td><td> 0.2130838</td><td>0.0949158</td></tr>\n",
       "\t<tr><th scope=row>igdom</th><td>5</td><td>111</td><td>-7.758779e-16</td><td> 1.000000</td><td>  0.07505752</td><td>  0.02825199</td><td> 0.0000</td><td> -4.0906349</td><td>  2.157904</td><td>  6.248539</td><td>-0.5294252</td><td> 3.1021820</td><td>0.0949158</td></tr>\n",
       "\t<tr><th scope=row>agval</th><td>6</td><td>111</td><td> 4.391803e-16</td><td> 1.000000</td><td> -0.24866813</td><td>  0.01869106</td><td> 0.0000</td><td> -2.1522655</td><td>  1.654929</td><td>  3.807195</td><td> 0.1231301</td><td> 0.2989595</td><td>0.0949158</td></tr>\n",
       "\t<tr><th scope=row>agarous</th><td>7</td><td>111</td><td> 3.032054e-16</td><td> 1.000000</td><td>  0.19939570</td><td>  0.06913238</td><td> 0.0000</td><td> -4.0163991</td><td>  2.307293</td><td>  6.323692</td><td>-0.6965747</td><td> 2.8205576</td><td>0.0949158</td></tr>\n",
       "\t<tr><th scope=row>stress</th><td>8</td><td>111</td><td> 3.859223e-17</td><td> 1.000000</td><td> -0.31264390</td><td> -0.28970704</td><td> 0.0000</td><td> -0.3126439</td><td>  5.811498</td><td>  6.124142</td><td> 3.5616516</td><td>13.3886660</td><td>0.0949158</td></tr>\n",
       "\t<tr><th scope=row>health</th><td>9</td><td>111</td><td> 1.795283e-17</td><td> 1.000000</td><td> -0.38887170</td><td> -0.23964176</td><td> 0.0000</td><td> -0.3888717</td><td>  4.591677</td><td>  4.980549</td><td> 3.0723340</td><td>10.0511711</td><td>0.0949158</td></tr>\n",
       "</tbody>\n",
       "</table>\n"
      ],
      "text/latex": [
       "A psych: 9 × 13\n",
       "\\begin{tabular}{r|lllllllllllll}\n",
       "  & vars & n & mean & sd & median & trimmed & mad & min & max & range & skew & kurtosis & se\\\\\n",
       "  & <int> & <dbl> & <dbl> & <dbl> & <dbl> & <dbl> & <dbl> & <dbl> & <dbl> & <dbl> & <dbl> & <dbl> & <dbl>\\\\\n",
       "\\hline\n",
       "\tid & 1 & 111 &  2.030000e+02 &  0.000000 & 203.00000000 & 203.00000000 &  0.0000 & 203.0000000 & 203.000000 &   0.000000 &        NaN &        NaN & 0.0000000\\\\\n",
       "\tday & 2 & 111 &  1.038739e+01 &  5.936285 &  10.00000000 &  10.24719101 &  7.4130 &   1.0000000 &  21.000000 &  20.000000 &  0.1866305 & -1.1543443 & 0.5634472\\\\\n",
       "\tinteraction & 3 & 111 &  5.600000e+01 & 32.186954 &  56.00000000 &  56.00000000 & 41.5128 &   1.0000000 & 111.000000 & 110.000000 &  0.0000000 & -1.2324777 & 3.0550505\\\\\n",
       "\tigaff & 4 & 111 &  4.400637e-16 &  1.000000 &  -0.24664514 &   0.02914637 &  0.0000 &  -2.1347562 &   1.641466 &   3.776222 &  0.1082672 &  0.2130838 & 0.0949158\\\\\n",
       "\tigdom & 5 & 111 & -7.758779e-16 &  1.000000 &   0.07505752 &   0.02825199 &  0.0000 &  -4.0906349 &   2.157904 &   6.248539 & -0.5294252 &  3.1021820 & 0.0949158\\\\\n",
       "\tagval & 6 & 111 &  4.391803e-16 &  1.000000 &  -0.24866813 &   0.01869106 &  0.0000 &  -2.1522655 &   1.654929 &   3.807195 &  0.1231301 &  0.2989595 & 0.0949158\\\\\n",
       "\tagarous & 7 & 111 &  3.032054e-16 &  1.000000 &   0.19939570 &   0.06913238 &  0.0000 &  -4.0163991 &   2.307293 &   6.323692 & -0.6965747 &  2.8205576 & 0.0949158\\\\\n",
       "\tstress & 8 & 111 &  3.859223e-17 &  1.000000 &  -0.31264390 &  -0.28970704 &  0.0000 &  -0.3126439 &   5.811498 &   6.124142 &  3.5616516 & 13.3886660 & 0.0949158\\\\\n",
       "\thealth & 9 & 111 &  1.795283e-17 &  1.000000 &  -0.38887170 &  -0.23964176 &  0.0000 &  -0.3888717 &   4.591677 &   4.980549 &  3.0723340 & 10.0511711 & 0.0949158\\\\\n",
       "\\end{tabular}\n"
      ],
      "text/markdown": [
       "\n",
       "A psych: 9 × 13\n",
       "\n",
       "| <!--/--> | vars &lt;int&gt; | n &lt;dbl&gt; | mean &lt;dbl&gt; | sd &lt;dbl&gt; | median &lt;dbl&gt; | trimmed &lt;dbl&gt; | mad &lt;dbl&gt; | min &lt;dbl&gt; | max &lt;dbl&gt; | range &lt;dbl&gt; | skew &lt;dbl&gt; | kurtosis &lt;dbl&gt; | se &lt;dbl&gt; |\n",
       "|---|---|---|---|---|---|---|---|---|---|---|---|---|---|\n",
       "| id | 1 | 111 |  2.030000e+02 |  0.000000 | 203.00000000 | 203.00000000 |  0.0000 | 203.0000000 | 203.000000 |   0.000000 |        NaN |        NaN | 0.0000000 |\n",
       "| day | 2 | 111 |  1.038739e+01 |  5.936285 |  10.00000000 |  10.24719101 |  7.4130 |   1.0000000 |  21.000000 |  20.000000 |  0.1866305 | -1.1543443 | 0.5634472 |\n",
       "| interaction | 3 | 111 |  5.600000e+01 | 32.186954 |  56.00000000 |  56.00000000 | 41.5128 |   1.0000000 | 111.000000 | 110.000000 |  0.0000000 | -1.2324777 | 3.0550505 |\n",
       "| igaff | 4 | 111 |  4.400637e-16 |  1.000000 |  -0.24664514 |   0.02914637 |  0.0000 |  -2.1347562 |   1.641466 |   3.776222 |  0.1082672 |  0.2130838 | 0.0949158 |\n",
       "| igdom | 5 | 111 | -7.758779e-16 |  1.000000 |   0.07505752 |   0.02825199 |  0.0000 |  -4.0906349 |   2.157904 |   6.248539 | -0.5294252 |  3.1021820 | 0.0949158 |\n",
       "| agval | 6 | 111 |  4.391803e-16 |  1.000000 |  -0.24866813 |   0.01869106 |  0.0000 |  -2.1522655 |   1.654929 |   3.807195 |  0.1231301 |  0.2989595 | 0.0949158 |\n",
       "| agarous | 7 | 111 |  3.032054e-16 |  1.000000 |   0.19939570 |   0.06913238 |  0.0000 |  -4.0163991 |   2.307293 |   6.323692 | -0.6965747 |  2.8205576 | 0.0949158 |\n",
       "| stress | 8 | 111 |  3.859223e-17 |  1.000000 |  -0.31264390 |  -0.28970704 |  0.0000 |  -0.3126439 |   5.811498 |   6.124142 |  3.5616516 | 13.3886660 | 0.0949158 |\n",
       "| health | 9 | 111 |  1.795283e-17 |  1.000000 |  -0.38887170 |  -0.23964176 |  0.0000 |  -0.3888717 |   4.591677 |   4.980549 |  3.0723340 | 10.0511711 | 0.0949158 |\n",
       "\n"
      ],
      "text/plain": [
       "            vars n   mean          sd        median       trimmed      mad    \n",
       "id          1    111  2.030000e+02  0.000000 203.00000000 203.00000000  0.0000\n",
       "day         2    111  1.038739e+01  5.936285  10.00000000  10.24719101  7.4130\n",
       "interaction 3    111  5.600000e+01 32.186954  56.00000000  56.00000000 41.5128\n",
       "igaff       4    111  4.400637e-16  1.000000  -0.24664514   0.02914637  0.0000\n",
       "igdom       5    111 -7.758779e-16  1.000000   0.07505752   0.02825199  0.0000\n",
       "agval       6    111  4.391803e-16  1.000000  -0.24866813   0.01869106  0.0000\n",
       "agarous     7    111  3.032054e-16  1.000000   0.19939570   0.06913238  0.0000\n",
       "stress      8    111  3.859223e-17  1.000000  -0.31264390  -0.28970704  0.0000\n",
       "health      9    111  1.795283e-17  1.000000  -0.38887170  -0.23964176  0.0000\n",
       "            min         max        range      skew       kurtosis   se       \n",
       "id          203.0000000 203.000000   0.000000        NaN        NaN 0.0000000\n",
       "day           1.0000000  21.000000  20.000000  0.1866305 -1.1543443 0.5634472\n",
       "interaction   1.0000000 111.000000 110.000000  0.0000000 -1.2324777 3.0550505\n",
       "igaff        -2.1347562   1.641466   3.776222  0.1082672  0.2130838 0.0949158\n",
       "igdom        -4.0906349   2.157904   6.248539 -0.5294252  3.1021820 0.0949158\n",
       "agval        -2.1522655   1.654929   3.807195  0.1231301  0.2989595 0.0949158\n",
       "agarous      -4.0163991   2.307293   6.323692 -0.6965747  2.8205576 0.0949158\n",
       "stress       -0.3126439   5.811498   6.124142  3.5616516 13.3886660 0.0949158\n",
       "health       -0.3888717   4.591677   4.980549  3.0723340 10.0511711 0.0949158"
      ]
     },
     "metadata": {},
     "output_type": "display_data"
    }
   ],
   "source": [
    "# 对数据集中所有变量做中心化处理\n",
    "data_indiv[c(4:9)] <- lapply(data_indiv[c(4:9)], \n",
    "                             function(x) c(scale(x, center=TRUE, scale=TRUE)))\n",
    "describe(data_indiv)"
   ]
  },
  {
   "cell_type": "code",
   "execution_count": 31,
   "id": "05983c98",
   "metadata": {},
   "outputs": [
    {
     "data": {
      "image/png": "[encoded data removed]",
      "text/plain": [
       "plot without title"
      ]
     },
     "metadata": {
      "image/png": {
       "height": 420,
       "width": 420
      }
     },
     "output_type": "display_data"
    }
   ],
   "source": [
    "#plotting intraindividual change \n",
    "ggplot(data = data_indiv,\n",
    "       aes(x = interaction, group= id)) +\n",
    "  #first variable\n",
    "  geom_line(aes(y=igaff), color=1) +\n",
    "  geom_line(aes(y=igdom), color=2) +\n",
    "  geom_line(aes(y=agval), color=3) +\n",
    "  geom_line(aes(y=agarous), color=4) +\n",
    "  geom_line(aes(y=stress), color=5) +\n",
    "  geom_line(aes(y=health), color=6) +\n",
    "  #plot layouts\n",
    "  scale_x_continuous(name=\"Interaction#\") +\n",
    "  scale_y_continuous(name=\"Standardized Values\") +  \n",
    "  theme_classic() +\n",
    "  theme(axis.title=element_text(size=14),\n",
    "        axis.text=element_text(size=14),\n",
    "        plot.title=element_text(size=14, hjust=.5)) +\n",
    "  ggtitle(\"ID#203\")"
   ]
  },
  {
   "cell_type": "markdown",
   "id": "fb531eff",
   "metadata": {},
   "source": [
    "#### 拟合uSEM model，使用pompom函数库 中的 uSEM()"
   ]
  },
  {
   "cell_type": "code",
   "execution_count": 12,
   "id": "92afc7ae",
   "metadata": {},
   "outputs": [
    {
     "name": "stderr",
     "output_type": "stream",
     "text": [
      "Warning message in lavParseModelString(model):\n",
      "\"lavaan WARNING: lhs and rhs are the same in: eta1~0*eta1\"\n",
      "Warning message in lavParseModelString(model):\n",
      "\"lavaan WARNING: lhs and rhs are the same in: eta2~0*eta2\"\n",
      "Warning message in lavParseModelString(model):\n",
      "\"lavaan WARNING: lhs and rhs are the same in: eta3~0*eta3\"\n",
      "Warning message in lavParseModelString(model):\n",
      "\"lavaan WARNING: lhs and rhs are the same in: eta4~0*eta4\"\n",
      "Warning message in lavParseModelString(model):\n",
      "\"lavaan WARNING: lhs and rhs are the same in: eta5~0*eta5\"\n",
      "Warning message in lavParseModelString(model):\n",
      "\"lavaan WARNING: lhs and rhs are the same in: eta6~0*eta6\"\n",
      "Warning message in lavParseModelString(model):\n",
      "\"lavaan WARNING: lhs and rhs are the same in: eta1~0*eta1\"\n",
      "Warning message in lavParseModelString(model):\n",
      "\"lavaan WARNING: lhs and rhs are the same in: eta2~0*eta2\"\n",
      "Warning message in lavParseModelString(model):\n",
      "\"lavaan WARNING: lhs and rhs are the same in: eta3~0*eta3\"\n",
      "Warning message in lavParseModelString(model):\n",
      "\"lavaan WARNING: lhs and rhs are the same in: eta4~0*eta4\"\n",
      "Warning message in lavParseModelString(model):\n",
      "\"lavaan WARNING: lhs and rhs are the same in: eta5~0*eta5\"\n",
      "Warning message in lavParseModelString(model):\n",
      "\"lavaan WARNING: lhs and rhs are the same in: eta6~0*eta6\"\n",
      "Warning message in lavParseModelString(model):\n",
      "\"lavaan WARNING: lhs and rhs are the same in: eta1~0*eta1\"\n",
      "Warning message in lavParseModelString(model):\n",
      "\"lavaan WARNING: lhs and rhs are the same in: eta2~0*eta2\"\n",
      "Warning message in lavParseModelString(model):\n",
      "\"lavaan WARNING: lhs and rhs are the same in: eta3~0*eta3\"\n",
      "Warning message in lavParseModelString(model):\n",
      "\"lavaan WARNING: lhs and rhs are the same in: eta4~0*eta4\"\n",
      "Warning message in lavParseModelString(model):\n",
      "\"lavaan WARNING: lhs and rhs are the same in: eta5~0*eta5\"\n",
      "Warning message in lavParseModelString(model):\n",
      "\"lavaan WARNING: lhs and rhs are the same in: eta6~0*eta6\"\n",
      "Warning message in lavParseModelString(model):\n",
      "\"lavaan WARNING: lhs and rhs are the same in: eta1~0*eta1\"\n",
      "Warning message in lavParseModelString(model):\n",
      "\"lavaan WARNING: lhs and rhs are the same in: eta2~0*eta2\"\n",
      "Warning message in lavParseModelString(model):\n",
      "\"lavaan WARNING: lhs and rhs are the same in: eta3~0*eta3\"\n",
      "Warning message in lavParseModelString(model):\n",
      "\"lavaan WARNING: lhs and rhs are the same in: eta4~0*eta4\"\n",
      "Warning message in lavParseModelString(model):\n",
      "\"lavaan WARNING: lhs and rhs are the same in: eta5~0*eta5\"\n",
      "Warning message in lavParseModelString(model):\n",
      "\"lavaan WARNING: lhs and rhs are the same in: eta6~0*eta6\"\n",
      "Warning message in lavParseModelString(model):\n",
      "\"lavaan WARNING: lhs and rhs are the same in: eta1~0*eta1\"\n",
      "Warning message in lavParseModelString(model):\n",
      "\"lavaan WARNING: lhs and rhs are the same in: eta2~0*eta2\"\n",
      "Warning message in lavParseModelString(model):\n",
      "\"lavaan WARNING: lhs and rhs are the same in: eta3~0*eta3\"\n",
      "Warning message in lavParseModelString(model):\n",
      "\"lavaan WARNING: lhs and rhs are the same in: eta4~0*eta4\"\n",
      "Warning message in lavParseModelString(model):\n",
      "\"lavaan WARNING: lhs and rhs are the same in: eta5~0*eta5\"\n",
      "Warning message in lavParseModelString(model):\n",
      "\"lavaan WARNING: lhs and rhs are the same in: eta6~0*eta6\"\n",
      "Warning message in lavParseModelString(model):\n",
      "\"lavaan WARNING: lhs and rhs are the same in: eta1~0*eta1\"\n",
      "Warning message in lavParseModelString(model):\n",
      "\"lavaan WARNING: lhs and rhs are the same in: eta2~0*eta2\"\n",
      "Warning message in lavParseModelString(model):\n",
      "\"lavaan WARNING: lhs and rhs are the same in: eta3~0*eta3\"\n",
      "Warning message in lavParseModelString(model):\n",
      "\"lavaan WARNING: lhs and rhs are the same in: eta4~0*eta4\"\n",
      "Warning message in lavParseModelString(model):\n",
      "\"lavaan WARNING: lhs and rhs are the same in: eta5~0*eta5\"\n",
      "Warning message in lavParseModelString(model):\n",
      "\"lavaan WARNING: lhs and rhs are the same in: eta6~0*eta6\"\n",
      "Warning message in lavParseModelString(model):\n",
      "\"lavaan WARNING: lhs and rhs are the same in: eta1~0*eta1\"\n",
      "Warning message in lavParseModelString(model):\n",
      "\"lavaan WARNING: lhs and rhs are the same in: eta2~0*eta2\"\n",
      "Warning message in lavParseModelString(model):\n",
      "\"lavaan WARNING: lhs and rhs are the same in: eta3~0*eta3\"\n",
      "Warning message in lavParseModelString(model):\n",
      "\"lavaan WARNING: lhs and rhs are the same in: eta4~0*eta4\"\n",
      "Warning message in lavParseModelString(model):\n",
      "\"lavaan WARNING: lhs and rhs are the same in: eta5~0*eta5\"\n",
      "Warning message in lavParseModelString(model):\n",
      "\"lavaan WARNING: lhs and rhs are the same in: eta6~0*eta6\"\n"
     ]
    }
   ],
   "source": [
    "usem_indiv <- uSEM(var.number = 6, \n",
    "               data = data_indiv[ ,c(4:9)], \n",
    "               lag.order = 1, \n",
    "               verbose = FALSE,\n",
    "               trim = FALSE)"
   ]
  },
  {
   "cell_type": "code",
   "execution_count": 13,
   "id": "3f3dd737",
   "metadata": {},
   "outputs": [
    {
     "data": {
      "text/html": [
       "<dl>\n",
       "\t<dt>$beta</dt>\n",
       "\t\t<dd><table class=\"dataframe\">\n",
       "<caption>A matrix: 12 × 12 of type dbl</caption>\n",
       "<tbody>\n",
       "\t<tr><td>0.0000000</td><td> 0.0000000</td><td>0.0000000</td><td>0.0000000</td><td>0.0000000</td><td>0.0000000</td><td> 0.0000000</td><td>0</td><td>0</td><td>0</td><td>0</td><td>0</td></tr>\n",
       "\t<tr><td>0.0000000</td><td> 0.0000000</td><td>0.0000000</td><td>0.0000000</td><td>0.0000000</td><td>0.0000000</td><td> 0.0000000</td><td>0</td><td>0</td><td>0</td><td>0</td><td>0</td></tr>\n",
       "\t<tr><td>0.0000000</td><td> 0.0000000</td><td>0.0000000</td><td>0.0000000</td><td>0.0000000</td><td>0.0000000</td><td> 0.0000000</td><td>0</td><td>0</td><td>0</td><td>0</td><td>0</td></tr>\n",
       "\t<tr><td>0.0000000</td><td> 0.0000000</td><td>0.0000000</td><td>0.0000000</td><td>0.0000000</td><td>0.0000000</td><td> 0.0000000</td><td>0</td><td>0</td><td>0</td><td>0</td><td>0</td></tr>\n",
       "\t<tr><td>0.0000000</td><td> 0.0000000</td><td>0.0000000</td><td>0.0000000</td><td>0.0000000</td><td>0.0000000</td><td> 0.0000000</td><td>0</td><td>0</td><td>0</td><td>0</td><td>0</td></tr>\n",
       "\t<tr><td>0.0000000</td><td> 0.0000000</td><td>0.0000000</td><td>0.0000000</td><td>0.0000000</td><td>0.0000000</td><td> 0.0000000</td><td>0</td><td>0</td><td>0</td><td>0</td><td>0</td></tr>\n",
       "\t<tr><td>0.2178887</td><td> 0.0000000</td><td>0.0000000</td><td>0.0000000</td><td>0.0000000</td><td>0.0000000</td><td> 0.0000000</td><td>0</td><td>0</td><td>0</td><td>0</td><td>0</td></tr>\n",
       "\t<tr><td>0.0000000</td><td>-0.0623992</td><td>0.0000000</td><td>0.1902141</td><td>0.0000000</td><td>0.0000000</td><td> 0.5657580</td><td>0</td><td>0</td><td>0</td><td>0</td><td>0</td></tr>\n",
       "\t<tr><td>0.0000000</td><td> 0.0000000</td><td>0.2048157</td><td>0.0000000</td><td>0.0000000</td><td>0.0000000</td><td> 0.3759418</td><td>0</td><td>0</td><td>0</td><td>0</td><td>0</td></tr>\n",
       "\t<tr><td>0.0000000</td><td> 0.0000000</td><td>0.0000000</td><td>0.1843832</td><td>0.0000000</td><td>0.0000000</td><td> 0.3459819</td><td>0</td><td>0</td><td>0</td><td>0</td><td>0</td></tr>\n",
       "\t<tr><td>0.0000000</td><td> 0.0000000</td><td>0.0000000</td><td>0.0000000</td><td>0.4339714</td><td>0.0000000</td><td>-0.1891716</td><td>0</td><td>0</td><td>0</td><td>0</td><td>0</td></tr>\n",
       "\t<tr><td>0.0000000</td><td> 0.0000000</td><td>0.0000000</td><td>0.0000000</td><td>0.0000000</td><td>0.6903564</td><td>-0.1366822</td><td>0</td><td>0</td><td>0</td><td>0</td><td>0</td></tr>\n",
       "</tbody>\n",
       "</table>\n",
       "</dd>\n",
       "\t<dt>$beta.se</dt>\n",
       "\t\t<dd><table class=\"dataframe\">\n",
       "<caption>A matrix: 12 × 12 of type dbl</caption>\n",
       "<tbody>\n",
       "\t<tr><td>0.00000000</td><td>0.00000000</td><td>0.00000000</td><td>0.00000000</td><td>0.00000000</td><td>0.00000000</td><td>0.00000000</td><td>0</td><td>0</td><td>0</td><td>0</td><td>0</td></tr>\n",
       "\t<tr><td>0.00000000</td><td>0.00000000</td><td>0.00000000</td><td>0.00000000</td><td>0.00000000</td><td>0.00000000</td><td>0.00000000</td><td>0</td><td>0</td><td>0</td><td>0</td><td>0</td></tr>\n",
       "\t<tr><td>0.00000000</td><td>0.00000000</td><td>0.00000000</td><td>0.00000000</td><td>0.00000000</td><td>0.00000000</td><td>0.00000000</td><td>0</td><td>0</td><td>0</td><td>0</td><td>0</td></tr>\n",
       "\t<tr><td>0.00000000</td><td>0.00000000</td><td>0.00000000</td><td>0.00000000</td><td>0.00000000</td><td>0.00000000</td><td>0.00000000</td><td>0</td><td>0</td><td>0</td><td>0</td><td>0</td></tr>\n",
       "\t<tr><td>0.00000000</td><td>0.00000000</td><td>0.00000000</td><td>0.00000000</td><td>0.00000000</td><td>0.00000000</td><td>0.00000000</td><td>0</td><td>0</td><td>0</td><td>0</td><td>0</td></tr>\n",
       "\t<tr><td>0.00000000</td><td>0.00000000</td><td>0.00000000</td><td>0.00000000</td><td>0.00000000</td><td>0.00000000</td><td>0.00000000</td><td>0</td><td>0</td><td>0</td><td>0</td><td>0</td></tr>\n",
       "\t<tr><td>0.09187786</td><td>0.00000000</td><td>0.00000000</td><td>0.00000000</td><td>0.00000000</td><td>0.00000000</td><td>0.00000000</td><td>0</td><td>0</td><td>0</td><td>0</td><td>0</td></tr>\n",
       "\t<tr><td>0.00000000</td><td>0.08313877</td><td>0.00000000</td><td>0.08281535</td><td>0.00000000</td><td>0.00000000</td><td>0.07903760</td><td>0</td><td>0</td><td>0</td><td>0</td><td>0</td></tr>\n",
       "\t<tr><td>0.00000000</td><td>0.00000000</td><td>0.08536307</td><td>0.00000000</td><td>0.00000000</td><td>0.00000000</td><td>0.08640385</td><td>0</td><td>0</td><td>0</td><td>0</td><td>0</td></tr>\n",
       "\t<tr><td>0.00000000</td><td>0.00000000</td><td>0.00000000</td><td>0.08791592</td><td>0.00000000</td><td>0.00000000</td><td>0.08899676</td><td>0</td><td>0</td><td>0</td><td>0</td><td>0</td></tr>\n",
       "\t<tr><td>0.00000000</td><td>0.00000000</td><td>0.00000000</td><td>0.00000000</td><td>0.08416815</td><td>0.00000000</td><td>0.08518044</td><td>0</td><td>0</td><td>0</td><td>0</td><td>0</td></tr>\n",
       "\t<tr><td>0.00000000</td><td>0.00000000</td><td>0.00000000</td><td>0.00000000</td><td>0.00000000</td><td>0.06710476</td><td>0.06789531</td><td>0</td><td>0</td><td>0</td><td>0</td><td>0</td></tr>\n",
       "</tbody>\n",
       "</table>\n",
       "</dd>\n",
       "\t<dt>$psi</dt>\n",
       "\t\t<dd><table class=\"dataframe\">\n",
       "<caption>A matrix: 12 × 12 of type dbl</caption>\n",
       "<tbody>\n",
       "\t<tr><td> 0.9994470</td><td> 0.54618107</td><td> 0.43583976</td><td> 0.33952475</td><td>-0.18363303</td><td>-0.18314617</td><td>0.000000</td><td>0.0000000</td><td>0.000000</td><td>0.0000000</td><td>0.0000000</td><td>0.0000000</td></tr>\n",
       "\t<tr><td> 0.5461811</td><td> 0.99994875</td><td> 0.23527134</td><td> 0.34397834</td><td>-0.13072104</td><td>-0.08030562</td><td>0.000000</td><td>0.0000000</td><td>0.000000</td><td>0.0000000</td><td>0.0000000</td><td>0.0000000</td></tr>\n",
       "\t<tr><td> 0.4358398</td><td> 0.23527134</td><td> 0.99943868</td><td> 0.28759278</td><td>-0.18513958</td><td>-0.09845788</td><td>0.000000</td><td>0.0000000</td><td>0.000000</td><td>0.0000000</td><td>0.0000000</td><td>0.0000000</td></tr>\n",
       "\t<tr><td> 0.3395248</td><td> 0.34397834</td><td> 0.28759278</td><td> 0.99963899</td><td>-0.21035567</td><td>-0.08011838</td><td>0.000000</td><td>0.0000000</td><td>0.000000</td><td>0.0000000</td><td>0.0000000</td><td>0.0000000</td></tr>\n",
       "\t<tr><td>-0.1836330</td><td>-0.13072104</td><td>-0.18513958</td><td>-0.21035567</td><td> 0.99911214</td><td> 0.09187896</td><td>0.000000</td><td>0.0000000</td><td>0.000000</td><td>0.0000000</td><td>0.0000000</td><td>0.0000000</td></tr>\n",
       "\t<tr><td>-0.1831462</td><td>-0.08030562</td><td>-0.09845788</td><td>-0.08011838</td><td> 0.09187896</td><td> 0.99862530</td><td>0.000000</td><td>0.0000000</td><td>0.000000</td><td>0.0000000</td><td>0.0000000</td><td>0.0000000</td></tr>\n",
       "\t<tr><td> 0.0000000</td><td> 0.00000000</td><td> 0.00000000</td><td> 0.00000000</td><td> 0.00000000</td><td> 0.00000000</td><td>0.928056</td><td>0.0000000</td><td>0.000000</td><td>0.0000000</td><td>0.0000000</td><td>0.0000000</td></tr>\n",
       "\t<tr><td> 0.0000000</td><td> 0.00000000</td><td> 0.00000000</td><td> 0.00000000</td><td> 0.00000000</td><td> 0.00000000</td><td>0.000000</td><td>0.6637395</td><td>0.000000</td><td>0.0000000</td><td>0.0000000</td><td>0.0000000</td></tr>\n",
       "\t<tr><td> 0.0000000</td><td> 0.00000000</td><td> 0.00000000</td><td> 0.00000000</td><td> 0.00000000</td><td> 0.00000000</td><td>0.000000</td><td>0.0000000</td><td>0.761495</td><td>0.0000000</td><td>0.0000000</td><td>0.0000000</td></tr>\n",
       "\t<tr><td> 0.0000000</td><td> 0.00000000</td><td> 0.00000000</td><td> 0.00000000</td><td> 0.00000000</td><td> 0.00000000</td><td>0.000000</td><td>0.0000000</td><td>0.000000</td><td>0.8498551</td><td>0.0000000</td><td>0.0000000</td></tr>\n",
       "\t<tr><td> 0.0000000</td><td> 0.00000000</td><td> 0.00000000</td><td> 0.00000000</td><td> 0.00000000</td><td> 0.00000000</td><td>0.000000</td><td>0.0000000</td><td>0.000000</td><td>0.0000000</td><td>0.7784112</td><td>0.0000000</td></tr>\n",
       "\t<tr><td> 0.0000000</td><td> 0.00000000</td><td> 0.00000000</td><td> 0.00000000</td><td> 0.00000000</td><td> 0.00000000</td><td>0.000000</td><td>0.0000000</td><td>0.000000</td><td>0.0000000</td><td>0.0000000</td><td>0.4926718</td></tr>\n",
       "</tbody>\n",
       "</table>\n",
       "</dd>\n",
       "\t<dt>$chisq</dt>\n",
       "\t\t<dd><strong>chisq:</strong> 37.2217071655003</dd>\n",
       "\t<dt>$cfi</dt>\n",
       "\t\t<dd><strong>cfi:</strong> 1</dd>\n",
       "\t<dt>$tli</dt>\n",
       "\t\t<dd><strong>tli:</strong> 1.06670558657741</dd>\n",
       "\t<dt>$rmsea</dt>\n",
       "\t\t<dd><strong>rmsea:</strong> 0</dd>\n",
       "\t<dt>$srmr</dt>\n",
       "\t\t<dd><strong>srmr:</strong> 0.0469027182629043</dd>\n",
       "</dl>\n"
      ],
      "text/latex": [
       "\\begin{description}\n",
       "\\item[\\$beta] A matrix: 12 × 12 of type dbl\n",
       "\\begin{tabular}{llllllllllll}\n",
       "\t 0.0000000 &  0.0000000 & 0.0000000 & 0.0000000 & 0.0000000 & 0.0000000 &  0.0000000 & 0 & 0 & 0 & 0 & 0\\\\\n",
       "\t 0.0000000 &  0.0000000 & 0.0000000 & 0.0000000 & 0.0000000 & 0.0000000 &  0.0000000 & 0 & 0 & 0 & 0 & 0\\\\\n",
       "\t 0.0000000 &  0.0000000 & 0.0000000 & 0.0000000 & 0.0000000 & 0.0000000 &  0.0000000 & 0 & 0 & 0 & 0 & 0\\\\\n",
       "\t 0.0000000 &  0.0000000 & 0.0000000 & 0.0000000 & 0.0000000 & 0.0000000 &  0.0000000 & 0 & 0 & 0 & 0 & 0\\\\\n",
       "\t 0.0000000 &  0.0000000 & 0.0000000 & 0.0000000 & 0.0000000 & 0.0000000 &  0.0000000 & 0 & 0 & 0 & 0 & 0\\\\\n",
       "\t 0.0000000 &  0.0000000 & 0.0000000 & 0.0000000 & 0.0000000 & 0.0000000 &  0.0000000 & 0 & 0 & 0 & 0 & 0\\\\\n",
       "\t 0.2178887 &  0.0000000 & 0.0000000 & 0.0000000 & 0.0000000 & 0.0000000 &  0.0000000 & 0 & 0 & 0 & 0 & 0\\\\\n",
       "\t 0.0000000 & -0.0623992 & 0.0000000 & 0.1902141 & 0.0000000 & 0.0000000 &  0.5657580 & 0 & 0 & 0 & 0 & 0\\\\\n",
       "\t 0.0000000 &  0.0000000 & 0.2048157 & 0.0000000 & 0.0000000 & 0.0000000 &  0.3759418 & 0 & 0 & 0 & 0 & 0\\\\\n",
       "\t 0.0000000 &  0.0000000 & 0.0000000 & 0.1843832 & 0.0000000 & 0.0000000 &  0.3459819 & 0 & 0 & 0 & 0 & 0\\\\\n",
       "\t 0.0000000 &  0.0000000 & 0.0000000 & 0.0000000 & 0.4339714 & 0.0000000 & -0.1891716 & 0 & 0 & 0 & 0 & 0\\\\\n",
       "\t 0.0000000 &  0.0000000 & 0.0000000 & 0.0000000 & 0.0000000 & 0.6903564 & -0.1366822 & 0 & 0 & 0 & 0 & 0\\\\\n",
       "\\end{tabular}\n",
       "\n",
       "\\item[\\$beta.se] A matrix: 12 × 12 of type dbl\n",
       "\\begin{tabular}{llllllllllll}\n",
       "\t 0.00000000 & 0.00000000 & 0.00000000 & 0.00000000 & 0.00000000 & 0.00000000 & 0.00000000 & 0 & 0 & 0 & 0 & 0\\\\\n",
       "\t 0.00000000 & 0.00000000 & 0.00000000 & 0.00000000 & 0.00000000 & 0.00000000 & 0.00000000 & 0 & 0 & 0 & 0 & 0\\\\\n",
       "\t 0.00000000 & 0.00000000 & 0.00000000 & 0.00000000 & 0.00000000 & 0.00000000 & 0.00000000 & 0 & 0 & 0 & 0 & 0\\\\\n",
       "\t 0.00000000 & 0.00000000 & 0.00000000 & 0.00000000 & 0.00000000 & 0.00000000 & 0.00000000 & 0 & 0 & 0 & 0 & 0\\\\\n",
       "\t 0.00000000 & 0.00000000 & 0.00000000 & 0.00000000 & 0.00000000 & 0.00000000 & 0.00000000 & 0 & 0 & 0 & 0 & 0\\\\\n",
       "\t 0.00000000 & 0.00000000 & 0.00000000 & 0.00000000 & 0.00000000 & 0.00000000 & 0.00000000 & 0 & 0 & 0 & 0 & 0\\\\\n",
       "\t 0.09187786 & 0.00000000 & 0.00000000 & 0.00000000 & 0.00000000 & 0.00000000 & 0.00000000 & 0 & 0 & 0 & 0 & 0\\\\\n",
       "\t 0.00000000 & 0.08313877 & 0.00000000 & 0.08281535 & 0.00000000 & 0.00000000 & 0.07903760 & 0 & 0 & 0 & 0 & 0\\\\\n",
       "\t 0.00000000 & 0.00000000 & 0.08536307 & 0.00000000 & 0.00000000 & 0.00000000 & 0.08640385 & 0 & 0 & 0 & 0 & 0\\\\\n",
       "\t 0.00000000 & 0.00000000 & 0.00000000 & 0.08791592 & 0.00000000 & 0.00000000 & 0.08899676 & 0 & 0 & 0 & 0 & 0\\\\\n",
       "\t 0.00000000 & 0.00000000 & 0.00000000 & 0.00000000 & 0.08416815 & 0.00000000 & 0.08518044 & 0 & 0 & 0 & 0 & 0\\\\\n",
       "\t 0.00000000 & 0.00000000 & 0.00000000 & 0.00000000 & 0.00000000 & 0.06710476 & 0.06789531 & 0 & 0 & 0 & 0 & 0\\\\\n",
       "\\end{tabular}\n",
       "\n",
       "\\item[\\$psi] A matrix: 12 × 12 of type dbl\n",
       "\\begin{tabular}{llllllllllll}\n",
       "\t  0.9994470 &  0.54618107 &  0.43583976 &  0.33952475 & -0.18363303 & -0.18314617 & 0.000000 & 0.0000000 & 0.000000 & 0.0000000 & 0.0000000 & 0.0000000\\\\\n",
       "\t  0.5461811 &  0.99994875 &  0.23527134 &  0.34397834 & -0.13072104 & -0.08030562 & 0.000000 & 0.0000000 & 0.000000 & 0.0000000 & 0.0000000 & 0.0000000\\\\\n",
       "\t  0.4358398 &  0.23527134 &  0.99943868 &  0.28759278 & -0.18513958 & -0.09845788 & 0.000000 & 0.0000000 & 0.000000 & 0.0000000 & 0.0000000 & 0.0000000\\\\\n",
       "\t  0.3395248 &  0.34397834 &  0.28759278 &  0.99963899 & -0.21035567 & -0.08011838 & 0.000000 & 0.0000000 & 0.000000 & 0.0000000 & 0.0000000 & 0.0000000\\\\\n",
       "\t -0.1836330 & -0.13072104 & -0.18513958 & -0.21035567 &  0.99911214 &  0.09187896 & 0.000000 & 0.0000000 & 0.000000 & 0.0000000 & 0.0000000 & 0.0000000\\\\\n",
       "\t -0.1831462 & -0.08030562 & -0.09845788 & -0.08011838 &  0.09187896 &  0.99862530 & 0.000000 & 0.0000000 & 0.000000 & 0.0000000 & 0.0000000 & 0.0000000\\\\\n",
       "\t  0.0000000 &  0.00000000 &  0.00000000 &  0.00000000 &  0.00000000 &  0.00000000 & 0.928056 & 0.0000000 & 0.000000 & 0.0000000 & 0.0000000 & 0.0000000\\\\\n",
       "\t  0.0000000 &  0.00000000 &  0.00000000 &  0.00000000 &  0.00000000 &  0.00000000 & 0.000000 & 0.6637395 & 0.000000 & 0.0000000 & 0.0000000 & 0.0000000\\\\\n",
       "\t  0.0000000 &  0.00000000 &  0.00000000 &  0.00000000 &  0.00000000 &  0.00000000 & 0.000000 & 0.0000000 & 0.761495 & 0.0000000 & 0.0000000 & 0.0000000\\\\\n",
       "\t  0.0000000 &  0.00000000 &  0.00000000 &  0.00000000 &  0.00000000 &  0.00000000 & 0.000000 & 0.0000000 & 0.000000 & 0.8498551 & 0.0000000 & 0.0000000\\\\\n",
       "\t  0.0000000 &  0.00000000 &  0.00000000 &  0.00000000 &  0.00000000 &  0.00000000 & 0.000000 & 0.0000000 & 0.000000 & 0.0000000 & 0.7784112 & 0.0000000\\\\\n",
       "\t  0.0000000 &  0.00000000 &  0.00000000 &  0.00000000 &  0.00000000 &  0.00000000 & 0.000000 & 0.0000000 & 0.000000 & 0.0000000 & 0.0000000 & 0.4926718\\\\\n",
       "\\end{tabular}\n",
       "\n",
       "\\item[\\$chisq] \\textbf{chisq:} 37.2217071655003\n",
       "\\item[\\$cfi] \\textbf{cfi:} 1\n",
       "\\item[\\$tli] \\textbf{tli:} 1.06670558657741\n",
       "\\item[\\$rmsea] \\textbf{rmsea:} 0\n",
       "\\item[\\$srmr] \\textbf{srmr:} 0.0469027182629043\n",
       "\\end{description}\n"
      ],
      "text/markdown": [
       "$beta\n",
       ":   \n",
       "A matrix: 12 × 12 of type dbl\n",
       "\n",
       "| 0.0000000 |  0.0000000 | 0.0000000 | 0.0000000 | 0.0000000 | 0.0000000 |  0.0000000 | 0 | 0 | 0 | 0 | 0 |\n",
       "| 0.0000000 |  0.0000000 | 0.0000000 | 0.0000000 | 0.0000000 | 0.0000000 |  0.0000000 | 0 | 0 | 0 | 0 | 0 |\n",
       "| 0.0000000 |  0.0000000 | 0.0000000 | 0.0000000 | 0.0000000 | 0.0000000 |  0.0000000 | 0 | 0 | 0 | 0 | 0 |\n",
       "| 0.0000000 |  0.0000000 | 0.0000000 | 0.0000000 | 0.0000000 | 0.0000000 |  0.0000000 | 0 | 0 | 0 | 0 | 0 |\n",
       "| 0.0000000 |  0.0000000 | 0.0000000 | 0.0000000 | 0.0000000 | 0.0000000 |  0.0000000 | 0 | 0 | 0 | 0 | 0 |\n",
       "| 0.0000000 |  0.0000000 | 0.0000000 | 0.0000000 | 0.0000000 | 0.0000000 |  0.0000000 | 0 | 0 | 0 | 0 | 0 |\n",
       "| 0.2178887 |  0.0000000 | 0.0000000 | 0.0000000 | 0.0000000 | 0.0000000 |  0.0000000 | 0 | 0 | 0 | 0 | 0 |\n",
       "| 0.0000000 | -0.0623992 | 0.0000000 | 0.1902141 | 0.0000000 | 0.0000000 |  0.5657580 | 0 | 0 | 0 | 0 | 0 |\n",
       "| 0.0000000 |  0.0000000 | 0.2048157 | 0.0000000 | 0.0000000 | 0.0000000 |  0.3759418 | 0 | 0 | 0 | 0 | 0 |\n",
       "| 0.0000000 |  0.0000000 | 0.0000000 | 0.1843832 | 0.0000000 | 0.0000000 |  0.3459819 | 0 | 0 | 0 | 0 | 0 |\n",
       "| 0.0000000 |  0.0000000 | 0.0000000 | 0.0000000 | 0.4339714 | 0.0000000 | -0.1891716 | 0 | 0 | 0 | 0 | 0 |\n",
       "| 0.0000000 |  0.0000000 | 0.0000000 | 0.0000000 | 0.0000000 | 0.6903564 | -0.1366822 | 0 | 0 | 0 | 0 | 0 |\n",
       "\n",
       "\n",
       "$beta.se\n",
       ":   \n",
       "A matrix: 12 × 12 of type dbl\n",
       "\n",
       "| 0.00000000 | 0.00000000 | 0.00000000 | 0.00000000 | 0.00000000 | 0.00000000 | 0.00000000 | 0 | 0 | 0 | 0 | 0 |\n",
       "| 0.00000000 | 0.00000000 | 0.00000000 | 0.00000000 | 0.00000000 | 0.00000000 | 0.00000000 | 0 | 0 | 0 | 0 | 0 |\n",
       "| 0.00000000 | 0.00000000 | 0.00000000 | 0.00000000 | 0.00000000 | 0.00000000 | 0.00000000 | 0 | 0 | 0 | 0 | 0 |\n",
       "| 0.00000000 | 0.00000000 | 0.00000000 | 0.00000000 | 0.00000000 | 0.00000000 | 0.00000000 | 0 | 0 | 0 | 0 | 0 |\n",
       "| 0.00000000 | 0.00000000 | 0.00000000 | 0.00000000 | 0.00000000 | 0.00000000 | 0.00000000 | 0 | 0 | 0 | 0 | 0 |\n",
       "| 0.00000000 | 0.00000000 | 0.00000000 | 0.00000000 | 0.00000000 | 0.00000000 | 0.00000000 | 0 | 0 | 0 | 0 | 0 |\n",
       "| 0.09187786 | 0.00000000 | 0.00000000 | 0.00000000 | 0.00000000 | 0.00000000 | 0.00000000 | 0 | 0 | 0 | 0 | 0 |\n",
       "| 0.00000000 | 0.08313877 | 0.00000000 | 0.08281535 | 0.00000000 | 0.00000000 | 0.07903760 | 0 | 0 | 0 | 0 | 0 |\n",
       "| 0.00000000 | 0.00000000 | 0.08536307 | 0.00000000 | 0.00000000 | 0.00000000 | 0.08640385 | 0 | 0 | 0 | 0 | 0 |\n",
       "| 0.00000000 | 0.00000000 | 0.00000000 | 0.08791592 | 0.00000000 | 0.00000000 | 0.08899676 | 0 | 0 | 0 | 0 | 0 |\n",
       "| 0.00000000 | 0.00000000 | 0.00000000 | 0.00000000 | 0.08416815 | 0.00000000 | 0.08518044 | 0 | 0 | 0 | 0 | 0 |\n",
       "| 0.00000000 | 0.00000000 | 0.00000000 | 0.00000000 | 0.00000000 | 0.06710476 | 0.06789531 | 0 | 0 | 0 | 0 | 0 |\n",
       "\n",
       "\n",
       "$psi\n",
       ":   \n",
       "A matrix: 12 × 12 of type dbl\n",
       "\n",
       "|  0.9994470 |  0.54618107 |  0.43583976 |  0.33952475 | -0.18363303 | -0.18314617 | 0.000000 | 0.0000000 | 0.000000 | 0.0000000 | 0.0000000 | 0.0000000 |\n",
       "|  0.5461811 |  0.99994875 |  0.23527134 |  0.34397834 | -0.13072104 | -0.08030562 | 0.000000 | 0.0000000 | 0.000000 | 0.0000000 | 0.0000000 | 0.0000000 |\n",
       "|  0.4358398 |  0.23527134 |  0.99943868 |  0.28759278 | -0.18513958 | -0.09845788 | 0.000000 | 0.0000000 | 0.000000 | 0.0000000 | 0.0000000 | 0.0000000 |\n",
       "|  0.3395248 |  0.34397834 |  0.28759278 |  0.99963899 | -0.21035567 | -0.08011838 | 0.000000 | 0.0000000 | 0.000000 | 0.0000000 | 0.0000000 | 0.0000000 |\n",
       "| -0.1836330 | -0.13072104 | -0.18513958 | -0.21035567 |  0.99911214 |  0.09187896 | 0.000000 | 0.0000000 | 0.000000 | 0.0000000 | 0.0000000 | 0.0000000 |\n",
       "| -0.1831462 | -0.08030562 | -0.09845788 | -0.08011838 |  0.09187896 |  0.99862530 | 0.000000 | 0.0000000 | 0.000000 | 0.0000000 | 0.0000000 | 0.0000000 |\n",
       "|  0.0000000 |  0.00000000 |  0.00000000 |  0.00000000 |  0.00000000 |  0.00000000 | 0.928056 | 0.0000000 | 0.000000 | 0.0000000 | 0.0000000 | 0.0000000 |\n",
       "|  0.0000000 |  0.00000000 |  0.00000000 |  0.00000000 |  0.00000000 |  0.00000000 | 0.000000 | 0.6637395 | 0.000000 | 0.0000000 | 0.0000000 | 0.0000000 |\n",
       "|  0.0000000 |  0.00000000 |  0.00000000 |  0.00000000 |  0.00000000 |  0.00000000 | 0.000000 | 0.0000000 | 0.761495 | 0.0000000 | 0.0000000 | 0.0000000 |\n",
       "|  0.0000000 |  0.00000000 |  0.00000000 |  0.00000000 |  0.00000000 |  0.00000000 | 0.000000 | 0.0000000 | 0.000000 | 0.8498551 | 0.0000000 | 0.0000000 |\n",
       "|  0.0000000 |  0.00000000 |  0.00000000 |  0.00000000 |  0.00000000 |  0.00000000 | 0.000000 | 0.0000000 | 0.000000 | 0.0000000 | 0.7784112 | 0.0000000 |\n",
       "|  0.0000000 |  0.00000000 |  0.00000000 |  0.00000000 |  0.00000000 |  0.00000000 | 0.000000 | 0.0000000 | 0.000000 | 0.0000000 | 0.0000000 | 0.4926718 |\n",
       "\n",
       "\n",
       "$chisq\n",
       ":   **chisq:** 37.2217071655003\n",
       "$cfi\n",
       ":   **cfi:** 1\n",
       "$tli\n",
       ":   **tli:** 1.06670558657741\n",
       "$rmsea\n",
       ":   **rmsea:** 0\n",
       "$srmr\n",
       ":   **srmr:** 0.0469027182629043\n",
       "\n",
       "\n"
      ],
      "text/plain": [
       "$beta\n",
       "           [,1]       [,2]      [,3]      [,4]      [,5]      [,6]       [,7]\n",
       " [1,] 0.0000000  0.0000000 0.0000000 0.0000000 0.0000000 0.0000000  0.0000000\n",
       " [2,] 0.0000000  0.0000000 0.0000000 0.0000000 0.0000000 0.0000000  0.0000000\n",
       " [3,] 0.0000000  0.0000000 0.0000000 0.0000000 0.0000000 0.0000000  0.0000000\n",
       " [4,] 0.0000000  0.0000000 0.0000000 0.0000000 0.0000000 0.0000000  0.0000000\n",
       " [5,] 0.0000000  0.0000000 0.0000000 0.0000000 0.0000000 0.0000000  0.0000000\n",
       " [6,] 0.0000000  0.0000000 0.0000000 0.0000000 0.0000000 0.0000000  0.0000000\n",
       " [7,] 0.2178887  0.0000000 0.0000000 0.0000000 0.0000000 0.0000000  0.0000000\n",
       " [8,] 0.0000000 -0.0623992 0.0000000 0.1902141 0.0000000 0.0000000  0.5657580\n",
       " [9,] 0.0000000  0.0000000 0.2048157 0.0000000 0.0000000 0.0000000  0.3759418\n",
       "[10,] 0.0000000  0.0000000 0.0000000 0.1843832 0.0000000 0.0000000  0.3459819\n",
       "[11,] 0.0000000  0.0000000 0.0000000 0.0000000 0.4339714 0.0000000 -0.1891716\n",
       "[12,] 0.0000000  0.0000000 0.0000000 0.0000000 0.0000000 0.6903564 -0.1366822\n",
       "      [,8] [,9] [,10] [,11] [,12]\n",
       " [1,]    0    0     0     0     0\n",
       " [2,]    0    0     0     0     0\n",
       " [3,]    0    0     0     0     0\n",
       " [4,]    0    0     0     0     0\n",
       " [5,]    0    0     0     0     0\n",
       " [6,]    0    0     0     0     0\n",
       " [7,]    0    0     0     0     0\n",
       " [8,]    0    0     0     0     0\n",
       " [9,]    0    0     0     0     0\n",
       "[10,]    0    0     0     0     0\n",
       "[11,]    0    0     0     0     0\n",
       "[12,]    0    0     0     0     0\n",
       "\n",
       "$beta.se\n",
       "            [,1]       [,2]       [,3]       [,4]       [,5]       [,6]\n",
       " [1,] 0.00000000 0.00000000 0.00000000 0.00000000 0.00000000 0.00000000\n",
       " [2,] 0.00000000 0.00000000 0.00000000 0.00000000 0.00000000 0.00000000\n",
       " [3,] 0.00000000 0.00000000 0.00000000 0.00000000 0.00000000 0.00000000\n",
       " [4,] 0.00000000 0.00000000 0.00000000 0.00000000 0.00000000 0.00000000\n",
       " [5,] 0.00000000 0.00000000 0.00000000 0.00000000 0.00000000 0.00000000\n",
       " [6,] 0.00000000 0.00000000 0.00000000 0.00000000 0.00000000 0.00000000\n",
       " [7,] 0.09187786 0.00000000 0.00000000 0.00000000 0.00000000 0.00000000\n",
       " [8,] 0.00000000 0.08313877 0.00000000 0.08281535 0.00000000 0.00000000\n",
       " [9,] 0.00000000 0.00000000 0.08536307 0.00000000 0.00000000 0.00000000\n",
       "[10,] 0.00000000 0.00000000 0.00000000 0.08791592 0.00000000 0.00000000\n",
       "[11,] 0.00000000 0.00000000 0.00000000 0.00000000 0.08416815 0.00000000\n",
       "[12,] 0.00000000 0.00000000 0.00000000 0.00000000 0.00000000 0.06710476\n",
       "            [,7] [,8] [,9] [,10] [,11] [,12]\n",
       " [1,] 0.00000000    0    0     0     0     0\n",
       " [2,] 0.00000000    0    0     0     0     0\n",
       " [3,] 0.00000000    0    0     0     0     0\n",
       " [4,] 0.00000000    0    0     0     0     0\n",
       " [5,] 0.00000000    0    0     0     0     0\n",
       " [6,] 0.00000000    0    0     0     0     0\n",
       " [7,] 0.00000000    0    0     0     0     0\n",
       " [8,] 0.07903760    0    0     0     0     0\n",
       " [9,] 0.08640385    0    0     0     0     0\n",
       "[10,] 0.08899676    0    0     0     0     0\n",
       "[11,] 0.08518044    0    0     0     0     0\n",
       "[12,] 0.06789531    0    0     0     0     0\n",
       "\n",
       "$psi\n",
       "            [,1]        [,2]        [,3]        [,4]        [,5]        [,6]\n",
       " [1,]  0.9994470  0.54618107  0.43583976  0.33952475 -0.18363303 -0.18314617\n",
       " [2,]  0.5461811  0.99994875  0.23527134  0.34397834 -0.13072104 -0.08030562\n",
       " [3,]  0.4358398  0.23527134  0.99943868  0.28759278 -0.18513958 -0.09845788\n",
       " [4,]  0.3395248  0.34397834  0.28759278  0.99963899 -0.21035567 -0.08011838\n",
       " [5,] -0.1836330 -0.13072104 -0.18513958 -0.21035567  0.99911214  0.09187896\n",
       " [6,] -0.1831462 -0.08030562 -0.09845788 -0.08011838  0.09187896  0.99862530\n",
       " [7,]  0.0000000  0.00000000  0.00000000  0.00000000  0.00000000  0.00000000\n",
       " [8,]  0.0000000  0.00000000  0.00000000  0.00000000  0.00000000  0.00000000\n",
       " [9,]  0.0000000  0.00000000  0.00000000  0.00000000  0.00000000  0.00000000\n",
       "[10,]  0.0000000  0.00000000  0.00000000  0.00000000  0.00000000  0.00000000\n",
       "[11,]  0.0000000  0.00000000  0.00000000  0.00000000  0.00000000  0.00000000\n",
       "[12,]  0.0000000  0.00000000  0.00000000  0.00000000  0.00000000  0.00000000\n",
       "          [,7]      [,8]     [,9]     [,10]     [,11]     [,12]\n",
       " [1,] 0.000000 0.0000000 0.000000 0.0000000 0.0000000 0.0000000\n",
       " [2,] 0.000000 0.0000000 0.000000 0.0000000 0.0000000 0.0000000\n",
       " [3,] 0.000000 0.0000000 0.000000 0.0000000 0.0000000 0.0000000\n",
       " [4,] 0.000000 0.0000000 0.000000 0.0000000 0.0000000 0.0000000\n",
       " [5,] 0.000000 0.0000000 0.000000 0.0000000 0.0000000 0.0000000\n",
       " [6,] 0.000000 0.0000000 0.000000 0.0000000 0.0000000 0.0000000\n",
       " [7,] 0.928056 0.0000000 0.000000 0.0000000 0.0000000 0.0000000\n",
       " [8,] 0.000000 0.6637395 0.000000 0.0000000 0.0000000 0.0000000\n",
       " [9,] 0.000000 0.0000000 0.761495 0.0000000 0.0000000 0.0000000\n",
       "[10,] 0.000000 0.0000000 0.000000 0.8498551 0.0000000 0.0000000\n",
       "[11,] 0.000000 0.0000000 0.000000 0.0000000 0.7784112 0.0000000\n",
       "[12,] 0.000000 0.0000000 0.000000 0.0000000 0.0000000 0.4926718\n",
       "\n",
       "$chisq\n",
       "   chisq \n",
       "37.22171 \n",
       "\n",
       "$cfi\n",
       "cfi \n",
       "  1 \n",
       "\n",
       "$tli\n",
       "     tli \n",
       "1.066706 \n",
       "\n",
       "$rmsea\n",
       "rmsea \n",
       "    0 \n",
       "\n",
       "$srmr\n",
       "      srmr \n",
       "0.04690272 \n"
      ]
     },
     "metadata": {},
     "output_type": "display_data"
    }
   ],
   "source": [
    "ms_indiv <- model_summary(model.fit = usem_indiv,\n",
    "                          var.number = 6, \n",
    "                          lag.order = 1)\n",
    "\n",
    "ms_indiv"
   ]
  },
  {
   "cell_type": "markdown",
   "id": "c66ad5b6",
   "metadata": {},
   "source": [
    "#### 检查是否拟合良好"
   ]
  },
  {
   "cell_type": "code",
   "execution_count": 14,
   "id": "dfe679a5",
   "metadata": {},
   "outputs": [
    {
     "name": "stdout",
     "output_type": "stream",
     "text": [
      "[1] TRUE\n"
     ]
    }
   ],
   "source": [
    "#check for good fit\n",
    "print(sum(ms_indiv$cfi > .95, \n",
    "      ms_indiv$tli > .95,\n",
    "      ms_indiv$rmsea < .08,\n",
    "      ms_indiv$srmr < .08) >= 3)"
   ]
  },
  {
   "cell_type": "markdown",
   "id": "eb1892e7",
   "metadata": {},
   "source": [
    "#### 可视化 uSEM model"
   ]
  },
  {
   "cell_type": "code",
   "execution_count": 15,
   "id": "40dff141",
   "metadata": {},
   "outputs": [
    {
     "data": {
      "text/plain": [
       "NULL"
      ]
     },
     "metadata": {},
     "output_type": "display_data"
    },
    {
     "data": {
      "image/png": "[encoded data removed]",
      "text/plain": [
       "plot without title"
      ]
     },
     "metadata": {
      "image/png": {
       "height": 420,
       "width": 420
      }
     },
     "output_type": "display_data"
    }
   ],
   "source": [
    "# 绘制网络图\n",
    "plot_network_graph(ms_indiv$beta, var.number = 6)"
   ]
  },
  {
   "cell_type": "code",
   "execution_count": null,
   "id": "3e933fac",
   "metadata": {},
   "outputs": [],
   "source": []
  },
  {
   "cell_type": "code",
   "execution_count": 16,
   "id": "b29af914",
   "metadata": {},
   "outputs": [
    {
     "data": {
      "text/html": [
       "<table class=\"dataframe\">\n",
       "<caption>A matrix: 6 × 6 of type dbl</caption>\n",
       "<tbody>\n",
       "\t<tr><td>4.545</td><td>4.665</td><td>4.815</td><td>4.625</td><td>5.66</td><td> 9.240</td></tr>\n",
       "\t<tr><td>0.000</td><td>3.275</td><td>0.000</td><td>0.000</td><td>0.00</td><td> 0.000</td></tr>\n",
       "\t<tr><td>0.000</td><td>0.000</td><td>4.440</td><td>0.000</td><td>0.00</td><td> 0.000</td></tr>\n",
       "\t<tr><td>0.000</td><td>4.015</td><td>0.000</td><td>4.195</td><td>0.00</td><td> 0.000</td></tr>\n",
       "\t<tr><td>0.000</td><td>0.000</td><td>0.000</td><td>0.000</td><td>7.14</td><td> 0.000</td></tr>\n",
       "\t<tr><td>0.000</td><td>0.000</td><td>0.000</td><td>0.000</td><td>0.00</td><td>14.455</td></tr>\n",
       "</tbody>\n",
       "</table>\n"
      ],
      "text/latex": [
       "A matrix: 6 × 6 of type dbl\n",
       "\\begin{tabular}{llllll}\n",
       "\t 4.545 & 4.665 & 4.815 & 4.625 & 5.66 &  9.240\\\\\n",
       "\t 0.000 & 3.275 & 0.000 & 0.000 & 0.00 &  0.000\\\\\n",
       "\t 0.000 & 0.000 & 4.440 & 0.000 & 0.00 &  0.000\\\\\n",
       "\t 0.000 & 4.015 & 0.000 & 4.195 & 0.00 &  0.000\\\\\n",
       "\t 0.000 & 0.000 & 0.000 & 0.000 & 7.14 &  0.000\\\\\n",
       "\t 0.000 & 0.000 & 0.000 & 0.000 & 0.00 & 14.455\\\\\n",
       "\\end{tabular}\n"
      ],
      "text/markdown": [
       "\n",
       "A matrix: 6 × 6 of type dbl\n",
       "\n",
       "| 4.545 | 4.665 | 4.815 | 4.625 | 5.66 |  9.240 |\n",
       "| 0.000 | 3.275 | 0.000 | 0.000 | 0.00 |  0.000 |\n",
       "| 0.000 | 0.000 | 4.440 | 0.000 | 0.00 |  0.000 |\n",
       "| 0.000 | 4.015 | 0.000 | 4.195 | 0.00 |  0.000 |\n",
       "| 0.000 | 0.000 | 0.000 | 0.000 | 7.14 |  0.000 |\n",
       "| 0.000 | 0.000 | 0.000 | 0.000 | 0.00 | 14.455 |\n",
       "\n"
      ],
      "text/plain": [
       "     [,1]  [,2]  [,3]  [,4]  [,5] [,6]  \n",
       "[1,] 4.545 4.665 4.815 4.625 5.66  9.240\n",
       "[2,] 0.000 3.275 0.000 0.000 0.00  0.000\n",
       "[3,] 0.000 0.000 4.440 0.000 0.00  0.000\n",
       "[4,] 0.000 4.015 0.000 4.195 0.00  0.000\n",
       "[5,] 0.000 0.000 0.000 0.000 7.14  0.000\n",
       "[6,] 0.000 0.000 0.000 0.000 0.00 14.455"
      ]
     },
     "metadata": {},
     "output_type": "display_data"
    }
   ],
   "source": [
    "#compute recovery time for all nodes\n",
    "recovery_time <- iRAM(model.fit = usem_indiv, \n",
    "     beta = ms_indiv$beta,\n",
    "     var.number = 6,\n",
    "     lag.order = 1, \n",
    "     threshold = 0.01, \n",
    "     boot = TRUE,\n",
    "     replication = 200, steps = 100)\n",
    "\n",
    "#examine mean across the recovery time of all node-pairs\n",
    "recovery_time$mean"
   ]
  },
  {
   "cell_type": "code",
   "execution_count": 17,
   "id": "cf135ecd",
   "metadata": {},
   "outputs": [
    {
     "name": "stderr",
     "output_type": "stream",
     "text": [
      "Warning message:\n",
      "\"\u001b[1m\u001b[22mRemoved 16000 rows containing missing values (`geom_line()`).\"\n"
     ]
    },
    {
     "data": {
      "text/plain": [
       "NULL"
      ]
     },
     "metadata": {},
     "output_type": "display_data"
    },
    {
     "data": {
      "image/png": "[encoded data removed]",
      "text/plain": [
       "plot without title"
      ]
     },
     "metadata": {
      "image/png": {
       "height": 420,
       "width": 420
      }
     },
     "output_type": "display_data"
    }
   ],
   "source": [
    "plot_time_profile(recovery_time$time.profile.data, \n",
    "                  var.number = 6,\n",
    "                  threshold = 0.01,\n",
    "                  xupper = 20)"
   ]
  },
  {
   "cell_type": "code",
   "execution_count": 18,
   "id": "3880c76e",
   "metadata": {},
   "outputs": [
    {
     "name": "stdout",
     "output_type": "stream",
     "text": [
      "[1] 203\n"
     ]
    },
    {
     "name": "stderr",
     "output_type": "stream",
     "text": [
      "Warning message in lavParseModelString(model):\n",
      "\"lavaan WARNING: lhs and rhs are the same in: eta1~0*eta1\"\n",
      "Warning message in lavParseModelString(model):\n",
      "\"lavaan WARNING: lhs and rhs are the same in: eta2~0*eta2\"\n",
      "Warning message in lavParseModelString(model):\n",
      "\"lavaan WARNING: lhs and rhs are the same in: eta3~0*eta3\"\n",
      "Warning message in lavParseModelString(model):\n",
      "\"lavaan WARNING: lhs and rhs are the same in: eta4~0*eta4\"\n",
      "Warning message in lavParseModelString(model):\n",
      "\"lavaan WARNING: lhs and rhs are the same in: eta5~0*eta5\"\n",
      "Warning message in lavParseModelString(model):\n",
      "\"lavaan WARNING: lhs and rhs are the same in: eta6~0*eta6\"\n",
      "Warning message in lavParseModelString(model):\n",
      "\"lavaan WARNING: lhs and rhs are the same in: eta1~0*eta1\"\n",
      "Warning message in lavParseModelString(model):\n",
      "\"lavaan WARNING: lhs and rhs are the same in: eta2~0*eta2\"\n",
      "Warning message in lavParseModelString(model):\n",
      "\"lavaan WARNING: lhs and rhs are the same in: eta3~0*eta3\"\n",
      "Warning message in lavParseModelString(model):\n",
      "\"lavaan WARNING: lhs and rhs are the same in: eta4~0*eta4\"\n",
      "Warning message in lavParseModelString(model):\n",
      "\"lavaan WARNING: lhs and rhs are the same in: eta5~0*eta5\"\n",
      "Warning message in lavParseModelString(model):\n",
      "\"lavaan WARNING: lhs and rhs are the same in: eta6~0*eta6\"\n",
      "Warning message in lavParseModelString(model):\n",
      "\"lavaan WARNING: lhs and rhs are the same in: eta1~0*eta1\"\n",
      "Warning message in lavParseModelString(model):\n",
      "\"lavaan WARNING: lhs and rhs are the same in: eta2~0*eta2\"\n",
      "Warning message in lavParseModelString(model):\n",
      "\"lavaan WARNING: lhs and rhs are the same in: eta3~0*eta3\"\n",
      "Warning message in lavParseModelString(model):\n",
      "\"lavaan WARNING: lhs and rhs are the same in: eta4~0*eta4\"\n",
      "Warning message in lavParseModelString(model):\n",
      "\"lavaan WARNING: lhs and rhs are the same in: eta5~0*eta5\"\n",
      "Warning message in lavParseModelString(model):\n",
      "\"lavaan WARNING: lhs and rhs are the same in: eta6~0*eta6\"\n",
      "Warning message in lavParseModelString(model):\n",
      "\"lavaan WARNING: lhs and rhs are the same in: eta1~0*eta1\"\n",
      "Warning message in lavParseModelString(model):\n",
      "\"lavaan WARNING: lhs and rhs are the same in: eta2~0*eta2\"\n",
      "Warning message in lavParseModelString(model):\n",
      "\"lavaan WARNING: lhs and rhs are the same in: eta3~0*eta3\"\n",
      "Warning message in lavParseModelString(model):\n",
      "\"lavaan WARNING: lhs and rhs are the same in: eta4~0*eta4\"\n",
      "Warning message in lavParseModelString(model):\n",
      "\"lavaan WARNING: lhs and rhs are the same in: eta5~0*eta5\"\n",
      "Warning message in lavParseModelString(model):\n",
      "\"lavaan WARNING: lhs and rhs are the same in: eta6~0*eta6\"\n",
      "Warning message in lavParseModelString(model):\n",
      "\"lavaan WARNING: lhs and rhs are the same in: eta1~0*eta1\"\n",
      "Warning message in lavParseModelString(model):\n",
      "\"lavaan WARNING: lhs and rhs are the same in: eta2~0*eta2\"\n",
      "Warning message in lavParseModelString(model):\n",
      "\"lavaan WARNING: lhs and rhs are the same in: eta3~0*eta3\"\n",
      "Warning message in lavParseModelString(model):\n",
      "\"lavaan WARNING: lhs and rhs are the same in: eta4~0*eta4\"\n",
      "Warning message in lavParseModelString(model):\n",
      "\"lavaan WARNING: lhs and rhs are the same in: eta5~0*eta5\"\n",
      "Warning message in lavParseModelString(model):\n",
      "\"lavaan WARNING: lhs and rhs are the same in: eta6~0*eta6\"\n",
      "Warning message in lavParseModelString(model):\n",
      "\"lavaan WARNING: lhs and rhs are the same in: eta1~0*eta1\"\n",
      "Warning message in lavParseModelString(model):\n",
      "\"lavaan WARNING: lhs and rhs are the same in: eta2~0*eta2\"\n",
      "Warning message in lavParseModelString(model):\n",
      "\"lavaan WARNING: lhs and rhs are the same in: eta3~0*eta3\"\n",
      "Warning message in lavParseModelString(model):\n",
      "\"lavaan WARNING: lhs and rhs are the same in: eta4~0*eta4\"\n",
      "Warning message in lavParseModelString(model):\n",
      "\"lavaan WARNING: lhs and rhs are the same in: eta5~0*eta5\"\n",
      "Warning message in lavParseModelString(model):\n",
      "\"lavaan WARNING: lhs and rhs are the same in: eta6~0*eta6\"\n",
      "Warning message in lavParseModelString(model):\n",
      "\"lavaan WARNING: lhs and rhs are the same in: eta1~0*eta1\"\n",
      "Warning message in lavParseModelString(model):\n",
      "\"lavaan WARNING: lhs and rhs are the same in: eta2~0*eta2\"\n",
      "Warning message in lavParseModelString(model):\n",
      "\"lavaan WARNING: lhs and rhs are the same in: eta3~0*eta3\"\n",
      "Warning message in lavParseModelString(model):\n",
      "\"lavaan WARNING: lhs and rhs are the same in: eta4~0*eta4\"\n",
      "Warning message in lavParseModelString(model):\n",
      "\"lavaan WARNING: lhs and rhs are the same in: eta5~0*eta5\"\n",
      "Warning message in lavParseModelString(model):\n",
      "\"lavaan WARNING: lhs and rhs are the same in: eta6~0*eta6\"\n"
     ]
    },
    {
     "name": "stdout",
     "output_type": "stream",
     "text": [
      "[1] TRUE\n",
      "[1] 204\n"
     ]
    },
    {
     "name": "stderr",
     "output_type": "stream",
     "text": [
      "Warning message in lavParseModelString(model):\n",
      "\"lavaan WARNING: lhs and rhs are the same in: eta1~0*eta1\"\n",
      "Warning message in lavParseModelString(model):\n",
      "\"lavaan WARNING: lhs and rhs are the same in: eta2~0*eta2\"\n",
      "Warning message in lavParseModelString(model):\n",
      "\"lavaan WARNING: lhs and rhs are the same in: eta3~0*eta3\"\n",
      "Warning message in lavParseModelString(model):\n",
      "\"lavaan WARNING: lhs and rhs are the same in: eta4~0*eta4\"\n",
      "Warning message in lavParseModelString(model):\n",
      "\"lavaan WARNING: lhs and rhs are the same in: eta5~0*eta5\"\n",
      "Warning message in lavParseModelString(model):\n",
      "\"lavaan WARNING: lhs and rhs are the same in: eta6~0*eta6\"\n",
      "Warning message in lavParseModelString(model):\n",
      "\"lavaan WARNING: lhs and rhs are the same in: eta1~0*eta1\"\n",
      "Warning message in lavParseModelString(model):\n",
      "\"lavaan WARNING: lhs and rhs are the same in: eta2~0*eta2\"\n",
      "Warning message in lavParseModelString(model):\n",
      "\"lavaan WARNING: lhs and rhs are the same in: eta3~0*eta3\"\n",
      "Warning message in lavParseModelString(model):\n",
      "\"lavaan WARNING: lhs and rhs are the same in: eta4~0*eta4\"\n",
      "Warning message in lavParseModelString(model):\n",
      "\"lavaan WARNING: lhs and rhs are the same in: eta5~0*eta5\"\n",
      "Warning message in lavParseModelString(model):\n",
      "\"lavaan WARNING: lhs and rhs are the same in: eta6~0*eta6\"\n",
      "Warning message in lavParseModelString(model):\n",
      "\"lavaan WARNING: lhs and rhs are the same in: eta1~0*eta1\"\n",
      "Warning message in lavParseModelString(model):\n",
      "\"lavaan WARNING: lhs and rhs are the same in: eta2~0*eta2\"\n",
      "Warning message in lavParseModelString(model):\n",
      "\"lavaan WARNING: lhs and rhs are the same in: eta3~0*eta3\"\n",
      "Warning message in lavParseModelString(model):\n",
      "\"lavaan WARNING: lhs and rhs are the same in: eta4~0*eta4\"\n",
      "Warning message in lavParseModelString(model):\n",
      "\"lavaan WARNING: lhs and rhs are the same in: eta5~0*eta5\"\n",
      "Warning message in lavParseModelString(model):\n",
      "\"lavaan WARNING: lhs and rhs are the same in: eta6~0*eta6\"\n",
      "Warning message in lavParseModelString(model):\n",
      "\"lavaan WARNING: lhs and rhs are the same in: eta1~0*eta1\"\n",
      "Warning message in lavParseModelString(model):\n",
      "\"lavaan WARNING: lhs and rhs are the same in: eta2~0*eta2\"\n",
      "Warning message in lavParseModelString(model):\n",
      "\"lavaan WARNING: lhs and rhs are the same in: eta3~0*eta3\"\n",
      "Warning message in lavParseModelString(model):\n",
      "\"lavaan WARNING: lhs and rhs are the same in: eta4~0*eta4\"\n",
      "Warning message in lavParseModelString(model):\n",
      "\"lavaan WARNING: lhs and rhs are the same in: eta5~0*eta5\"\n",
      "Warning message in lavParseModelString(model):\n",
      "\"lavaan WARNING: lhs and rhs are the same in: eta6~0*eta6\"\n",
      "Warning message in lavParseModelString(model):\n",
      "\"lavaan WARNING: lhs and rhs are the same in: eta1~0*eta1\"\n",
      "Warning message in lavParseModelString(model):\n",
      "\"lavaan WARNING: lhs and rhs are the same in: eta2~0*eta2\"\n",
      "Warning message in lavParseModelString(model):\n",
      "\"lavaan WARNING: lhs and rhs are the same in: eta3~0*eta3\"\n",
      "Warning message in lavParseModelString(model):\n",
      "\"lavaan WARNING: lhs and rhs are the same in: eta4~0*eta4\"\n",
      "Warning message in lavParseModelString(model):\n",
      "\"lavaan WARNING: lhs and rhs are the same in: eta5~0*eta5\"\n",
      "Warning message in lavParseModelString(model):\n",
      "\"lavaan WARNING: lhs and rhs are the same in: eta6~0*eta6\"\n",
      "Warning message in lavParseModelString(model):\n",
      "\"lavaan WARNING: lhs and rhs are the same in: eta1~0*eta1\"\n",
      "Warning message in lavParseModelString(model):\n",
      "\"lavaan WARNING: lhs and rhs are the same in: eta2~0*eta2\"\n",
      "Warning message in lavParseModelString(model):\n",
      "\"lavaan WARNING: lhs and rhs are the same in: eta3~0*eta3\"\n",
      "Warning message in lavParseModelString(model):\n",
      "\"lavaan WARNING: lhs and rhs are the same in: eta4~0*eta4\"\n",
      "Warning message in lavParseModelString(model):\n",
      "\"lavaan WARNING: lhs and rhs are the same in: eta5~0*eta5\"\n",
      "Warning message in lavParseModelString(model):\n",
      "\"lavaan WARNING: lhs and rhs are the same in: eta6~0*eta6\"\n",
      "Warning message in lavParseModelString(model):\n",
      "\"lavaan WARNING: lhs and rhs are the same in: eta1~0*eta1\"\n",
      "Warning message in lavParseModelString(model):\n",
      "\"lavaan WARNING: lhs and rhs are the same in: eta2~0*eta2\"\n",
      "Warning message in lavParseModelString(model):\n",
      "\"lavaan WARNING: lhs and rhs are the same in: eta3~0*eta3\"\n",
      "Warning message in lavParseModelString(model):\n",
      "\"lavaan WARNING: lhs and rhs are the same in: eta4~0*eta4\"\n",
      "Warning message in lavParseModelString(model):\n",
      "\"lavaan WARNING: lhs and rhs are the same in: eta5~0*eta5\"\n",
      "Warning message in lavParseModelString(model):\n",
      "\"lavaan WARNING: lhs and rhs are the same in: eta6~0*eta6\"\n",
      "Warning message in lavParseModelString(model):\n",
      "\"lavaan WARNING: lhs and rhs are the same in: eta1~0*eta1\"\n",
      "Warning message in lavParseModelString(model):\n",
      "\"lavaan WARNING: lhs and rhs are the same in: eta2~0*eta2\"\n",
      "Warning message in lavParseModelString(model):\n",
      "\"lavaan WARNING: lhs and rhs are the same in: eta3~0*eta3\"\n",
      "Warning message in lavParseModelString(model):\n",
      "\"lavaan WARNING: lhs and rhs are the same in: eta4~0*eta4\"\n",
      "Warning message in lavParseModelString(model):\n",
      "\"lavaan WARNING: lhs and rhs are the same in: eta5~0*eta5\"\n",
      "Warning message in lavParseModelString(model):\n",
      "\"lavaan WARNING: lhs and rhs are the same in: eta6~0*eta6\"\n",
      "Warning message in lavParseModelString(model):\n",
      "\"lavaan WARNING: lhs and rhs are the same in: eta1~0*eta1\"\n",
      "Warning message in lavParseModelString(model):\n",
      "\"lavaan WARNING: lhs and rhs are the same in: eta2~0*eta2\"\n",
      "Warning message in lavParseModelString(model):\n",
      "\"lavaan WARNING: lhs and rhs are the same in: eta3~0*eta3\"\n",
      "Warning message in lavParseModelString(model):\n",
      "\"lavaan WARNING: lhs and rhs are the same in: eta4~0*eta4\"\n",
      "Warning message in lavParseModelString(model):\n",
      "\"lavaan WARNING: lhs and rhs are the same in: eta5~0*eta5\"\n",
      "Warning message in lavParseModelString(model):\n",
      "\"lavaan WARNING: lhs and rhs are the same in: eta6~0*eta6\"\n"
     ]
    },
    {
     "name": "stdout",
     "output_type": "stream",
     "text": [
      "[1] TRUE\n",
      "[1] 205\n"
     ]
    },
    {
     "name": "stderr",
     "output_type": "stream",
     "text": [
      "Warning message in lavParseModelString(model):\n",
      "\"lavaan WARNING: lhs and rhs are the same in: eta1~0*eta1\"\n",
      "Warning message in lavParseModelString(model):\n",
      "\"lavaan WARNING: lhs and rhs are the same in: eta2~0*eta2\"\n",
      "Warning message in lavParseModelString(model):\n",
      "\"lavaan WARNING: lhs and rhs are the same in: eta3~0*eta3\"\n",
      "Warning message in lavParseModelString(model):\n",
      "\"lavaan WARNING: lhs and rhs are the same in: eta4~0*eta4\"\n",
      "Warning message in lavParseModelString(model):\n",
      "\"lavaan WARNING: lhs and rhs are the same in: eta5~0*eta5\"\n",
      "Warning message in lavParseModelString(model):\n",
      "\"lavaan WARNING: lhs and rhs are the same in: eta6~0*eta6\"\n",
      "Warning message in lavParseModelString(model):\n",
      "\"lavaan WARNING: lhs and rhs are the same in: eta1~0*eta1\"\n",
      "Warning message in lavParseModelString(model):\n",
      "\"lavaan WARNING: lhs and rhs are the same in: eta2~0*eta2\"\n",
      "Warning message in lavParseModelString(model):\n",
      "\"lavaan WARNING: lhs and rhs are the same in: eta3~0*eta3\"\n",
      "Warning message in lavParseModelString(model):\n",
      "\"lavaan WARNING: lhs and rhs are the same in: eta4~0*eta4\"\n",
      "Warning message in lavParseModelString(model):\n",
      "\"lavaan WARNING: lhs and rhs are the same in: eta5~0*eta5\"\n",
      "Warning message in lavParseModelString(model):\n",
      "\"lavaan WARNING: lhs and rhs are the same in: eta6~0*eta6\"\n",
      "Warning message in lavParseModelString(model):\n",
      "\"lavaan WARNING: lhs and rhs are the same in: eta1~0*eta1\"\n",
      "Warning message in lavParseModelString(model):\n",
      "\"lavaan WARNING: lhs and rhs are the same in: eta2~0*eta2\"\n",
      "Warning message in lavParseModelString(model):\n",
      "\"lavaan WARNING: lhs and rhs are the same in: eta3~0*eta3\"\n",
      "Warning message in lavParseModelString(model):\n",
      "\"lavaan WARNING: lhs and rhs are the same in: eta4~0*eta4\"\n",
      "Warning message in lavParseModelString(model):\n",
      "\"lavaan WARNING: lhs and rhs are the same in: eta5~0*eta5\"\n",
      "Warning message in lavParseModelString(model):\n",
      "\"lavaan WARNING: lhs and rhs are the same in: eta6~0*eta6\"\n",
      "Warning message in lavParseModelString(model):\n",
      "\"lavaan WARNING: lhs and rhs are the same in: eta1~0*eta1\"\n",
      "Warning message in lavParseModelString(model):\n",
      "\"lavaan WARNING: lhs and rhs are the same in: eta2~0*eta2\"\n",
      "Warning message in lavParseModelString(model):\n",
      "\"lavaan WARNING: lhs and rhs are the same in: eta3~0*eta3\"\n",
      "Warning message in lavParseModelString(model):\n",
      "\"lavaan WARNING: lhs and rhs are the same in: eta4~0*eta4\"\n",
      "Warning message in lavParseModelString(model):\n",
      "\"lavaan WARNING: lhs and rhs are the same in: eta5~0*eta5\"\n",
      "Warning message in lavParseModelString(model):\n",
      "\"lavaan WARNING: lhs and rhs are the same in: eta6~0*eta6\"\n",
      "Warning message in lavParseModelString(model):\n",
      "\"lavaan WARNING: lhs and rhs are the same in: eta1~0*eta1\"\n",
      "Warning message in lavParseModelString(model):\n",
      "\"lavaan WARNING: lhs and rhs are the same in: eta2~0*eta2\"\n",
      "Warning message in lavParseModelString(model):\n",
      "\"lavaan WARNING: lhs and rhs are the same in: eta3~0*eta3\"\n",
      "Warning message in lavParseModelString(model):\n",
      "\"lavaan WARNING: lhs and rhs are the same in: eta4~0*eta4\"\n",
      "Warning message in lavParseModelString(model):\n",
      "\"lavaan WARNING: lhs and rhs are the same in: eta5~0*eta5\"\n",
      "Warning message in lavParseModelString(model):\n",
      "\"lavaan WARNING: lhs and rhs are the same in: eta6~0*eta6\"\n",
      "Warning message in lavParseModelString(model):\n",
      "\"lavaan WARNING: lhs and rhs are the same in: eta1~0*eta1\"\n",
      "Warning message in lavParseModelString(model):\n",
      "\"lavaan WARNING: lhs and rhs are the same in: eta2~0*eta2\"\n",
      "Warning message in lavParseModelString(model):\n",
      "\"lavaan WARNING: lhs and rhs are the same in: eta3~0*eta3\"\n",
      "Warning message in lavParseModelString(model):\n",
      "\"lavaan WARNING: lhs and rhs are the same in: eta4~0*eta4\"\n",
      "Warning message in lavParseModelString(model):\n",
      "\"lavaan WARNING: lhs and rhs are the same in: eta5~0*eta5\"\n",
      "Warning message in lavParseModelString(model):\n",
      "\"lavaan WARNING: lhs and rhs are the same in: eta6~0*eta6\"\n",
      "Warning message in lavParseModelString(model):\n",
      "\"lavaan WARNING: lhs and rhs are the same in: eta1~0*eta1\"\n",
      "Warning message in lavParseModelString(model):\n",
      "\"lavaan WARNING: lhs and rhs are the same in: eta2~0*eta2\"\n",
      "Warning message in lavParseModelString(model):\n",
      "\"lavaan WARNING: lhs and rhs are the same in: eta3~0*eta3\"\n",
      "Warning message in lavParseModelString(model):\n",
      "\"lavaan WARNING: lhs and rhs are the same in: eta4~0*eta4\"\n",
      "Warning message in lavParseModelString(model):\n",
      "\"lavaan WARNING: lhs and rhs are the same in: eta5~0*eta5\"\n",
      "Warning message in lavParseModelString(model):\n",
      "\"lavaan WARNING: lhs and rhs are the same in: eta6~0*eta6\"\n",
      "Warning message in lavParseModelString(model):\n",
      "\"lavaan WARNING: lhs and rhs are the same in: eta1~0*eta1\"\n",
      "Warning message in lavParseModelString(model):\n",
      "\"lavaan WARNING: lhs and rhs are the same in: eta2~0*eta2\"\n",
      "Warning message in lavParseModelString(model):\n",
      "\"lavaan WARNING: lhs and rhs are the same in: eta3~0*eta3\"\n",
      "Warning message in lavParseModelString(model):\n",
      "\"lavaan WARNING: lhs and rhs are the same in: eta4~0*eta4\"\n",
      "Warning message in lavParseModelString(model):\n",
      "\"lavaan WARNING: lhs and rhs are the same in: eta5~0*eta5\"\n",
      "Warning message in lavParseModelString(model):\n",
      "\"lavaan WARNING: lhs and rhs are the same in: eta6~0*eta6\"\n",
      "Warning message in lavParseModelString(model):\n",
      "\"lavaan WARNING: lhs and rhs are the same in: eta1~0*eta1\"\n",
      "Warning message in lavParseModelString(model):\n",
      "\"lavaan WARNING: lhs and rhs are the same in: eta2~0*eta2\"\n",
      "Warning message in lavParseModelString(model):\n",
      "\"lavaan WARNING: lhs and rhs are the same in: eta3~0*eta3\"\n",
      "Warning message in lavParseModelString(model):\n",
      "\"lavaan WARNING: lhs and rhs are the same in: eta4~0*eta4\"\n",
      "Warning message in lavParseModelString(model):\n",
      "\"lavaan WARNING: lhs and rhs are the same in: eta5~0*eta5\"\n",
      "Warning message in lavParseModelString(model):\n",
      "\"lavaan WARNING: lhs and rhs are the same in: eta6~0*eta6\"\n",
      "Warning message in lavParseModelString(model):\n",
      "\"lavaan WARNING: lhs and rhs are the same in: eta1~0*eta1\"\n",
      "Warning message in lavParseModelString(model):\n",
      "\"lavaan WARNING: lhs and rhs are the same in: eta2~0*eta2\"\n",
      "Warning message in lavParseModelString(model):\n",
      "\"lavaan WARNING: lhs and rhs are the same in: eta3~0*eta3\"\n",
      "Warning message in lavParseModelString(model):\n",
      "\"lavaan WARNING: lhs and rhs are the same in: eta4~0*eta4\"\n",
      "Warning message in lavParseModelString(model):\n",
      "\"lavaan WARNING: lhs and rhs are the same in: eta5~0*eta5\"\n",
      "Warning message in lavParseModelString(model):\n",
      "\"lavaan WARNING: lhs and rhs are the same in: eta6~0*eta6\"\n",
      "Warning message in lavParseModelString(model):\n",
      "\"lavaan WARNING: lhs and rhs are the same in: eta1~0*eta1\"\n",
      "Warning message in lavParseModelString(model):\n",
      "\"lavaan WARNING: lhs and rhs are the same in: eta2~0*eta2\"\n",
      "Warning message in lavParseModelString(model):\n",
      "\"lavaan WARNING: lhs and rhs are the same in: eta3~0*eta3\"\n",
      "Warning message in lavParseModelString(model):\n",
      "\"lavaan WARNING: lhs and rhs are the same in: eta4~0*eta4\"\n",
      "Warning message in lavParseModelString(model):\n",
      "\"lavaan WARNING: lhs and rhs are the same in: eta5~0*eta5\"\n",
      "Warning message in lavParseModelString(model):\n",
      "\"lavaan WARNING: lhs and rhs are the same in: eta6~0*eta6\"\n"
     ]
    },
    {
     "data": {
      "image/png": "[encoded data removed]",
      "text/plain": [
       "plot without title"
      ]
     },
     "metadata": {
      "image/png": {
       "height": 420,
       "width": 420
      }
     },
     "output_type": "display_data"
    },
    {
     "name": "stdout",
     "output_type": "stream",
     "text": [
      "[1] TRUE\n",
      "[1] 208\n"
     ]
    },
    {
     "name": "stderr",
     "output_type": "stream",
     "text": [
      "Warning message in lavParseModelString(model):\n",
      "\"lavaan WARNING: lhs and rhs are the same in: eta1~0*eta1\"\n",
      "Warning message in lavParseModelString(model):\n",
      "\"lavaan WARNING: lhs and rhs are the same in: eta2~0*eta2\"\n",
      "Warning message in lavParseModelString(model):\n",
      "\"lavaan WARNING: lhs and rhs are the same in: eta3~0*eta3\"\n",
      "Warning message in lavParseModelString(model):\n",
      "\"lavaan WARNING: lhs and rhs are the same in: eta4~0*eta4\"\n",
      "Warning message in lavParseModelString(model):\n",
      "\"lavaan WARNING: lhs and rhs are the same in: eta5~0*eta5\"\n",
      "Warning message in lavParseModelString(model):\n",
      "\"lavaan WARNING: lhs and rhs are the same in: eta6~0*eta6\"\n",
      "Warning message in lavParseModelString(model):\n",
      "\"lavaan WARNING: lhs and rhs are the same in: eta1~0*eta1\"\n",
      "Warning message in lavParseModelString(model):\n",
      "\"lavaan WARNING: lhs and rhs are the same in: eta2~0*eta2\"\n",
      "Warning message in lavParseModelString(model):\n",
      "\"lavaan WARNING: lhs and rhs are the same in: eta3~0*eta3\"\n",
      "Warning message in lavParseModelString(model):\n",
      "\"lavaan WARNING: lhs and rhs are the same in: eta4~0*eta4\"\n",
      "Warning message in lavParseModelString(model):\n",
      "\"lavaan WARNING: lhs and rhs are the same in: eta5~0*eta5\"\n",
      "Warning message in lavParseModelString(model):\n",
      "\"lavaan WARNING: lhs and rhs are the same in: eta6~0*eta6\"\n",
      "Warning message in lavParseModelString(model):\n",
      "\"lavaan WARNING: lhs and rhs are the same in: eta1~0*eta1\"\n",
      "Warning message in lavParseModelString(model):\n",
      "\"lavaan WARNING: lhs and rhs are the same in: eta2~0*eta2\"\n",
      "Warning message in lavParseModelString(model):\n",
      "\"lavaan WARNING: lhs and rhs are the same in: eta3~0*eta3\"\n",
      "Warning message in lavParseModelString(model):\n",
      "\"lavaan WARNING: lhs and rhs are the same in: eta4~0*eta4\"\n",
      "Warning message in lavParseModelString(model):\n",
      "\"lavaan WARNING: lhs and rhs are the same in: eta5~0*eta5\"\n",
      "Warning message in lavParseModelString(model):\n",
      "\"lavaan WARNING: lhs and rhs are the same in: eta6~0*eta6\"\n",
      "Warning message in lavParseModelString(model):\n",
      "\"lavaan WARNING: lhs and rhs are the same in: eta1~0*eta1\"\n",
      "Warning message in lavParseModelString(model):\n",
      "\"lavaan WARNING: lhs and rhs are the same in: eta2~0*eta2\"\n",
      "Warning message in lavParseModelString(model):\n",
      "\"lavaan WARNING: lhs and rhs are the same in: eta3~0*eta3\"\n",
      "Warning message in lavParseModelString(model):\n",
      "\"lavaan WARNING: lhs and rhs are the same in: eta4~0*eta4\"\n",
      "Warning message in lavParseModelString(model):\n",
      "\"lavaan WARNING: lhs and rhs are the same in: eta5~0*eta5\"\n",
      "Warning message in lavParseModelString(model):\n",
      "\"lavaan WARNING: lhs and rhs are the same in: eta6~0*eta6\"\n",
      "Warning message in lavParseModelString(model):\n",
      "\"lavaan WARNING: lhs and rhs are the same in: eta1~0*eta1\"\n",
      "Warning message in lavParseModelString(model):\n",
      "\"lavaan WARNING: lhs and rhs are the same in: eta2~0*eta2\"\n",
      "Warning message in lavParseModelString(model):\n",
      "\"lavaan WARNING: lhs and rhs are the same in: eta3~0*eta3\"\n",
      "Warning message in lavParseModelString(model):\n",
      "\"lavaan WARNING: lhs and rhs are the same in: eta4~0*eta4\"\n",
      "Warning message in lavParseModelString(model):\n",
      "\"lavaan WARNING: lhs and rhs are the same in: eta5~0*eta5\"\n",
      "Warning message in lavParseModelString(model):\n",
      "\"lavaan WARNING: lhs and rhs are the same in: eta6~0*eta6\"\n",
      "Warning message in lavParseModelString(model):\n",
      "\"lavaan WARNING: lhs and rhs are the same in: eta1~0*eta1\"\n",
      "Warning message in lavParseModelString(model):\n",
      "\"lavaan WARNING: lhs and rhs are the same in: eta2~0*eta2\"\n",
      "Warning message in lavParseModelString(model):\n",
      "\"lavaan WARNING: lhs and rhs are the same in: eta3~0*eta3\"\n",
      "Warning message in lavParseModelString(model):\n",
      "\"lavaan WARNING: lhs and rhs are the same in: eta4~0*eta4\"\n",
      "Warning message in lavParseModelString(model):\n",
      "\"lavaan WARNING: lhs and rhs are the same in: eta5~0*eta5\"\n",
      "Warning message in lavParseModelString(model):\n",
      "\"lavaan WARNING: lhs and rhs are the same in: eta6~0*eta6\"\n",
      "Warning message in lavParseModelString(model):\n",
      "\"lavaan WARNING: lhs and rhs are the same in: eta1~0*eta1\"\n",
      "Warning message in lavParseModelString(model):\n",
      "\"lavaan WARNING: lhs and rhs are the same in: eta2~0*eta2\"\n",
      "Warning message in lavParseModelString(model):\n",
      "\"lavaan WARNING: lhs and rhs are the same in: eta3~0*eta3\"\n",
      "Warning message in lavParseModelString(model):\n",
      "\"lavaan WARNING: lhs and rhs are the same in: eta4~0*eta4\"\n",
      "Warning message in lavParseModelString(model):\n",
      "\"lavaan WARNING: lhs and rhs are the same in: eta5~0*eta5\"\n",
      "Warning message in lavParseModelString(model):\n",
      "\"lavaan WARNING: lhs and rhs are the same in: eta6~0*eta6\"\n",
      "Warning message in lavParseModelString(model):\n",
      "\"lavaan WARNING: lhs and rhs are the same in: eta1~0*eta1\"\n",
      "Warning message in lavParseModelString(model):\n",
      "\"lavaan WARNING: lhs and rhs are the same in: eta2~0*eta2\"\n",
      "Warning message in lavParseModelString(model):\n",
      "\"lavaan WARNING: lhs and rhs are the same in: eta3~0*eta3\"\n",
      "Warning message in lavParseModelString(model):\n",
      "\"lavaan WARNING: lhs and rhs are the same in: eta4~0*eta4\"\n",
      "Warning message in lavParseModelString(model):\n",
      "\"lavaan WARNING: lhs and rhs are the same in: eta5~0*eta5\"\n",
      "Warning message in lavParseModelString(model):\n",
      "\"lavaan WARNING: lhs and rhs are the same in: eta6~0*eta6\"\n",
      "Warning message in lavParseModelString(model):\n",
      "\"lavaan WARNING: lhs and rhs are the same in: eta1~0*eta1\"\n",
      "Warning message in lavParseModelString(model):\n",
      "\"lavaan WARNING: lhs and rhs are the same in: eta2~0*eta2\"\n",
      "Warning message in lavParseModelString(model):\n",
      "\"lavaan WARNING: lhs and rhs are the same in: eta3~0*eta3\"\n",
      "Warning message in lavParseModelString(model):\n",
      "\"lavaan WARNING: lhs and rhs are the same in: eta4~0*eta4\"\n",
      "Warning message in lavParseModelString(model):\n",
      "\"lavaan WARNING: lhs and rhs are the same in: eta5~0*eta5\"\n",
      "Warning message in lavParseModelString(model):\n",
      "\"lavaan WARNING: lhs and rhs are the same in: eta6~0*eta6\"\n",
      "Warning message in lavParseModelString(model):\n",
      "\"lavaan WARNING: lhs and rhs are the same in: eta1~0*eta1\"\n",
      "Warning message in lavParseModelString(model):\n",
      "\"lavaan WARNING: lhs and rhs are the same in: eta2~0*eta2\"\n",
      "Warning message in lavParseModelString(model):\n",
      "\"lavaan WARNING: lhs and rhs are the same in: eta3~0*eta3\"\n",
      "Warning message in lavParseModelString(model):\n",
      "\"lavaan WARNING: lhs and rhs are the same in: eta4~0*eta4\"\n",
      "Warning message in lavParseModelString(model):\n",
      "\"lavaan WARNING: lhs and rhs are the same in: eta5~0*eta5\"\n",
      "Warning message in lavParseModelString(model):\n",
      "\"lavaan WARNING: lhs and rhs are the same in: eta6~0*eta6\"\n"
     ]
    },
    {
     "data": {
      "image/png": "[encoded data removed]",
      "text/plain": [
       "plot without title"
      ]
     },
     "metadata": {
      "image/png": {
       "height": 420,
       "width": 420
      }
     },
     "output_type": "display_data"
    },
    {
     "name": "stdout",
     "output_type": "stream",
     "text": [
      "[1] TRUE\n",
      "[1] 211\n"
     ]
    },
    {
     "name": "stderr",
     "output_type": "stream",
     "text": [
      "Warning message in lavParseModelString(model):\n",
      "\"lavaan WARNING: lhs and rhs are the same in: eta1~0*eta1\"\n",
      "Warning message in lavParseModelString(model):\n",
      "\"lavaan WARNING: lhs and rhs are the same in: eta2~0*eta2\"\n",
      "Warning message in lavParseModelString(model):\n",
      "\"lavaan WARNING: lhs and rhs are the same in: eta3~0*eta3\"\n",
      "Warning message in lavParseModelString(model):\n",
      "\"lavaan WARNING: lhs and rhs are the same in: eta4~0*eta4\"\n",
      "Warning message in lavParseModelString(model):\n",
      "\"lavaan WARNING: lhs and rhs are the same in: eta5~0*eta5\"\n",
      "Warning message in lavParseModelString(model):\n",
      "\"lavaan WARNING: lhs and rhs are the same in: eta6~0*eta6\"\n",
      "Warning message in lavParseModelString(model):\n",
      "\"lavaan WARNING: lhs and rhs are the same in: eta1~0*eta1\"\n",
      "Warning message in lavParseModelString(model):\n",
      "\"lavaan WARNING: lhs and rhs are the same in: eta2~0*eta2\"\n",
      "Warning message in lavParseModelString(model):\n",
      "\"lavaan WARNING: lhs and rhs are the same in: eta3~0*eta3\"\n",
      "Warning message in lavParseModelString(model):\n",
      "\"lavaan WARNING: lhs and rhs are the same in: eta4~0*eta4\"\n",
      "Warning message in lavParseModelString(model):\n",
      "\"lavaan WARNING: lhs and rhs are the same in: eta5~0*eta5\"\n",
      "Warning message in lavParseModelString(model):\n",
      "\"lavaan WARNING: lhs and rhs are the same in: eta6~0*eta6\"\n",
      "Warning message in lavParseModelString(model):\n",
      "\"lavaan WARNING: lhs and rhs are the same in: eta1~0*eta1\"\n",
      "Warning message in lavParseModelString(model):\n",
      "\"lavaan WARNING: lhs and rhs are the same in: eta2~0*eta2\"\n",
      "Warning message in lavParseModelString(model):\n",
      "\"lavaan WARNING: lhs and rhs are the same in: eta3~0*eta3\"\n",
      "Warning message in lavParseModelString(model):\n",
      "\"lavaan WARNING: lhs and rhs are the same in: eta4~0*eta4\"\n",
      "Warning message in lavParseModelString(model):\n",
      "\"lavaan WARNING: lhs and rhs are the same in: eta5~0*eta5\"\n",
      "Warning message in lavParseModelString(model):\n",
      "\"lavaan WARNING: lhs and rhs are the same in: eta6~0*eta6\"\n",
      "Warning message in lavParseModelString(model):\n",
      "\"lavaan WARNING: lhs and rhs are the same in: eta1~0*eta1\"\n",
      "Warning message in lavParseModelString(model):\n",
      "\"lavaan WARNING: lhs and rhs are the same in: eta2~0*eta2\"\n",
      "Warning message in lavParseModelString(model):\n",
      "\"lavaan WARNING: lhs and rhs are the same in: eta3~0*eta3\"\n",
      "Warning message in lavParseModelString(model):\n",
      "\"lavaan WARNING: lhs and rhs are the same in: eta4~0*eta4\"\n",
      "Warning message in lavParseModelString(model):\n",
      "\"lavaan WARNING: lhs and rhs are the same in: eta5~0*eta5\"\n",
      "Warning message in lavParseModelString(model):\n",
      "\"lavaan WARNING: lhs and rhs are the same in: eta6~0*eta6\"\n",
      "Warning message in lavParseModelString(model):\n",
      "\"lavaan WARNING: lhs and rhs are the same in: eta1~0*eta1\"\n",
      "Warning message in lavParseModelString(model):\n",
      "\"lavaan WARNING: lhs and rhs are the same in: eta2~0*eta2\"\n",
      "Warning message in lavParseModelString(model):\n",
      "\"lavaan WARNING: lhs and rhs are the same in: eta3~0*eta3\"\n",
      "Warning message in lavParseModelString(model):\n",
      "\"lavaan WARNING: lhs and rhs are the same in: eta4~0*eta4\"\n",
      "Warning message in lavParseModelString(model):\n",
      "\"lavaan WARNING: lhs and rhs are the same in: eta5~0*eta5\"\n",
      "Warning message in lavParseModelString(model):\n",
      "\"lavaan WARNING: lhs and rhs are the same in: eta6~0*eta6\"\n",
      "Warning message in lavParseModelString(model):\n",
      "\"lavaan WARNING: lhs and rhs are the same in: eta1~0*eta1\"\n",
      "Warning message in lavParseModelString(model):\n",
      "\"lavaan WARNING: lhs and rhs are the same in: eta2~0*eta2\"\n",
      "Warning message in lavParseModelString(model):\n",
      "\"lavaan WARNING: lhs and rhs are the same in: eta3~0*eta3\"\n",
      "Warning message in lavParseModelString(model):\n",
      "\"lavaan WARNING: lhs and rhs are the same in: eta4~0*eta4\"\n",
      "Warning message in lavParseModelString(model):\n",
      "\"lavaan WARNING: lhs and rhs are the same in: eta5~0*eta5\"\n",
      "Warning message in lavParseModelString(model):\n",
      "\"lavaan WARNING: lhs and rhs are the same in: eta6~0*eta6\"\n",
      "Warning message in lavParseModelString(model):\n",
      "\"lavaan WARNING: lhs and rhs are the same in: eta1~0*eta1\"\n",
      "Warning message in lavParseModelString(model):\n",
      "\"lavaan WARNING: lhs and rhs are the same in: eta2~0*eta2\"\n",
      "Warning message in lavParseModelString(model):\n",
      "\"lavaan WARNING: lhs and rhs are the same in: eta3~0*eta3\"\n",
      "Warning message in lavParseModelString(model):\n",
      "\"lavaan WARNING: lhs and rhs are the same in: eta4~0*eta4\"\n",
      "Warning message in lavParseModelString(model):\n",
      "\"lavaan WARNING: lhs and rhs are the same in: eta5~0*eta5\"\n",
      "Warning message in lavParseModelString(model):\n",
      "\"lavaan WARNING: lhs and rhs are the same in: eta6~0*eta6\"\n",
      "Warning message in lavParseModelString(model):\n",
      "\"lavaan WARNING: lhs and rhs are the same in: eta1~0*eta1\"\n",
      "Warning message in lavParseModelString(model):\n",
      "\"lavaan WARNING: lhs and rhs are the same in: eta2~0*eta2\"\n",
      "Warning message in lavParseModelString(model):\n",
      "\"lavaan WARNING: lhs and rhs are the same in: eta3~0*eta3\"\n",
      "Warning message in lavParseModelString(model):\n",
      "\"lavaan WARNING: lhs and rhs are the same in: eta4~0*eta4\"\n",
      "Warning message in lavParseModelString(model):\n",
      "\"lavaan WARNING: lhs and rhs are the same in: eta5~0*eta5\"\n",
      "Warning message in lavParseModelString(model):\n",
      "\"lavaan WARNING: lhs and rhs are the same in: eta6~0*eta6\"\n",
      "Warning message in lavParseModelString(model):\n",
      "\"lavaan WARNING: lhs and rhs are the same in: eta1~0*eta1\"\n",
      "Warning message in lavParseModelString(model):\n",
      "\"lavaan WARNING: lhs and rhs are the same in: eta2~0*eta2\"\n",
      "Warning message in lavParseModelString(model):\n",
      "\"lavaan WARNING: lhs and rhs are the same in: eta3~0*eta3\"\n",
      "Warning message in lavParseModelString(model):\n",
      "\"lavaan WARNING: lhs and rhs are the same in: eta4~0*eta4\"\n",
      "Warning message in lavParseModelString(model):\n",
      "\"lavaan WARNING: lhs and rhs are the same in: eta5~0*eta5\"\n",
      "Warning message in lavParseModelString(model):\n",
      "\"lavaan WARNING: lhs and rhs are the same in: eta6~0*eta6\"\n",
      "Warning message in lavParseModelString(model):\n",
      "\"lavaan WARNING: lhs and rhs are the same in: eta1~0*eta1\"\n",
      "Warning message in lavParseModelString(model):\n",
      "\"lavaan WARNING: lhs and rhs are the same in: eta2~0*eta2\"\n",
      "Warning message in lavParseModelString(model):\n",
      "\"lavaan WARNING: lhs and rhs are the same in: eta3~0*eta3\"\n",
      "Warning message in lavParseModelString(model):\n",
      "\"lavaan WARNING: lhs and rhs are the same in: eta4~0*eta4\"\n",
      "Warning message in lavParseModelString(model):\n",
      "\"lavaan WARNING: lhs and rhs are the same in: eta5~0*eta5\"\n",
      "Warning message in lavParseModelString(model):\n",
      "\"lavaan WARNING: lhs and rhs are the same in: eta6~0*eta6\"\n"
     ]
    },
    {
     "data": {
      "image/png": "[encoded data removed]",
      "text/plain": [
       "plot without title"
      ]
     },
     "metadata": {
      "image/png": {
       "height": 420,
       "width": 420
      }
     },
     "output_type": "display_data"
    },
    {
     "name": "stdout",
     "output_type": "stream",
     "text": [
      "[1] TRUE\n"
     ]
    },
    {
     "data": {
      "image/png": "[encoded data removed]",
      "text/plain": [
       "plot without title"
      ]
     },
     "metadata": {
      "image/png": {
       "height": 420,
       "width": 420
      }
     },
     "output_type": "display_data"
    },
    {
     "data": {
      "image/png": "[encoded data removed]",
      "text/plain": [
       "plot without title"
      ]
     },
     "metadata": {
      "image/png": {
       "height": 420,
       "width": 420
      }
     },
     "output_type": "display_data"
    }
   ],
   "source": [
    "#create list of ids\n",
    "id_list <- unique(AMIB_interactionP2$id)\n",
    "\n",
    "for (id in id_list[1:5]) # select the first 5 participants as examples\n",
    "{\n",
    "  #select data for individual\n",
    "  data_indiv <- AMIB_interactionP2[AMIB_interactionP2$id == id,]\n",
    "  #standardize data for individual\n",
    "  data_indiv[c(4:9)] <- lapply(data_indiv[c(4:9)], \n",
    "                             function(x) c(scale(x, center=TRUE, scale=TRUE)))\n",
    "  #indicate id\n",
    "  print(id)\n",
    "  \n",
    "  # check column missing\n",
    "  na.col <- 0\n",
    "  for (col in 1:ncol(data_indiv))\n",
    "  {\n",
    "    if (sum(is.na(data_indiv[,col])) == nrow(data_indiv)){\n",
    "          na.col <- na.col + 1\n",
    "    }\n",
    "  }\n",
    "  #fit uSEM model\n",
    "  if (na.col == 0) # no NA column\n",
    "  {\n",
    "      usem_indiv <- uSEM(var.number = 6, \n",
    "                   data = data_indiv[ ,c(4:9)], \n",
    "                   lag.order = 1, \n",
    "                   verbose = FALSE,\n",
    "                   trim = FALSE)\n",
    "  \n",
    "     ms_indiv <- model_summary(\n",
    "       model.fit = usem_indiv,\n",
    "       var.number = 6, \n",
    "       lag.order = 1)\n",
    "     \n",
    "     print(sum(ms_indiv$cfi > .95, \n",
    "           ms_indiv$tli > .95,\n",
    "           ms_indiv$rmsea < .08,\n",
    "           ms_indiv$srmr < .08) >= 3)\n",
    "\n",
    "     plot_network_graph(ms_indiv$beta, var.number = 6)\n",
    "  }\n",
    "}"
   ]
  },
  {
   "cell_type": "markdown",
   "id": "4315f6dc",
   "metadata": {},
   "source": [
    "# multilevel vector-autoregression (mlVAR)"
   ]
  },
  {
   "cell_type": "code",
   "execution_count": 19,
   "id": "79d27796",
   "metadata": {},
   "outputs": [
    {
     "data": {
      "text/html": [
       "<table class=\"dataframe\">\n",
       "<caption>A psych: 9 × 13</caption>\n",
       "<thead>\n",
       "\t<tr><th></th><th scope=col>vars</th><th scope=col>n</th><th scope=col>mean</th><th scope=col>sd</th><th scope=col>median</th><th scope=col>trimmed</th><th scope=col>mad</th><th scope=col>min</th><th scope=col>max</th><th scope=col>range</th><th scope=col>skew</th><th scope=col>kurtosis</th><th scope=col>se</th></tr>\n",
       "\t<tr><th></th><th scope=col>&lt;int&gt;</th><th scope=col>&lt;dbl&gt;</th><th scope=col>&lt;dbl&gt;</th><th scope=col>&lt;dbl&gt;</th><th scope=col>&lt;dbl&gt;</th><th scope=col>&lt;dbl&gt;</th><th scope=col>&lt;dbl&gt;</th><th scope=col>&lt;dbl&gt;</th><th scope=col>&lt;dbl&gt;</th><th scope=col>&lt;dbl&gt;</th><th scope=col>&lt;dbl&gt;</th><th scope=col>&lt;dbl&gt;</th><th scope=col>&lt;dbl&gt;</th></tr>\n",
       "</thead>\n",
       "<tbody>\n",
       "\t<tr><th scope=row>id</th><td>1</td><td>4200</td><td>310.363810</td><td>77.119508</td><td>321</td><td>308.400298</td><td>121.5732</td><td>203</td><td>439</td><td>236</td><td> 0.07454841</td><td>-1.212313267</td><td>1.18997984</td></tr>\n",
       "\t<tr><th scope=row>day</th><td>2</td><td>4200</td><td> 10.570714</td><td> 5.987424</td><td> 10</td><td> 10.495238</td><td>  7.4130</td><td>  1</td><td> 21</td><td> 20</td><td> 0.09407762</td><td>-1.163276968</td><td>0.09238796</td></tr>\n",
       "\t<tr><th scope=row>interaction</th><td>3</td><td>4200</td><td> 73.884048</td><td>45.183178</td><td> 71</td><td> 72.316964</td><td> 54.8562</td><td>  1</td><td>168</td><td>167</td><td> 0.23187029</td><td>-1.002517539</td><td>0.69719157</td></tr>\n",
       "\t<tr><th scope=row>igaff</th><td>4</td><td>4190</td><td>  7.391169</td><td> 1.782375</td><td>  8</td><td>  7.694809</td><td>  1.4826</td><td>  1</td><td>  9</td><td>  8</td><td>-1.43481679</td><td> 2.006018457</td><td>0.02753545</td></tr>\n",
       "\t<tr><th scope=row>igdom</th><td>5</td><td>4190</td><td>  6.915752</td><td> 1.617504</td><td>  7</td><td>  7.084129</td><td>  1.4826</td><td>  1</td><td>  9</td><td>  8</td><td>-0.92867494</td><td> 0.906719824</td><td>0.02498839</td></tr>\n",
       "\t<tr><th scope=row>agval</th><td>6</td><td>4189</td><td>  6.797684</td><td> 2.086323</td><td>  7</td><td>  7.079481</td><td>  2.2239</td><td>  1</td><td>  9</td><td>  8</td><td>-0.93409704</td><td> 0.134382323</td><td>0.03223490</td></tr>\n",
       "\t<tr><th scope=row>agarous</th><td>7</td><td>4189</td><td>  5.915254</td><td> 2.109067</td><td>  6</td><td>  6.039815</td><td>  2.9652</td><td>  1</td><td>  9</td><td>  8</td><td>-0.51396413</td><td>-0.564101693</td><td>0.03258632</td></tr>\n",
       "\t<tr><th scope=row>stress</th><td>8</td><td>4191</td><td>  1.220950</td><td> 1.381207</td><td>  1</td><td>  1.017000</td><td>  1.4826</td><td>  0</td><td>  5</td><td>  5</td><td> 0.96696607</td><td> 0.018512748</td><td>0.02133536</td></tr>\n",
       "\t<tr><th scope=row>health</th><td>9</td><td>4192</td><td>  1.079198</td><td> 1.173324</td><td>  1</td><td>  0.927251</td><td>  1.4826</td><td>  0</td><td>  5</td><td>  5</td><td> 0.88299394</td><td>-0.004833679</td><td>0.01812205</td></tr>\n",
       "</tbody>\n",
       "</table>\n"
      ],
      "text/latex": [
       "A psych: 9 × 13\n",
       "\\begin{tabular}{r|lllllllllllll}\n",
       "  & vars & n & mean & sd & median & trimmed & mad & min & max & range & skew & kurtosis & se\\\\\n",
       "  & <int> & <dbl> & <dbl> & <dbl> & <dbl> & <dbl> & <dbl> & <dbl> & <dbl> & <dbl> & <dbl> & <dbl> & <dbl>\\\\\n",
       "\\hline\n",
       "\tid & 1 & 4200 & 310.363810 & 77.119508 & 321 & 308.400298 & 121.5732 & 203 & 439 & 236 &  0.07454841 & -1.212313267 & 1.18997984\\\\\n",
       "\tday & 2 & 4200 &  10.570714 &  5.987424 &  10 &  10.495238 &   7.4130 &   1 &  21 &  20 &  0.09407762 & -1.163276968 & 0.09238796\\\\\n",
       "\tinteraction & 3 & 4200 &  73.884048 & 45.183178 &  71 &  72.316964 &  54.8562 &   1 & 168 & 167 &  0.23187029 & -1.002517539 & 0.69719157\\\\\n",
       "\tigaff & 4 & 4190 &   7.391169 &  1.782375 &   8 &   7.694809 &   1.4826 &   1 &   9 &   8 & -1.43481679 &  2.006018457 & 0.02753545\\\\\n",
       "\tigdom & 5 & 4190 &   6.915752 &  1.617504 &   7 &   7.084129 &   1.4826 &   1 &   9 &   8 & -0.92867494 &  0.906719824 & 0.02498839\\\\\n",
       "\tagval & 6 & 4189 &   6.797684 &  2.086323 &   7 &   7.079481 &   2.2239 &   1 &   9 &   8 & -0.93409704 &  0.134382323 & 0.03223490\\\\\n",
       "\tagarous & 7 & 4189 &   5.915254 &  2.109067 &   6 &   6.039815 &   2.9652 &   1 &   9 &   8 & -0.51396413 & -0.564101693 & 0.03258632\\\\\n",
       "\tstress & 8 & 4191 &   1.220950 &  1.381207 &   1 &   1.017000 &   1.4826 &   0 &   5 &   5 &  0.96696607 &  0.018512748 & 0.02133536\\\\\n",
       "\thealth & 9 & 4192 &   1.079198 &  1.173324 &   1 &   0.927251 &   1.4826 &   0 &   5 &   5 &  0.88299394 & -0.004833679 & 0.01812205\\\\\n",
       "\\end{tabular}\n"
      ],
      "text/markdown": [
       "\n",
       "A psych: 9 × 13\n",
       "\n",
       "| <!--/--> | vars &lt;int&gt; | n &lt;dbl&gt; | mean &lt;dbl&gt; | sd &lt;dbl&gt; | median &lt;dbl&gt; | trimmed &lt;dbl&gt; | mad &lt;dbl&gt; | min &lt;dbl&gt; | max &lt;dbl&gt; | range &lt;dbl&gt; | skew &lt;dbl&gt; | kurtosis &lt;dbl&gt; | se &lt;dbl&gt; |\n",
       "|---|---|---|---|---|---|---|---|---|---|---|---|---|---|\n",
       "| id | 1 | 4200 | 310.363810 | 77.119508 | 321 | 308.400298 | 121.5732 | 203 | 439 | 236 |  0.07454841 | -1.212313267 | 1.18997984 |\n",
       "| day | 2 | 4200 |  10.570714 |  5.987424 |  10 |  10.495238 |   7.4130 |   1 |  21 |  20 |  0.09407762 | -1.163276968 | 0.09238796 |\n",
       "| interaction | 3 | 4200 |  73.884048 | 45.183178 |  71 |  72.316964 |  54.8562 |   1 | 168 | 167 |  0.23187029 | -1.002517539 | 0.69719157 |\n",
       "| igaff | 4 | 4190 |   7.391169 |  1.782375 |   8 |   7.694809 |   1.4826 |   1 |   9 |   8 | -1.43481679 |  2.006018457 | 0.02753545 |\n",
       "| igdom | 5 | 4190 |   6.915752 |  1.617504 |   7 |   7.084129 |   1.4826 |   1 |   9 |   8 | -0.92867494 |  0.906719824 | 0.02498839 |\n",
       "| agval | 6 | 4189 |   6.797684 |  2.086323 |   7 |   7.079481 |   2.2239 |   1 |   9 |   8 | -0.93409704 |  0.134382323 | 0.03223490 |\n",
       "| agarous | 7 | 4189 |   5.915254 |  2.109067 |   6 |   6.039815 |   2.9652 |   1 |   9 |   8 | -0.51396413 | -0.564101693 | 0.03258632 |\n",
       "| stress | 8 | 4191 |   1.220950 |  1.381207 |   1 |   1.017000 |   1.4826 |   0 |   5 |   5 |  0.96696607 |  0.018512748 | 0.02133536 |\n",
       "| health | 9 | 4192 |   1.079198 |  1.173324 |   1 |   0.927251 |   1.4826 |   0 |   5 |   5 |  0.88299394 | -0.004833679 | 0.01812205 |\n",
       "\n"
      ],
      "text/plain": [
       "            vars n    mean       sd        median trimmed    mad      min max\n",
       "id          1    4200 310.363810 77.119508 321    308.400298 121.5732 203 439\n",
       "day         2    4200  10.570714  5.987424  10     10.495238   7.4130   1  21\n",
       "interaction 3    4200  73.884048 45.183178  71     72.316964  54.8562   1 168\n",
       "igaff       4    4190   7.391169  1.782375   8      7.694809   1.4826   1   9\n",
       "igdom       5    4190   6.915752  1.617504   7      7.084129   1.4826   1   9\n",
       "agval       6    4189   6.797684  2.086323   7      7.079481   2.2239   1   9\n",
       "agarous     7    4189   5.915254  2.109067   6      6.039815   2.9652   1   9\n",
       "stress      8    4191   1.220950  1.381207   1      1.017000   1.4826   0   5\n",
       "health      9    4192   1.079198  1.173324   1      0.927251   1.4826   0   5\n",
       "            range skew        kurtosis     se        \n",
       "id          236    0.07454841 -1.212313267 1.18997984\n",
       "day          20    0.09407762 -1.163276968 0.09238796\n",
       "interaction 167    0.23187029 -1.002517539 0.69719157\n",
       "igaff         8   -1.43481679  2.006018457 0.02753545\n",
       "igdom         8   -0.92867494  0.906719824 0.02498839\n",
       "agval         8   -0.93409704  0.134382323 0.03223490\n",
       "agarous       8   -0.51396413 -0.564101693 0.03258632\n",
       "stress        5    0.96696607  0.018512748 0.02133536\n",
       "health        5    0.88299394 -0.004833679 0.01812205"
      ]
     },
     "metadata": {},
     "output_type": "display_data"
    }
   ],
   "source": [
    "describe(AMIB_interactionP2)"
   ]
  },
  {
   "cell_type": "markdown",
   "id": "1d3f5b1c",
   "metadata": {},
   "source": [
    "#### Plotting six-variate time-series for all persons"
   ]
  },
  {
   "cell_type": "code",
   "execution_count": 20,
   "id": "1ffdc18a",
   "metadata": {},
   "outputs": [
    {
     "data": {
      "image/png": "[encoded data removed]",
      "text/plain": [
       "plot without title"
      ]
     },
     "metadata": {
      "image/png": {
       "height": 420,
       "width": 420
      }
     },
     "output_type": "display_data"
    }
   ],
   "source": [
    "#plotting intraindividual change \n",
    "ggplot(data = AMIB_interactionP2,\n",
    "       aes(x = interaction, group= id)) +\n",
    "  #first variable\n",
    "  geom_line(aes(y=igaff), color=1) +\n",
    "  geom_line(aes(y=igdom), color=2) +\n",
    "  geom_line(aes(y=agval), color=3) +\n",
    "  geom_line(aes(y=agarous), color=4) +\n",
    "  geom_line(aes(y=stress), color=5) +\n",
    "  geom_line(aes(y=health), color=6) +\n",
    "  #plot layouts\n",
    "  scale_x_continuous(name=\"Interaction#\") +\n",
    "  scale_y_continuous(name=\"Raw Values\") +  \n",
    "  theme_classic() +\n",
    "  theme(axis.title=element_text(size=14),\n",
    "        axis.text=element_text(size=14),\n",
    "        plot.title=element_text(size=14, hjust=.5)) +\n",
    "  facet_wrap(~id, ncol=2) +\n",
    "  ggtitle(\"AMIB Phase 2 Data (6 vars)\")"
   ]
  },
  {
   "cell_type": "markdown",
   "id": "c44284a4",
   "metadata": {},
   "source": [
    "#### 拟合Fitting the mlVAR model"
   ]
  },
  {
   "cell_type": "code",
   "execution_count": 21,
   "id": "ef724c46",
   "metadata": {},
   "outputs": [
    {
     "name": "stderr",
     "output_type": "stream",
     "text": [
      "'estimator' argument set to 'lmer'\n",
      "\n",
      "'temporal' argument set to 'correlated'\n",
      "\n",
      "'contemporaneous' argument set to 'correlated'\n",
      "\n",
      "Estimating temporal and between-subjects effects\n",
      "\n"
     ]
    },
    {
     "name": "stdout",
     "output_type": "stream",
     "text": [
      "  |======================================================================| 100%\n"
     ]
    },
    {
     "name": "stderr",
     "output_type": "stream",
     "text": [
      "Estimating contemporaneous effects\n",
      "\n"
     ]
    },
    {
     "name": "stdout",
     "output_type": "stream",
     "text": [
      "  |======================================================================| 100%\n"
     ]
    },
    {
     "name": "stderr",
     "output_type": "stream",
     "text": [
      "Computing random effects\n",
      "\n"
     ]
    },
    {
     "name": "stdout",
     "output_type": "stream",
     "text": [
      "  |======================================================================| 100%\n"
     ]
    }
   ],
   "source": [
    "#fitting mlVAR model\n",
    "mlvar_all <- mlVAR(data = AMIB_interactionP2, \n",
    "                     vars = c(\"igaff\", \"igdom\", \"agval\", \"agarous\", \"stress\", \"health\"),\n",
    "                     idvar = \"id\",\n",
    "                     lags = 1, \n",
    "                     dayvar = \"day\", \n",
    "                     beepvar = \"interaction\")"
   ]
  },
  {
   "cell_type": "code",
   "execution_count": 22,
   "id": "5010a499",
   "metadata": {},
   "outputs": [
    {
     "name": "stdout",
     "output_type": "stream",
     "text": [
      "\n",
      "mlVAR estimation completed. Input was:\n",
      " \t- Variables: igaff igdom agval agarous stress health \n",
      " \t- Lags: 1 \n",
      " \t- Estimator: lmer \n",
      " \t- Temporal: correlated\n",
      "\n",
      "Information indices:\n",
      "     var      aic      bic\n",
      "   igaff 9539.195 9792.416\n",
      "   igdom 9603.567 9856.787\n",
      "   agval 8805.919 9059.140\n",
      " agarous 8843.984 9097.204\n",
      "  stress 6603.003 6856.223\n",
      "  health 5759.345 6012.565\n",
      "\n",
      "\n",
      "Temporal effects:\n",
      "    from      to lag  fixed    SE     P ran_SD\n",
      "   igaff   igaff   1  0.050 0.027 0.070  0.097\n",
      "   igaff   igdom   1 -0.019 0.023 0.417  0.060\n",
      "   igaff   agval   1 -0.009 0.020 0.658  0.043\n",
      "   igaff agarous   1 -0.039 0.018 0.032  0.026\n",
      "   igaff  stress   1  0.017 0.020 0.396  0.077\n",
      "   igaff  health   1  0.027 0.014 0.049  0.037\n",
      "   igdom   igaff   1 -0.025 0.018 0.181  0.027\n",
      "   igdom   igdom   1  0.034 0.026 0.192  0.096\n",
      "   igdom   agval   1 -0.036 0.016 0.025  0.017\n",
      "   igdom agarous   1  0.035 0.017 0.040  0.034\n",
      "   igdom  stress   1  0.026 0.012 0.032  0.017\n",
      "   igdom  health   1  0.006 0.012 0.595  0.028\n",
      "   agval   igaff   1 -0.006 0.025 0.815  0.060\n",
      "   agval   igdom   1  0.015 0.029 0.603  0.089\n",
      "   agval   agval   1  0.146 0.034 0.000  0.136\n",
      "   agval agarous   1  0.026 0.022 0.247  0.042\n",
      "   agval  stress   1  0.029 0.017 0.085  0.042\n",
      "   agval  health   1  0.004 0.014 0.771  0.023\n",
      " agarous   igaff   1 -0.008 0.029 0.769  0.115\n",
      " agarous   igdom   1  0.058 0.026 0.028  0.094\n",
      " agarous   agval   1  0.013 0.019 0.489  0.046\n",
      " agarous agarous   1  0.187 0.026 0.000  0.102\n",
      " agarous  stress   1 -0.020 0.015 0.203  0.049\n",
      " agarous  health   1 -0.004 0.014 0.767  0.044\n",
      "  stress   igaff   1 -0.067 0.023 0.004  0.023\n",
      "  stress   igdom   1  0.003 0.026 0.904  0.065\n",
      "  stress   agval   1 -0.174 0.032 0.000  0.124\n",
      "  stress agarous   1  0.052 0.041 0.207  0.186\n",
      "  stress  stress   1  0.641 0.042 0.000  0.208\n",
      "  stress  health   1  0.048 0.018 0.008  0.061\n",
      "  health   igaff   1 -0.010 0.031 0.737  0.110\n",
      "  health   igdom   1  0.021 0.028 0.459  0.087\n",
      "  health   agval   1 -0.054 0.026 0.036  0.083\n",
      "  health agarous   1 -0.084 0.026 0.001  0.083\n",
      "  health  stress   1  0.069 0.021 0.001  0.073\n",
      "  health  health   1  0.657 0.037 0.000  0.182\n",
      "\n",
      "\n",
      "Contemporaneous effects (posthoc estimated):\n",
      "      v1      v2 P 1->2 P 1<-2   pcor ran_SD_pcor    cor ran_SD_cor\n",
      "   igdom   igaff  0.000  0.000  0.184       0.175  0.250      0.211\n",
      "   agval   igaff  0.000  0.000  0.385       0.131  0.461      0.153\n",
      "   agval   igdom  0.014  0.086  0.057       0.081  0.167      0.139\n",
      " agarous   igaff  0.206  0.074  0.041       0.075  0.103      0.101\n",
      " agarous   igdom  0.000  0.000  0.226       0.080  0.247      0.103\n",
      " agarous   agval  0.456  0.908  0.016       0.129  0.063      0.152\n",
      "  stress   igaff  0.002  0.038 -0.060       0.059 -0.239      0.145\n",
      "  stress   igdom  0.508  0.616  0.013       0.045 -0.059      0.090\n",
      "  stress   agval  0.000  0.000 -0.343       0.152 -0.426      0.174\n",
      "  stress agarous  0.001  0.004  0.076       0.062  0.025      0.092\n",
      "  health   igaff  0.496  0.617  0.010       0.012 -0.099      0.119\n",
      "  health   igdom  0.658  0.624 -0.010       0.032 -0.062      0.057\n",
      "  health   agval  0.002  0.000 -0.090       0.068 -0.195      0.148\n",
      "  health agarous  0.000  0.000 -0.105       0.062 -0.108      0.058\n",
      "  health  stress  0.000  0.000  0.188       0.208  0.244      0.222\n",
      "\n",
      "\n",
      "Between-subject effects:\n",
      "      v1      v2 P 1->2 P 1<-2   pcor    cor\n",
      "   igdom   igaff  0.053  0.012  0.320  0.422\n",
      "   agval   igaff  0.000  0.000  0.657  0.799\n",
      "   agval   igdom  0.201  0.332 -0.182  0.257\n",
      " agarous   igaff  0.533  0.437 -0.027  0.327\n",
      " agarous   igdom  0.000  0.013  0.472  0.532\n",
      " agarous   agval  0.267  0.265  0.169  0.296\n",
      "  stress   igaff  0.512  0.493  0.101 -0.486\n",
      "  stress   igdom  0.583  0.778  0.071 -0.109\n",
      "  stress   agval  0.251  0.102 -0.219 -0.613\n",
      "  stress agarous  0.741  0.780  0.050 -0.103\n",
      "  health   igaff  0.013  0.844 -0.172 -0.616\n",
      "  health   igdom  0.695  0.494 -0.090 -0.236\n",
      "  health   agval  0.362  0.253 -0.161 -0.681\n",
      "  health agarous  0.888  0.650  0.023 -0.186\n",
      "  health  stress  0.000  0.000  0.641  0.782\n"
     ]
    }
   ],
   "source": [
    "# Summary of all parameter estimates:\n",
    "summary(mlvar_all)"
   ]
  },
  {
   "cell_type": "markdown",
   "id": "ae470f7f",
   "metadata": {},
   "source": [
    "#### Plot the group-level networks for within-person and between-person relations."
   ]
  },
  {
   "cell_type": "code",
   "execution_count": 23,
   "id": "1d1a4b8b",
   "metadata": {},
   "outputs": [
    {
     "data": {
      "image/png": "[encoded data removed]",
      "text/plain": [
       "plot without title"
      ]
     },
     "metadata": {
      "image/png": {
       "height": 420,
       "width": 420
      }
     },
     "output_type": "display_data"
    }
   ],
   "source": [
    "# Plot temporal relations:\n",
    "plot(mlvar_all, \"temporal\", title = \"Within-person temporal (lag-1) relations\", layout = \"circle\", nonsig = \"hide\")"
   ]
  },
  {
   "cell_type": "code",
   "execution_count": 24,
   "id": "da31d321",
   "metadata": {},
   "outputs": [
    {
     "data": {
      "image/png": "[encoded data removed]",
      "text/plain": [
       "plot without title"
      ]
     },
     "metadata": {
      "image/png": {
       "height": 420,
       "width": 420
      }
     },
     "output_type": "display_data"
    }
   ],
   "source": [
    "# Plot contemporaneous partial correlations:\n",
    "plot(mlvar_all, \"contemporaneous\", title = \"Within-person contemporaneous relations\",\n",
    "layout = \"circle\", nonsig = \"hide\")"
   ]
  },
  {
   "cell_type": "code",
   "execution_count": 25,
   "id": "03ffa0bc",
   "metadata": {},
   "outputs": [
    {
     "data": {
      "image/png": "[encoded data removed]",
      "text/plain": [
       "plot without title"
      ]
     },
     "metadata": {
      "image/png": {
       "height": 420,
       "width": 420
      }
     },
     "output_type": "display_data"
    }
   ],
   "source": [
    "# Plot between-persons partial correlations:\n",
    "plot(mlvar_all, \"between\", title = \"Between-person relations\", layout = \"circle\", nonsig = \"hide\")"
   ]
  },
  {
   "cell_type": "code",
   "execution_count": null,
   "id": "e70f9342",
   "metadata": {},
   "outputs": [],
   "source": []
  }
 ],
 "metadata": {
  "kernelspec": {
   "display_name": "R",
   "language": "R",
   "name": "ir"
  },
  "language_info": {
   "codemirror_mode": "r",
   "file_extension": ".r",
   "mimetype": "text/x-r-source",
   "name": "R",
   "pygments_lexer": "r",
   "version": "4.2.1"
  }
 },
 "nbformat": 4,
 "nbformat_minor": 5
}
