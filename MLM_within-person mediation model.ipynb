{
 "cells": [
  {
   "cell_type": "markdown",
   "id": "be880709",
   "metadata": {},
   "source": [
    "# 目录\n",
    "\n",
    "#### 1、模型介绍\n",
    "\n",
    "#### 2、基于R实现\n",
    "\n",
    "#### "
   ]
  },
  {
   "attachments": {
    "image.png": {
     "image/png": "[encoded data removed]"
    }
   },
   "cell_type": "markdown",
   "id": "1548ba98",
   "metadata": {},
   "source": [
    "# 多层线性模型处理追踪数据：中介分析\n",
    "\n",
    "所谓中介分析就是探讨 X 对 Y 的影响，是否以及如何通过中介因素（M）起作用。\n",
    "\n",
    "### 个体内的中介效应分析：\n",
    "\n",
    "![image.png](attachment:image.png)\n",
    "\n",
    "X、M、Y都是个体内变量，i代表某个体，t代表某时间点\n",
    "\n",
    "\n",
    "#### 接下来我们围绕这样一个例子展开：\n",
    "\n",
    "每日的工作压力对每日的关系不满意度的影响：工作满意度的中介作用"
   ]
  },
  {
   "cell_type": "code",
   "execution_count": 1,
   "id": "d2521726",
   "metadata": {},
   "outputs": [
    {
     "name": "stderr",
     "output_type": "stream",
     "text": [
      "Warning message:\n",
      "\"程辑包'ggplot2'是用R版本4.2.3 来建造的\"\n",
      "Warning message:\n",
      "\"程辑包'psych'是用R版本4.2.3 来建造的\"\n",
      "\n",
      "载入程辑包：'psych'\n",
      "\n",
      "\n",
      "The following objects are masked from 'package:ggplot2':\n",
      "\n",
      "    %+%, alpha\n",
      "\n",
      "\n",
      "The following object is masked from 'package:boot':\n",
      "\n",
      "    logit\n",
      "\n",
      "\n"
     ]
    }
   ],
   "source": [
    "library(boot) # 使用 boostrap 方法\n",
    "library(ggplot2) # 可视化\n",
    "library(nlme) # 多层线性模型建模\n",
    "library(psych) # 描述数据\n",
    "library(reshape2) #整理数据 \n"
   ]
  },
  {
   "cell_type": "markdown",
   "id": "8dcfbc3f",
   "metadata": {},
   "source": [
    "#### 自变量\n",
    "\n",
    "fwkstrcw ：女性的工作压力（已做过中心化处理）\n",
    "\n",
    "fwkdiscw ：女性工作满意度（已做过中心化处理）\n",
    "\n",
    "#### 结果变量：\n",
    "\n",
    "freldiscw ：女性关系满意度（已做过中心化处理）"
   ]
  },
  {
   "cell_type": "code",
   "execution_count": 2,
   "id": "6d38dea8",
   "metadata": {},
   "outputs": [
    {
     "data": {
      "text/html": [
       "<table class=\"dataframe\">\n",
       "<caption>A data.frame: 10 × 18</caption>\n",
       "<thead>\n",
       "\t<tr><th></th><th scope=col>id</th><th scope=col>time</th><th scope=col>timec</th><th scope=col>freldis</th><th scope=col>fwkdis</th><th scope=col>fwkstr</th><th scope=col>fwkstrc</th><th scope=col>fwkdisc</th><th scope=col>freldisc</th><th scope=col>fwkstrcb</th><th scope=col>fwkdiscb</th><th scope=col>freldiscb</th><th scope=col>fwkstrcw</th><th scope=col>fwkdiscw</th><th scope=col>freldiscw</th><th scope=col>x</th><th scope=col>m</th><th scope=col>y</th></tr>\n",
       "\t<tr><th></th><th scope=col>&lt;int&gt;</th><th scope=col>&lt;int&gt;</th><th scope=col>&lt;int&gt;</th><th scope=col>&lt;dbl&gt;</th><th scope=col>&lt;dbl&gt;</th><th scope=col>&lt;int&gt;</th><th scope=col>&lt;dbl&gt;</th><th scope=col>&lt;dbl&gt;</th><th scope=col>&lt;dbl&gt;</th><th scope=col>&lt;dbl&gt;</th><th scope=col>&lt;dbl&gt;</th><th scope=col>&lt;dbl&gt;</th><th scope=col>&lt;dbl&gt;</th><th scope=col>&lt;dbl&gt;</th><th scope=col>&lt;dbl&gt;</th><th scope=col>&lt;dbl&gt;</th><th scope=col>&lt;dbl&gt;</th><th scope=col>&lt;dbl&gt;</th></tr>\n",
       "</thead>\n",
       "<tbody>\n",
       "\t<tr><th scope=row>1</th><td>101</td><td> 1</td><td>-10</td><td>3.034483</td><td>5.590119</td><td>3</td><td> 0.03</td><td> 0.3601189</td><td>-1.60551724</td><td>-0.3033333</td><td>-0.6227591</td><td>-0.1634446</td><td> 0.3333333</td><td> 0.9828781</td><td>-1.4420726</td><td> 0.3333333</td><td> 0.9828781</td><td>-1.4420726</td></tr>\n",
       "\t<tr><th scope=row>2</th><td>101</td><td> 2</td><td> -9</td><td>4.620690</td><td>5.535224</td><td>3</td><td> 0.03</td><td> 0.3052242</td><td>-0.01931034</td><td>-0.3033333</td><td>-0.6227591</td><td>-0.1634446</td><td> 0.3333333</td><td> 0.9279833</td><td> 0.1441343</td><td> 0.3333333</td><td> 0.9279833</td><td> 0.1441343</td></tr>\n",
       "\t<tr><th scope=row>3</th><td>101</td><td> 3</td><td> -8</td><td>2.850575</td><td>3.888381</td><td>3</td><td> 0.03</td><td>-1.3416194</td><td>-1.78942529</td><td>-0.3033333</td><td>-0.6227591</td><td>-0.1634446</td><td> 0.3333333</td><td>-0.7188603</td><td>-1.6259807</td><td> 0.3333333</td><td>-0.7188603</td><td>-1.6259807</td></tr>\n",
       "\t<tr><th scope=row>4</th><td>101</td><td> 4</td><td> -7</td><td>6.398467</td><td>5.352242</td><td>4</td><td> 1.03</td><td> 0.1222415</td><td> 1.75846743</td><td>-0.3033333</td><td>-0.6227591</td><td>-0.1634446</td><td> 1.3333333</td><td> 0.7450007</td><td> 1.9219121</td><td> 1.3333333</td><td> 0.7450007</td><td> 1.9219121</td></tr>\n",
       "\t<tr><th scope=row>5</th><td>101</td><td> 5</td><td> -6</td><td>2.544061</td><td>4.483074</td><td>1</td><td>-1.97</td><td>-0.7469259</td><td>-2.09593870</td><td>-0.3033333</td><td>-0.6227591</td><td>-0.1634446</td><td>-1.6666667</td><td>-0.1241668</td><td>-1.9324941</td><td>-1.6666667</td><td>-0.1241668</td><td>-1.9324941</td></tr>\n",
       "\t<tr><th scope=row>6</th><td>101</td><td> 6</td><td> -5</td><td>5.164751</td><td>3.339433</td><td>2</td><td>-0.97</td><td>-1.8905672</td><td> 0.52475096</td><td>-0.3033333</td><td>-0.6227591</td><td>-0.1634446</td><td>-0.6666667</td><td>-1.2678081</td><td> 0.6881956</td><td>-0.6666667</td><td>-1.2678081</td><td> 0.6881956</td></tr>\n",
       "\t<tr><th scope=row>7</th><td>101</td><td> 7</td><td> -4</td><td>2.704981</td><td>4.135407</td><td>3</td><td> 0.03</td><td>-1.0945929</td><td>-1.93501916</td><td>-0.3033333</td><td>-0.6227591</td><td>-0.1634446</td><td> 0.3333333</td><td>-0.4718337</td><td>-1.7715745</td><td> 0.3333333</td><td>-0.4718337</td><td>-1.7715745</td></tr>\n",
       "\t<tr><th scope=row>8</th><td>101</td><td> 8</td><td> -3</td><td>5.003831</td><td>5.800549</td><td>4</td><td> 1.03</td><td> 0.5705489</td><td> 0.36383142</td><td>-0.3033333</td><td>-0.6227591</td><td>-0.1634446</td><td> 1.3333333</td><td> 1.1933081</td><td> 0.5272760</td><td> 1.3333333</td><td> 1.1933081</td><td> 0.5272760</td></tr>\n",
       "\t<tr><th scope=row>9</th><td>101</td><td> 9</td><td> -2</td><td>4.099617</td><td>5.434584</td><td>3</td><td> 0.03</td><td> 0.2045837</td><td>-0.54038314</td><td>-0.3033333</td><td>-0.6227591</td><td>-0.1634446</td><td> 0.3333333</td><td> 0.8273428</td><td>-0.3769385</td><td> 0.3333333</td><td> 0.8273428</td><td>-0.3769385</td></tr>\n",
       "\t<tr><th scope=row>10</th><td>101</td><td>10</td><td> -1</td><td>5.471264</td><td>4.830741</td><td>2</td><td>-0.97</td><td>-0.3992589</td><td> 0.83126437</td><td>-0.3033333</td><td>-0.6227591</td><td>-0.1634446</td><td>-0.6666667</td><td> 0.2235002</td><td> 0.9947090</td><td>-0.6666667</td><td> 0.2235002</td><td> 0.9947090</td></tr>\n",
       "</tbody>\n",
       "</table>\n"
      ],
      "text/latex": [
       "A data.frame: 10 × 18\n",
       "\\begin{tabular}{r|llllllllllllllllll}\n",
       "  & id & time & timec & freldis & fwkdis & fwkstr & fwkstrc & fwkdisc & freldisc & fwkstrcb & fwkdiscb & freldiscb & fwkstrcw & fwkdiscw & freldiscw & x & m & y\\\\\n",
       "  & <int> & <int> & <int> & <dbl> & <dbl> & <int> & <dbl> & <dbl> & <dbl> & <dbl> & <dbl> & <dbl> & <dbl> & <dbl> & <dbl> & <dbl> & <dbl> & <dbl>\\\\\n",
       "\\hline\n",
       "\t1 & 101 &  1 & -10 & 3.034483 & 5.590119 & 3 &  0.03 &  0.3601189 & -1.60551724 & -0.3033333 & -0.6227591 & -0.1634446 &  0.3333333 &  0.9828781 & -1.4420726 &  0.3333333 &  0.9828781 & -1.4420726\\\\\n",
       "\t2 & 101 &  2 &  -9 & 4.620690 & 5.535224 & 3 &  0.03 &  0.3052242 & -0.01931034 & -0.3033333 & -0.6227591 & -0.1634446 &  0.3333333 &  0.9279833 &  0.1441343 &  0.3333333 &  0.9279833 &  0.1441343\\\\\n",
       "\t3 & 101 &  3 &  -8 & 2.850575 & 3.888381 & 3 &  0.03 & -1.3416194 & -1.78942529 & -0.3033333 & -0.6227591 & -0.1634446 &  0.3333333 & -0.7188603 & -1.6259807 &  0.3333333 & -0.7188603 & -1.6259807\\\\\n",
       "\t4 & 101 &  4 &  -7 & 6.398467 & 5.352242 & 4 &  1.03 &  0.1222415 &  1.75846743 & -0.3033333 & -0.6227591 & -0.1634446 &  1.3333333 &  0.7450007 &  1.9219121 &  1.3333333 &  0.7450007 &  1.9219121\\\\\n",
       "\t5 & 101 &  5 &  -6 & 2.544061 & 4.483074 & 1 & -1.97 & -0.7469259 & -2.09593870 & -0.3033333 & -0.6227591 & -0.1634446 & -1.6666667 & -0.1241668 & -1.9324941 & -1.6666667 & -0.1241668 & -1.9324941\\\\\n",
       "\t6 & 101 &  6 &  -5 & 5.164751 & 3.339433 & 2 & -0.97 & -1.8905672 &  0.52475096 & -0.3033333 & -0.6227591 & -0.1634446 & -0.6666667 & -1.2678081 &  0.6881956 & -0.6666667 & -1.2678081 &  0.6881956\\\\\n",
       "\t7 & 101 &  7 &  -4 & 2.704981 & 4.135407 & 3 &  0.03 & -1.0945929 & -1.93501916 & -0.3033333 & -0.6227591 & -0.1634446 &  0.3333333 & -0.4718337 & -1.7715745 &  0.3333333 & -0.4718337 & -1.7715745\\\\\n",
       "\t8 & 101 &  8 &  -3 & 5.003831 & 5.800549 & 4 &  1.03 &  0.5705489 &  0.36383142 & -0.3033333 & -0.6227591 & -0.1634446 &  1.3333333 &  1.1933081 &  0.5272760 &  1.3333333 &  1.1933081 &  0.5272760\\\\\n",
       "\t9 & 101 &  9 &  -2 & 4.099617 & 5.434584 & 3 &  0.03 &  0.2045837 & -0.54038314 & -0.3033333 & -0.6227591 & -0.1634446 &  0.3333333 &  0.8273428 & -0.3769385 &  0.3333333 &  0.8273428 & -0.3769385\\\\\n",
       "\t10 & 101 & 10 &  -1 & 5.471264 & 4.830741 & 2 & -0.97 & -0.3992589 &  0.83126437 & -0.3033333 & -0.6227591 & -0.1634446 & -0.6666667 &  0.2235002 &  0.9947090 & -0.6666667 &  0.2235002 &  0.9947090\\\\\n",
       "\\end{tabular}\n"
      ],
      "text/markdown": [
       "\n",
       "A data.frame: 10 × 18\n",
       "\n",
       "| <!--/--> | id &lt;int&gt; | time &lt;int&gt; | timec &lt;int&gt; | freldis &lt;dbl&gt; | fwkdis &lt;dbl&gt; | fwkstr &lt;int&gt; | fwkstrc &lt;dbl&gt; | fwkdisc &lt;dbl&gt; | freldisc &lt;dbl&gt; | fwkstrcb &lt;dbl&gt; | fwkdiscb &lt;dbl&gt; | freldiscb &lt;dbl&gt; | fwkstrcw &lt;dbl&gt; | fwkdiscw &lt;dbl&gt; | freldiscw &lt;dbl&gt; | x &lt;dbl&gt; | m &lt;dbl&gt; | y &lt;dbl&gt; |\n",
       "|---|---|---|---|---|---|---|---|---|---|---|---|---|---|---|---|---|---|---|\n",
       "| 1 | 101 |  1 | -10 | 3.034483 | 5.590119 | 3 |  0.03 |  0.3601189 | -1.60551724 | -0.3033333 | -0.6227591 | -0.1634446 |  0.3333333 |  0.9828781 | -1.4420726 |  0.3333333 |  0.9828781 | -1.4420726 |\n",
       "| 2 | 101 |  2 |  -9 | 4.620690 | 5.535224 | 3 |  0.03 |  0.3052242 | -0.01931034 | -0.3033333 | -0.6227591 | -0.1634446 |  0.3333333 |  0.9279833 |  0.1441343 |  0.3333333 |  0.9279833 |  0.1441343 |\n",
       "| 3 | 101 |  3 |  -8 | 2.850575 | 3.888381 | 3 |  0.03 | -1.3416194 | -1.78942529 | -0.3033333 | -0.6227591 | -0.1634446 |  0.3333333 | -0.7188603 | -1.6259807 |  0.3333333 | -0.7188603 | -1.6259807 |\n",
       "| 4 | 101 |  4 |  -7 | 6.398467 | 5.352242 | 4 |  1.03 |  0.1222415 |  1.75846743 | -0.3033333 | -0.6227591 | -0.1634446 |  1.3333333 |  0.7450007 |  1.9219121 |  1.3333333 |  0.7450007 |  1.9219121 |\n",
       "| 5 | 101 |  5 |  -6 | 2.544061 | 4.483074 | 1 | -1.97 | -0.7469259 | -2.09593870 | -0.3033333 | -0.6227591 | -0.1634446 | -1.6666667 | -0.1241668 | -1.9324941 | -1.6666667 | -0.1241668 | -1.9324941 |\n",
       "| 6 | 101 |  6 |  -5 | 5.164751 | 3.339433 | 2 | -0.97 | -1.8905672 |  0.52475096 | -0.3033333 | -0.6227591 | -0.1634446 | -0.6666667 | -1.2678081 |  0.6881956 | -0.6666667 | -1.2678081 |  0.6881956 |\n",
       "| 7 | 101 |  7 |  -4 | 2.704981 | 4.135407 | 3 |  0.03 | -1.0945929 | -1.93501916 | -0.3033333 | -0.6227591 | -0.1634446 |  0.3333333 | -0.4718337 | -1.7715745 |  0.3333333 | -0.4718337 | -1.7715745 |\n",
       "| 8 | 101 |  8 |  -3 | 5.003831 | 5.800549 | 4 |  1.03 |  0.5705489 |  0.36383142 | -0.3033333 | -0.6227591 | -0.1634446 |  1.3333333 |  1.1933081 |  0.5272760 |  1.3333333 |  1.1933081 |  0.5272760 |\n",
       "| 9 | 101 |  9 |  -2 | 4.099617 | 5.434584 | 3 |  0.03 |  0.2045837 | -0.54038314 | -0.3033333 | -0.6227591 | -0.1634446 |  0.3333333 |  0.8273428 | -0.3769385 |  0.3333333 |  0.8273428 | -0.3769385 |\n",
       "| 10 | 101 | 10 |  -1 | 5.471264 | 4.830741 | 2 | -0.97 | -0.3992589 |  0.83126437 | -0.3033333 | -0.6227591 | -0.1634446 | -0.6666667 |  0.2235002 |  0.9947090 | -0.6666667 |  0.2235002 |  0.9947090 |\n",
       "\n"
      ],
      "text/plain": [
       "   id  time timec freldis  fwkdis   fwkstr fwkstrc fwkdisc    freldisc   \n",
       "1  101  1   -10   3.034483 5.590119 3       0.03    0.3601189 -1.60551724\n",
       "2  101  2    -9   4.620690 5.535224 3       0.03    0.3052242 -0.01931034\n",
       "3  101  3    -8   2.850575 3.888381 3       0.03   -1.3416194 -1.78942529\n",
       "4  101  4    -7   6.398467 5.352242 4       1.03    0.1222415  1.75846743\n",
       "5  101  5    -6   2.544061 4.483074 1      -1.97   -0.7469259 -2.09593870\n",
       "6  101  6    -5   5.164751 3.339433 2      -0.97   -1.8905672  0.52475096\n",
       "7  101  7    -4   2.704981 4.135407 3       0.03   -1.0945929 -1.93501916\n",
       "8  101  8    -3   5.003831 5.800549 4       1.03    0.5705489  0.36383142\n",
       "9  101  9    -2   4.099617 5.434584 3       0.03    0.2045837 -0.54038314\n",
       "10 101 10    -1   5.471264 4.830741 2      -0.97   -0.3992589  0.83126437\n",
       "   fwkstrcb   fwkdiscb   freldiscb  fwkstrcw   fwkdiscw   freldiscw  x         \n",
       "1  -0.3033333 -0.6227591 -0.1634446  0.3333333  0.9828781 -1.4420726  0.3333333\n",
       "2  -0.3033333 -0.6227591 -0.1634446  0.3333333  0.9279833  0.1441343  0.3333333\n",
       "3  -0.3033333 -0.6227591 -0.1634446  0.3333333 -0.7188603 -1.6259807  0.3333333\n",
       "4  -0.3033333 -0.6227591 -0.1634446  1.3333333  0.7450007  1.9219121  1.3333333\n",
       "5  -0.3033333 -0.6227591 -0.1634446 -1.6666667 -0.1241668 -1.9324941 -1.6666667\n",
       "6  -0.3033333 -0.6227591 -0.1634446 -0.6666667 -1.2678081  0.6881956 -0.6666667\n",
       "7  -0.3033333 -0.6227591 -0.1634446  0.3333333 -0.4718337 -1.7715745  0.3333333\n",
       "8  -0.3033333 -0.6227591 -0.1634446  1.3333333  1.1933081  0.5272760  1.3333333\n",
       "9  -0.3033333 -0.6227591 -0.1634446  0.3333333  0.8273428 -0.3769385  0.3333333\n",
       "10 -0.3033333 -0.6227591 -0.1634446 -0.6666667  0.2235002  0.9947090 -0.6666667\n",
       "   m          y         \n",
       "1   0.9828781 -1.4420726\n",
       "2   0.9279833  0.1441343\n",
       "3  -0.7188603 -1.6259807\n",
       "4   0.7450007  1.9219121\n",
       "5  -0.1241668 -1.9324941\n",
       "6  -1.2678081  0.6881956\n",
       "7  -0.4718337 -1.7715745\n",
       "8   1.1933081  0.5272760\n",
       "9   0.8273428 -0.3769385\n",
       "10  0.2235002  0.9947090"
      ]
     },
     "metadata": {},
     "output_type": "display_data"
    }
   ],
   "source": [
    "filepath <- \"C:/Users/77387/Desktop/Data_analysis_courses/R语言与多层线性模型/B&Lmediation.csv\"\n",
    "\n",
    "data <- read.csv(file = filepath, header = TRUE)\n",
    "\n",
    "head(data, 10)"
   ]
  },
  {
   "cell_type": "markdown",
   "id": "1bdfe429",
   "metadata": {},
   "source": [
    "自变量：fwkstrcw(female work stress centered within person)\n",
    "\n",
    "中介变量：fwkdiscw(female work dissatisfaction centered within person)\n",
    "\n",
    "因变量：freldiscw(female relationship dissatisfaction centered within person)\n",
    "\n",
    "#### 描述个体内变量"
   ]
  },
  {
   "cell_type": "code",
   "execution_count": 3,
   "id": "31b8539c",
   "metadata": {},
   "outputs": [
    {
     "data": {
      "text/html": [
       "<table class=\"dataframe\">\n",
       "<caption>A psych: 3 × 13</caption>\n",
       "<thead>\n",
       "\t<tr><th></th><th scope=col>vars</th><th scope=col>n</th><th scope=col>mean</th><th scope=col>sd</th><th scope=col>median</th><th scope=col>trimmed</th><th scope=col>mad</th><th scope=col>min</th><th scope=col>max</th><th scope=col>range</th><th scope=col>skew</th><th scope=col>kurtosis</th><th scope=col>se</th></tr>\n",
       "\t<tr><th></th><th scope=col>&lt;int&gt;</th><th scope=col>&lt;dbl&gt;</th><th scope=col>&lt;dbl&gt;</th><th scope=col>&lt;dbl&gt;</th><th scope=col>&lt;dbl&gt;</th><th scope=col>&lt;dbl&gt;</th><th scope=col>&lt;dbl&gt;</th><th scope=col>&lt;dbl&gt;</th><th scope=col>&lt;dbl&gt;</th><th scope=col>&lt;dbl&gt;</th><th scope=col>&lt;dbl&gt;</th><th scope=col>&lt;dbl&gt;</th><th scope=col>&lt;dbl&gt;</th></tr>\n",
       "</thead>\n",
       "<tbody>\n",
       "\t<tr><th scope=row>fwkstrcw</th><td>1</td><td>2100</td><td> 9.523810e-04</td><td>1.0023901</td><td> 1.006140e-16</td><td>-0.003174603</td><td>1.2002000</td><td>-2.904762</td><td>2.952381</td><td>5.857143</td><td>0.04795743</td><td>-0.24827765</td><td>0.02187395</td></tr>\n",
       "\t<tr><th scope=row>fwkdiscw</th><td>2</td><td>2100</td><td>-4.371477e-17</td><td>1.1340250</td><td>-1.285235e-02</td><td>-0.002948053</td><td>1.1549204</td><td>-3.813445</td><td>3.813881</td><td>7.627325</td><td>0.01725496</td><td>-0.10764543</td><td>0.02474645</td></tr>\n",
       "\t<tr><th scope=row>freldiscw</th><td>3</td><td>2100</td><td>-2.202576e-16</td><td>0.9945757</td><td>-2.189381e-03</td><td>-0.002768438</td><td>0.9805556</td><td>-3.519431</td><td>3.222405</td><td>6.741835</td><td>0.01912420</td><td> 0.06707451</td><td>0.02170342</td></tr>\n",
       "</tbody>\n",
       "</table>\n"
      ],
      "text/latex": [
       "A psych: 3 × 13\n",
       "\\begin{tabular}{r|lllllllllllll}\n",
       "  & vars & n & mean & sd & median & trimmed & mad & min & max & range & skew & kurtosis & se\\\\\n",
       "  & <int> & <dbl> & <dbl> & <dbl> & <dbl> & <dbl> & <dbl> & <dbl> & <dbl> & <dbl> & <dbl> & <dbl> & <dbl>\\\\\n",
       "\\hline\n",
       "\tfwkstrcw & 1 & 2100 &  9.523810e-04 & 1.0023901 &  1.006140e-16 & -0.003174603 & 1.2002000 & -2.904762 & 2.952381 & 5.857143 & 0.04795743 & -0.24827765 & 0.02187395\\\\\n",
       "\tfwkdiscw & 2 & 2100 & -4.371477e-17 & 1.1340250 & -1.285235e-02 & -0.002948053 & 1.1549204 & -3.813445 & 3.813881 & 7.627325 & 0.01725496 & -0.10764543 & 0.02474645\\\\\n",
       "\tfreldiscw & 3 & 2100 & -2.202576e-16 & 0.9945757 & -2.189381e-03 & -0.002768438 & 0.9805556 & -3.519431 & 3.222405 & 6.741835 & 0.01912420 &  0.06707451 & 0.02170342\\\\\n",
       "\\end{tabular}\n"
      ],
      "text/markdown": [
       "\n",
       "A psych: 3 × 13\n",
       "\n",
       "| <!--/--> | vars &lt;int&gt; | n &lt;dbl&gt; | mean &lt;dbl&gt; | sd &lt;dbl&gt; | median &lt;dbl&gt; | trimmed &lt;dbl&gt; | mad &lt;dbl&gt; | min &lt;dbl&gt; | max &lt;dbl&gt; | range &lt;dbl&gt; | skew &lt;dbl&gt; | kurtosis &lt;dbl&gt; | se &lt;dbl&gt; |\n",
       "|---|---|---|---|---|---|---|---|---|---|---|---|---|---|\n",
       "| fwkstrcw | 1 | 2100 |  9.523810e-04 | 1.0023901 |  1.006140e-16 | -0.003174603 | 1.2002000 | -2.904762 | 2.952381 | 5.857143 | 0.04795743 | -0.24827765 | 0.02187395 |\n",
       "| fwkdiscw | 2 | 2100 | -4.371477e-17 | 1.1340250 | -1.285235e-02 | -0.002948053 | 1.1549204 | -3.813445 | 3.813881 | 7.627325 | 0.01725496 | -0.10764543 | 0.02474645 |\n",
       "| freldiscw | 3 | 2100 | -2.202576e-16 | 0.9945757 | -2.189381e-03 | -0.002768438 | 0.9805556 | -3.519431 | 3.222405 | 6.741835 | 0.01912420 |  0.06707451 | 0.02170342 |\n",
       "\n"
      ],
      "text/plain": [
       "          vars n    mean          sd        median        trimmed     \n",
       "fwkstrcw  1    2100  9.523810e-04 1.0023901  1.006140e-16 -0.003174603\n",
       "fwkdiscw  2    2100 -4.371477e-17 1.1340250 -1.285235e-02 -0.002948053\n",
       "freldiscw 3    2100 -2.202576e-16 0.9945757 -2.189381e-03 -0.002768438\n",
       "          mad       min       max      range    skew       kurtosis   \n",
       "fwkstrcw  1.2002000 -2.904762 2.952381 5.857143 0.04795743 -0.24827765\n",
       "fwkdiscw  1.1549204 -3.813445 3.813881 7.627325 0.01725496 -0.10764543\n",
       "freldiscw 0.9805556 -3.519431 3.222405 6.741835 0.01912420  0.06707451\n",
       "          se        \n",
       "fwkstrcw  0.02187395\n",
       "fwkdiscw  0.02474645\n",
       "freldiscw 0.02170342"
      ]
     },
     "metadata": {},
     "output_type": "display_data"
    }
   ],
   "source": [
    "vars <- c(\"fwkstrcw\", \"fwkdiscw\", \"freldiscw\")\n",
    "\n",
    "describe(data[, vars])"
   ]
  },
  {
   "cell_type": "markdown",
   "id": "5bdbabdd",
   "metadata": {},
   "source": [
    "#### 主效应：自变量（fwkstrcw ）对因变量（freldiscw）的影响\n",
    "\n",
    "可视化个体内关联"
   ]
  },
  {
   "cell_type": "code",
   "execution_count": 4,
   "id": "c81f8afa",
   "metadata": {},
   "outputs": [
    {
     "name": "stderr",
     "output_type": "stream",
     "text": [
      "\u001b[1m\u001b[22m`geom_smooth()` using formula = 'y ~ x'\n"
     ]
    },
    {
     "data": {
      "image/png": "[encoded data removed]",
      "text/plain": [
       "plot without title"
      ]
     },
     "metadata": {
      "image/png": {
       "height": 420,
       "width": 420
      }
     },
     "output_type": "display_data"
    }
   ],
   "source": [
    "# 女性工作压力（fwkstrcw）对关系不满意度（freldiscw）的影响\n",
    "ggplot(data = data[which(data$id <= 106), ], \n",
    "       aes(x = fwkstrcw, y = freldiscw, group = id)) +\n",
    "  geom_point(color = \"black\") + \n",
    "  geom_smooth(method = lm, se = TRUE, fullrange = TRUE, color = \"black\") + \n",
    "  xlab(\"x = Work Stress (within)\") +\n",
    "  ylab(\"y = Relationship Dissatisfaction (within)\") +\n",
    "  facet_wrap( ~ id)"
   ]
  },
  {
   "cell_type": "markdown",
   "id": "fc24351d",
   "metadata": {},
   "source": [
    "#### 自变量（fwkstrcw ）对中介因子（fwkdiscw）的影响"
   ]
  },
  {
   "cell_type": "code",
   "execution_count": 5,
   "id": "3f9c78d8",
   "metadata": {},
   "outputs": [
    {
     "name": "stderr",
     "output_type": "stream",
     "text": [
      "\u001b[1m\u001b[22m`geom_smooth()` using formula = 'y ~ x'\n"
     ]
    },
    {
     "data": {
      "image/png": "[encoded data removed]",
      "text/plain": [
       "plot without title"
      ]
     },
     "metadata": {
      "image/png": {
       "height": 420,
       "width": 420
      }
     },
     "output_type": "display_data"
    }
   ],
   "source": [
    "# 女性工作压力对女性工作不满意度的影响, x --> m\n",
    "ggplot(data = data[which(data$id <= 106),], \n",
    "       aes(x = fwkstrcw, y = fwkdiscw, group = id)) +\n",
    "  geom_point(color = \"blue\") + \n",
    "  geom_smooth(method = lm, se = TRUE, fullrange = TRUE, color = \"blue\") + \n",
    "  xlab(\"x = Work Stress (within)\") +\n",
    "  ylab(\"m = Work Dissatisfaction (within)\") +\n",
    "  facet_wrap( ~ id)"
   ]
  },
  {
   "cell_type": "markdown",
   "id": "6f322271",
   "metadata": {},
   "source": [
    "#### 中介变量（fwkdiscw ）对因变量（freldiscw）的影响："
   ]
  },
  {
   "cell_type": "code",
   "execution_count": 6,
   "id": "db0d05a4",
   "metadata": {},
   "outputs": [
    {
     "name": "stderr",
     "output_type": "stream",
     "text": [
      "\u001b[1m\u001b[22m`geom_smooth()` using formula = 'y ~ x'\n"
     ]
    },
    {
     "data": {
      "image/png": "[encoded data removed]",
      "text/plain": [
       "plot without title"
      ]
     },
     "metadata": {
      "image/png": {
       "height": 420,
       "width": 420
      }
     },
     "output_type": "display_data"
    }
   ],
   "source": [
    "# 女性工作不满意度对女性关系不满意度的影响\n",
    "ggplot(data = data[which(data$id <= 106),], \n",
    "       aes(x = fwkdiscw, y = freldiscw, group = id)) +\n",
    "  geom_point(color = \"red\") + \n",
    "  geom_smooth(method = lm, se = TRUE, fullrange = TRUE, color = \"red\") + \n",
    "  xlab(\"m = Work Dissatisfaction (within)\") +\n",
    "  ylab(\"y = Relationship Dissatisfaction (within)\") +\n",
    "  facet_wrap( ~ id)"
   ]
  },
  {
   "cell_type": "markdown",
   "id": "fd4340ee",
   "metadata": {},
   "source": [
    "# 整理数据"
   ]
  },
  {
   "cell_type": "code",
   "execution_count": 7,
   "id": "e0feb547",
   "metadata": {},
   "outputs": [
    {
     "data": {
      "text/html": [
       "<table class=\"dataframe\">\n",
       "<caption>A data.frame: 10 × 6</caption>\n",
       "<thead>\n",
       "\t<tr><th></th><th scope=col>id</th><th scope=col>time</th><th scope=col>timec</th><th scope=col>fwkstrcw</th><th scope=col>fwkdiscw</th><th scope=col>freldiscw</th></tr>\n",
       "\t<tr><th></th><th scope=col>&lt;int&gt;</th><th scope=col>&lt;int&gt;</th><th scope=col>&lt;int&gt;</th><th scope=col>&lt;dbl&gt;</th><th scope=col>&lt;dbl&gt;</th><th scope=col>&lt;dbl&gt;</th></tr>\n",
       "</thead>\n",
       "<tbody>\n",
       "\t<tr><th scope=row>1</th><td>101</td><td> 1</td><td>-10</td><td> 0.3333333</td><td> 0.9828781</td><td>-1.4420726</td></tr>\n",
       "\t<tr><th scope=row>2</th><td>101</td><td> 2</td><td> -9</td><td> 0.3333333</td><td> 0.9279833</td><td> 0.1441343</td></tr>\n",
       "\t<tr><th scope=row>3</th><td>101</td><td> 3</td><td> -8</td><td> 0.3333333</td><td>-0.7188603</td><td>-1.6259807</td></tr>\n",
       "\t<tr><th scope=row>4</th><td>101</td><td> 4</td><td> -7</td><td> 1.3333333</td><td> 0.7450007</td><td> 1.9219121</td></tr>\n",
       "\t<tr><th scope=row>5</th><td>101</td><td> 5</td><td> -6</td><td>-1.6666667</td><td>-0.1241668</td><td>-1.9324941</td></tr>\n",
       "\t<tr><th scope=row>6</th><td>101</td><td> 6</td><td> -5</td><td>-0.6666667</td><td>-1.2678081</td><td> 0.6881956</td></tr>\n",
       "\t<tr><th scope=row>7</th><td>101</td><td> 7</td><td> -4</td><td> 0.3333333</td><td>-0.4718337</td><td>-1.7715745</td></tr>\n",
       "\t<tr><th scope=row>8</th><td>101</td><td> 8</td><td> -3</td><td> 1.3333333</td><td> 1.1933081</td><td> 0.5272760</td></tr>\n",
       "\t<tr><th scope=row>9</th><td>101</td><td> 9</td><td> -2</td><td> 0.3333333</td><td> 0.8273428</td><td>-0.3769385</td></tr>\n",
       "\t<tr><th scope=row>10</th><td>101</td><td>10</td><td> -1</td><td>-0.6666667</td><td> 0.2235002</td><td> 0.9947090</td></tr>\n",
       "</tbody>\n",
       "</table>\n"
      ],
      "text/latex": [
       "A data.frame: 10 × 6\n",
       "\\begin{tabular}{r|llllll}\n",
       "  & id & time & timec & fwkstrcw & fwkdiscw & freldiscw\\\\\n",
       "  & <int> & <int> & <int> & <dbl> & <dbl> & <dbl>\\\\\n",
       "\\hline\n",
       "\t1 & 101 &  1 & -10 &  0.3333333 &  0.9828781 & -1.4420726\\\\\n",
       "\t2 & 101 &  2 &  -9 &  0.3333333 &  0.9279833 &  0.1441343\\\\\n",
       "\t3 & 101 &  3 &  -8 &  0.3333333 & -0.7188603 & -1.6259807\\\\\n",
       "\t4 & 101 &  4 &  -7 &  1.3333333 &  0.7450007 &  1.9219121\\\\\n",
       "\t5 & 101 &  5 &  -6 & -1.6666667 & -0.1241668 & -1.9324941\\\\\n",
       "\t6 & 101 &  6 &  -5 & -0.6666667 & -1.2678081 &  0.6881956\\\\\n",
       "\t7 & 101 &  7 &  -4 &  0.3333333 & -0.4718337 & -1.7715745\\\\\n",
       "\t8 & 101 &  8 &  -3 &  1.3333333 &  1.1933081 &  0.5272760\\\\\n",
       "\t9 & 101 &  9 &  -2 &  0.3333333 &  0.8273428 & -0.3769385\\\\\n",
       "\t10 & 101 & 10 &  -1 & -0.6666667 &  0.2235002 &  0.9947090\\\\\n",
       "\\end{tabular}\n"
      ],
      "text/markdown": [
       "\n",
       "A data.frame: 10 × 6\n",
       "\n",
       "| <!--/--> | id &lt;int&gt; | time &lt;int&gt; | timec &lt;int&gt; | fwkstrcw &lt;dbl&gt; | fwkdiscw &lt;dbl&gt; | freldiscw &lt;dbl&gt; |\n",
       "|---|---|---|---|---|---|---|\n",
       "| 1 | 101 |  1 | -10 |  0.3333333 |  0.9828781 | -1.4420726 |\n",
       "| 2 | 101 |  2 |  -9 |  0.3333333 |  0.9279833 |  0.1441343 |\n",
       "| 3 | 101 |  3 |  -8 |  0.3333333 | -0.7188603 | -1.6259807 |\n",
       "| 4 | 101 |  4 |  -7 |  1.3333333 |  0.7450007 |  1.9219121 |\n",
       "| 5 | 101 |  5 |  -6 | -1.6666667 | -0.1241668 | -1.9324941 |\n",
       "| 6 | 101 |  6 |  -5 | -0.6666667 | -1.2678081 |  0.6881956 |\n",
       "| 7 | 101 |  7 |  -4 |  0.3333333 | -0.4718337 | -1.7715745 |\n",
       "| 8 | 101 |  8 |  -3 |  1.3333333 |  1.1933081 |  0.5272760 |\n",
       "| 9 | 101 |  9 |  -2 |  0.3333333 |  0.8273428 | -0.3769385 |\n",
       "| 10 | 101 | 10 |  -1 | -0.6666667 |  0.2235002 |  0.9947090 |\n",
       "\n"
      ],
      "text/plain": [
       "   id  time timec fwkstrcw   fwkdiscw   freldiscw \n",
       "1  101  1   -10    0.3333333  0.9828781 -1.4420726\n",
       "2  101  2    -9    0.3333333  0.9279833  0.1441343\n",
       "3  101  3    -8    0.3333333 -0.7188603 -1.6259807\n",
       "4  101  4    -7    1.3333333  0.7450007  1.9219121\n",
       "5  101  5    -6   -1.6666667 -0.1241668 -1.9324941\n",
       "6  101  6    -5   -0.6666667 -1.2678081  0.6881956\n",
       "7  101  7    -4    0.3333333 -0.4718337 -1.7715745\n",
       "8  101  8    -3    1.3333333  1.1933081  0.5272760\n",
       "9  101  9    -2    0.3333333  0.8273428 -0.3769385\n",
       "10 101 10    -1   -0.6666667  0.2235002  0.9947090"
      ]
     },
     "metadata": {},
     "output_type": "display_data"
    }
   ],
   "source": [
    "data1 <- data[ , c(\"id\", \"time\", \"timec\", \"fwkstrcw\", \"fwkdiscw\", \"freldiscw\")]\n",
    "\n",
    "# 检查数据集前几行\n",
    "head(data1, 10)"
   ]
  },
  {
   "cell_type": "code",
   "execution_count": 11,
   "id": "01e7157c",
   "metadata": {},
   "outputs": [
    {
     "data": {
      "text/html": [
       "<table class=\"dataframe\">\n",
       "<caption>A data.frame: 6 × 9</caption>\n",
       "<thead>\n",
       "\t<tr><th></th><th scope=col>id</th><th scope=col>time</th><th scope=col>timec</th><th scope=col>fwkstrcw</th><th scope=col>fwkdiscw</th><th scope=col>freldiscw</th><th scope=col>x</th><th scope=col>m</th><th scope=col>y</th></tr>\n",
       "\t<tr><th></th><th scope=col>&lt;int&gt;</th><th scope=col>&lt;int&gt;</th><th scope=col>&lt;int&gt;</th><th scope=col>&lt;dbl&gt;</th><th scope=col>&lt;dbl&gt;</th><th scope=col>&lt;dbl&gt;</th><th scope=col>&lt;dbl&gt;</th><th scope=col>&lt;dbl&gt;</th><th scope=col>&lt;dbl&gt;</th></tr>\n",
       "</thead>\n",
       "<tbody>\n",
       "\t<tr><th scope=row>1</th><td>101</td><td>1</td><td>-10</td><td> 0.3333333</td><td> 0.9828781</td><td>-1.4420726</td><td> 0.3333333</td><td> 0.9828781</td><td>-1.4420726</td></tr>\n",
       "\t<tr><th scope=row>2</th><td>101</td><td>2</td><td> -9</td><td> 0.3333333</td><td> 0.9279833</td><td> 0.1441343</td><td> 0.3333333</td><td> 0.9279833</td><td> 0.1441343</td></tr>\n",
       "\t<tr><th scope=row>3</th><td>101</td><td>3</td><td> -8</td><td> 0.3333333</td><td>-0.7188603</td><td>-1.6259807</td><td> 0.3333333</td><td>-0.7188603</td><td>-1.6259807</td></tr>\n",
       "\t<tr><th scope=row>4</th><td>101</td><td>4</td><td> -7</td><td> 1.3333333</td><td> 0.7450007</td><td> 1.9219121</td><td> 1.3333333</td><td> 0.7450007</td><td> 1.9219121</td></tr>\n",
       "\t<tr><th scope=row>5</th><td>101</td><td>5</td><td> -6</td><td>-1.6666667</td><td>-0.1241668</td><td>-1.9324941</td><td>-1.6666667</td><td>-0.1241668</td><td>-1.9324941</td></tr>\n",
       "\t<tr><th scope=row>6</th><td>101</td><td>6</td><td> -5</td><td>-0.6666667</td><td>-1.2678081</td><td> 0.6881956</td><td>-0.6666667</td><td>-1.2678081</td><td> 0.6881956</td></tr>\n",
       "</tbody>\n",
       "</table>\n"
      ],
      "text/latex": [
       "A data.frame: 6 × 9\n",
       "\\begin{tabular}{r|lllllllll}\n",
       "  & id & time & timec & fwkstrcw & fwkdiscw & freldiscw & x & m & y\\\\\n",
       "  & <int> & <int> & <int> & <dbl> & <dbl> & <dbl> & <dbl> & <dbl> & <dbl>\\\\\n",
       "\\hline\n",
       "\t1 & 101 & 1 & -10 &  0.3333333 &  0.9828781 & -1.4420726 &  0.3333333 &  0.9828781 & -1.4420726\\\\\n",
       "\t2 & 101 & 2 &  -9 &  0.3333333 &  0.9279833 &  0.1441343 &  0.3333333 &  0.9279833 &  0.1441343\\\\\n",
       "\t3 & 101 & 3 &  -8 &  0.3333333 & -0.7188603 & -1.6259807 &  0.3333333 & -0.7188603 & -1.6259807\\\\\n",
       "\t4 & 101 & 4 &  -7 &  1.3333333 &  0.7450007 &  1.9219121 &  1.3333333 &  0.7450007 &  1.9219121\\\\\n",
       "\t5 & 101 & 5 &  -6 & -1.6666667 & -0.1241668 & -1.9324941 & -1.6666667 & -0.1241668 & -1.9324941\\\\\n",
       "\t6 & 101 & 6 &  -5 & -0.6666667 & -1.2678081 &  0.6881956 & -0.6666667 & -1.2678081 &  0.6881956\\\\\n",
       "\\end{tabular}\n"
      ],
      "text/markdown": [
       "\n",
       "A data.frame: 6 × 9\n",
       "\n",
       "| <!--/--> | id &lt;int&gt; | time &lt;int&gt; | timec &lt;int&gt; | fwkstrcw &lt;dbl&gt; | fwkdiscw &lt;dbl&gt; | freldiscw &lt;dbl&gt; | x &lt;dbl&gt; | m &lt;dbl&gt; | y &lt;dbl&gt; |\n",
       "|---|---|---|---|---|---|---|---|---|---|\n",
       "| 1 | 101 | 1 | -10 |  0.3333333 |  0.9828781 | -1.4420726 |  0.3333333 |  0.9828781 | -1.4420726 |\n",
       "| 2 | 101 | 2 |  -9 |  0.3333333 |  0.9279833 |  0.1441343 |  0.3333333 |  0.9279833 |  0.1441343 |\n",
       "| 3 | 101 | 3 |  -8 |  0.3333333 | -0.7188603 | -1.6259807 |  0.3333333 | -0.7188603 | -1.6259807 |\n",
       "| 4 | 101 | 4 |  -7 |  1.3333333 |  0.7450007 |  1.9219121 |  1.3333333 |  0.7450007 |  1.9219121 |\n",
       "| 5 | 101 | 5 |  -6 | -1.6666667 | -0.1241668 | -1.9324941 | -1.6666667 | -0.1241668 | -1.9324941 |\n",
       "| 6 | 101 | 6 |  -5 | -0.6666667 | -1.2678081 |  0.6881956 | -0.6666667 | -1.2678081 |  0.6881956 |\n",
       "\n"
      ],
      "text/plain": [
       "  id  time timec fwkstrcw   fwkdiscw   freldiscw  x          m         \n",
       "1 101 1    -10    0.3333333  0.9828781 -1.4420726  0.3333333  0.9828781\n",
       "2 101 2     -9    0.3333333  0.9279833  0.1441343  0.3333333  0.9279833\n",
       "3 101 3     -8    0.3333333 -0.7188603 -1.6259807  0.3333333 -0.7188603\n",
       "4 101 4     -7    1.3333333  0.7450007  1.9219121  1.3333333  0.7450007\n",
       "5 101 5     -6   -1.6666667 -0.1241668 -1.9324941 -1.6666667 -0.1241668\n",
       "6 101 6     -5   -0.6666667 -1.2678081  0.6881956 -0.6666667 -1.2678081\n",
       "  y         \n",
       "1 -1.4420726\n",
       "2  0.1441343\n",
       "3 -1.6259807\n",
       "4  1.9219121\n",
       "5 -1.9324941\n",
       "6  0.6881956"
      ]
     },
     "metadata": {},
     "output_type": "display_data"
    },
    {
     "data": {
      "text/html": [
       "<style>\n",
       ".list-inline {list-style: none; margin:0; padding: 0}\n",
       ".list-inline>li {display: inline-block}\n",
       ".list-inline>li:not(:last-child)::after {content: \"\\00b7\"; padding: 0 .5ex}\n",
       "</style>\n",
       "<ol class=list-inline><li>2100</li><li>9</li></ol>\n"
      ],
      "text/latex": [
       "\\begin{enumerate*}\n",
       "\\item 2100\n",
       "\\item 9\n",
       "\\end{enumerate*}\n"
      ],
      "text/markdown": [
       "1. 2100\n",
       "2. 9\n",
       "\n",
       "\n"
      ],
      "text/plain": [
       "[1] 2100    9"
      ]
     },
     "metadata": {},
     "output_type": "display_data"
    }
   ],
   "source": [
    "# 新生成x,y,z\n",
    "data1$x <- data1$fwkstrcw\n",
    "data1$m <- data1$fwkdiscw\n",
    "data1$y <- data1$freldiscw\n",
    "head(data1)\n",
    "dim(data1)"
   ]
  },
  {
   "cell_type": "code",
   "execution_count": 12,
   "id": "aba7d2ad",
   "metadata": {},
   "outputs": [
    {
     "data": {
      "text/html": [
       "<table class=\"dataframe\">\n",
       "<caption>A data.frame: 6 × 9</caption>\n",
       "<thead>\n",
       "\t<tr><th></th><th scope=col>id</th><th scope=col>time</th><th scope=col>timec</th><th scope=col>fwkstrcw</th><th scope=col>fwkdiscw</th><th scope=col>freldiscw</th><th scope=col>x</th><th scope=col>dv</th><th scope=col>z</th></tr>\n",
       "\t<tr><th></th><th scope=col>&lt;int&gt;</th><th scope=col>&lt;int&gt;</th><th scope=col>&lt;int&gt;</th><th scope=col>&lt;dbl&gt;</th><th scope=col>&lt;dbl&gt;</th><th scope=col>&lt;dbl&gt;</th><th scope=col>&lt;dbl&gt;</th><th scope=col>&lt;fct&gt;</th><th scope=col>&lt;dbl&gt;</th></tr>\n",
       "</thead>\n",
       "<tbody>\n",
       "\t<tr><th scope=row>1</th><td>101</td><td>1</td><td>-10</td><td> 0.3333333</td><td> 0.9828781</td><td>-1.4420726</td><td> 0.3333333</td><td>m</td><td> 0.9828781</td></tr>\n",
       "\t<tr><th scope=row>2</th><td>101</td><td>2</td><td> -9</td><td> 0.3333333</td><td> 0.9279833</td><td> 0.1441343</td><td> 0.3333333</td><td>m</td><td> 0.9279833</td></tr>\n",
       "\t<tr><th scope=row>3</th><td>101</td><td>3</td><td> -8</td><td> 0.3333333</td><td>-0.7188603</td><td>-1.6259807</td><td> 0.3333333</td><td>m</td><td>-0.7188603</td></tr>\n",
       "\t<tr><th scope=row>4</th><td>101</td><td>4</td><td> -7</td><td> 1.3333333</td><td> 0.7450007</td><td> 1.9219121</td><td> 1.3333333</td><td>m</td><td> 0.7450007</td></tr>\n",
       "\t<tr><th scope=row>5</th><td>101</td><td>5</td><td> -6</td><td>-1.6666667</td><td>-0.1241668</td><td>-1.9324941</td><td>-1.6666667</td><td>m</td><td>-0.1241668</td></tr>\n",
       "\t<tr><th scope=row>6</th><td>101</td><td>6</td><td> -5</td><td>-0.6666667</td><td>-1.2678081</td><td> 0.6881956</td><td>-0.6666667</td><td>m</td><td>-1.2678081</td></tr>\n",
       "</tbody>\n",
       "</table>\n"
      ],
      "text/latex": [
       "A data.frame: 6 × 9\n",
       "\\begin{tabular}{r|lllllllll}\n",
       "  & id & time & timec & fwkstrcw & fwkdiscw & freldiscw & x & dv & z\\\\\n",
       "  & <int> & <int> & <int> & <dbl> & <dbl> & <dbl> & <dbl> & <fct> & <dbl>\\\\\n",
       "\\hline\n",
       "\t1 & 101 & 1 & -10 &  0.3333333 &  0.9828781 & -1.4420726 &  0.3333333 & m &  0.9828781\\\\\n",
       "\t2 & 101 & 2 &  -9 &  0.3333333 &  0.9279833 &  0.1441343 &  0.3333333 & m &  0.9279833\\\\\n",
       "\t3 & 101 & 3 &  -8 &  0.3333333 & -0.7188603 & -1.6259807 &  0.3333333 & m & -0.7188603\\\\\n",
       "\t4 & 101 & 4 &  -7 &  1.3333333 &  0.7450007 &  1.9219121 &  1.3333333 & m &  0.7450007\\\\\n",
       "\t5 & 101 & 5 &  -6 & -1.6666667 & -0.1241668 & -1.9324941 & -1.6666667 & m & -0.1241668\\\\\n",
       "\t6 & 101 & 6 &  -5 & -0.6666667 & -1.2678081 &  0.6881956 & -0.6666667 & m & -1.2678081\\\\\n",
       "\\end{tabular}\n"
      ],
      "text/markdown": [
       "\n",
       "A data.frame: 6 × 9\n",
       "\n",
       "| <!--/--> | id &lt;int&gt; | time &lt;int&gt; | timec &lt;int&gt; | fwkstrcw &lt;dbl&gt; | fwkdiscw &lt;dbl&gt; | freldiscw &lt;dbl&gt; | x &lt;dbl&gt; | dv &lt;fct&gt; | z &lt;dbl&gt; |\n",
       "|---|---|---|---|---|---|---|---|---|---|\n",
       "| 1 | 101 | 1 | -10 |  0.3333333 |  0.9828781 | -1.4420726 |  0.3333333 | m |  0.9828781 |\n",
       "| 2 | 101 | 2 |  -9 |  0.3333333 |  0.9279833 |  0.1441343 |  0.3333333 | m |  0.9279833 |\n",
       "| 3 | 101 | 3 |  -8 |  0.3333333 | -0.7188603 | -1.6259807 |  0.3333333 | m | -0.7188603 |\n",
       "| 4 | 101 | 4 |  -7 |  1.3333333 |  0.7450007 |  1.9219121 |  1.3333333 | m |  0.7450007 |\n",
       "| 5 | 101 | 5 |  -6 | -1.6666667 | -0.1241668 | -1.9324941 | -1.6666667 | m | -0.1241668 |\n",
       "| 6 | 101 | 6 |  -5 | -0.6666667 | -1.2678081 |  0.6881956 | -0.6666667 | m | -1.2678081 |\n",
       "\n"
      ],
      "text/plain": [
       "  id  time timec fwkstrcw   fwkdiscw   freldiscw  x          dv z         \n",
       "1 101 1    -10    0.3333333  0.9828781 -1.4420726  0.3333333 m   0.9828781\n",
       "2 101 2     -9    0.3333333  0.9279833  0.1441343  0.3333333 m   0.9279833\n",
       "3 101 3     -8    0.3333333 -0.7188603 -1.6259807  0.3333333 m  -0.7188603\n",
       "4 101 4     -7    1.3333333  0.7450007  1.9219121  1.3333333 m   0.7450007\n",
       "5 101 5     -6   -1.6666667 -0.1241668 -1.9324941 -1.6666667 m  -0.1241668\n",
       "6 101 6     -5   -0.6666667 -1.2678081  0.6881956 -0.6666667 m  -1.2678081"
      ]
     },
     "metadata": {},
     "output_type": "display_data"
    },
    {
     "data": {
      "text/html": [
       "<style>\n",
       ".list-inline {list-style: none; margin:0; padding: 0}\n",
       ".list-inline>li {display: inline-block}\n",
       ".list-inline>li:not(:last-child)::after {content: \"\\00b7\"; padding: 0 .5ex}\n",
       "</style>\n",
       "<ol class=list-inline><li>4200</li><li>9</li></ol>\n"
      ],
      "text/latex": [
       "\\begin{enumerate*}\n",
       "\\item 4200\n",
       "\\item 9\n",
       "\\end{enumerate*}\n"
      ],
      "text/markdown": [
       "1. 4200\n",
       "2. 9\n",
       "\n",
       "\n"
      ],
      "text/plain": [
       "[1] 4200    9"
      ]
     },
     "metadata": {},
     "output_type": "display_data"
    }
   ],
   "source": [
    "#melting data\n",
    "datalong <- melt(data = data1,\n",
    "               id.vars = c(\"id\", \"time\", \"timec\",\"fwkstrcw\", \"fwkdiscw\", \"freldiscw\",\"x\"),\n",
    "               na.rm = FALSE, \n",
    "               variable.name = \"dv\",\n",
    "               value.name = \"z\")\n",
    "\n",
    "head(datalong)\n",
    "dim(datalong)"
   ]
  },
  {
   "cell_type": "code",
   "execution_count": 15,
   "id": "8e876458",
   "metadata": {},
   "outputs": [
    {
     "data": {
      "text/html": [
       "<table class=\"dataframe\">\n",
       "<caption>A data.frame: 6 × 11</caption>\n",
       "<thead>\n",
       "\t<tr><th></th><th scope=col>id</th><th scope=col>time</th><th scope=col>timec</th><th scope=col>fwkstrcw</th><th scope=col>fwkdiscw</th><th scope=col>freldiscw</th><th scope=col>x</th><th scope=col>dv</th><th scope=col>z</th><th scope=col>dy</th><th scope=col>dm</th></tr>\n",
       "\t<tr><th></th><th scope=col>&lt;int&gt;</th><th scope=col>&lt;int&gt;</th><th scope=col>&lt;int&gt;</th><th scope=col>&lt;dbl&gt;</th><th scope=col>&lt;dbl&gt;</th><th scope=col>&lt;dbl&gt;</th><th scope=col>&lt;dbl&gt;</th><th scope=col>&lt;fct&gt;</th><th scope=col>&lt;dbl&gt;</th><th scope=col>&lt;dbl&gt;</th><th scope=col>&lt;dbl&gt;</th></tr>\n",
       "</thead>\n",
       "<tbody>\n",
       "\t<tr><th scope=row>1</th><td>101</td><td>1</td><td>-10</td><td> 0.3333333</td><td> 0.9828781</td><td>-1.4420726</td><td> 0.3333333</td><td>m</td><td> 0.9828781</td><td>0</td><td>1</td></tr>\n",
       "\t<tr><th scope=row>2</th><td>101</td><td>2</td><td> -9</td><td> 0.3333333</td><td> 0.9279833</td><td> 0.1441343</td><td> 0.3333333</td><td>m</td><td> 0.9279833</td><td>0</td><td>1</td></tr>\n",
       "\t<tr><th scope=row>3</th><td>101</td><td>3</td><td> -8</td><td> 0.3333333</td><td>-0.7188603</td><td>-1.6259807</td><td> 0.3333333</td><td>m</td><td>-0.7188603</td><td>0</td><td>1</td></tr>\n",
       "\t<tr><th scope=row>4</th><td>101</td><td>4</td><td> -7</td><td> 1.3333333</td><td> 0.7450007</td><td> 1.9219121</td><td> 1.3333333</td><td>m</td><td> 0.7450007</td><td>0</td><td>1</td></tr>\n",
       "\t<tr><th scope=row>5</th><td>101</td><td>5</td><td> -6</td><td>-1.6666667</td><td>-0.1241668</td><td>-1.9324941</td><td>-1.6666667</td><td>m</td><td>-0.1241668</td><td>0</td><td>1</td></tr>\n",
       "\t<tr><th scope=row>6</th><td>101</td><td>6</td><td> -5</td><td>-0.6666667</td><td>-1.2678081</td><td> 0.6881956</td><td>-0.6666667</td><td>m</td><td>-1.2678081</td><td>0</td><td>1</td></tr>\n",
       "</tbody>\n",
       "</table>\n"
      ],
      "text/latex": [
       "A data.frame: 6 × 11\n",
       "\\begin{tabular}{r|lllllllllll}\n",
       "  & id & time & timec & fwkstrcw & fwkdiscw & freldiscw & x & dv & z & dy & dm\\\\\n",
       "  & <int> & <int> & <int> & <dbl> & <dbl> & <dbl> & <dbl> & <fct> & <dbl> & <dbl> & <dbl>\\\\\n",
       "\\hline\n",
       "\t1 & 101 & 1 & -10 &  0.3333333 &  0.9828781 & -1.4420726 &  0.3333333 & m &  0.9828781 & 0 & 1\\\\\n",
       "\t2 & 101 & 2 &  -9 &  0.3333333 &  0.9279833 &  0.1441343 &  0.3333333 & m &  0.9279833 & 0 & 1\\\\\n",
       "\t3 & 101 & 3 &  -8 &  0.3333333 & -0.7188603 & -1.6259807 &  0.3333333 & m & -0.7188603 & 0 & 1\\\\\n",
       "\t4 & 101 & 4 &  -7 &  1.3333333 &  0.7450007 &  1.9219121 &  1.3333333 & m &  0.7450007 & 0 & 1\\\\\n",
       "\t5 & 101 & 5 &  -6 & -1.6666667 & -0.1241668 & -1.9324941 & -1.6666667 & m & -0.1241668 & 0 & 1\\\\\n",
       "\t6 & 101 & 6 &  -5 & -0.6666667 & -1.2678081 &  0.6881956 & -0.6666667 & m & -1.2678081 & 0 & 1\\\\\n",
       "\\end{tabular}\n"
      ],
      "text/markdown": [
       "\n",
       "A data.frame: 6 × 11\n",
       "\n",
       "| <!--/--> | id &lt;int&gt; | time &lt;int&gt; | timec &lt;int&gt; | fwkstrcw &lt;dbl&gt; | fwkdiscw &lt;dbl&gt; | freldiscw &lt;dbl&gt; | x &lt;dbl&gt; | dv &lt;fct&gt; | z &lt;dbl&gt; | dy &lt;dbl&gt; | dm &lt;dbl&gt; |\n",
       "|---|---|---|---|---|---|---|---|---|---|---|---|\n",
       "| 1 | 101 | 1 | -10 |  0.3333333 |  0.9828781 | -1.4420726 |  0.3333333 | m |  0.9828781 | 0 | 1 |\n",
       "| 2 | 101 | 2 |  -9 |  0.3333333 |  0.9279833 |  0.1441343 |  0.3333333 | m |  0.9279833 | 0 | 1 |\n",
       "| 3 | 101 | 3 |  -8 |  0.3333333 | -0.7188603 | -1.6259807 |  0.3333333 | m | -0.7188603 | 0 | 1 |\n",
       "| 4 | 101 | 4 |  -7 |  1.3333333 |  0.7450007 |  1.9219121 |  1.3333333 | m |  0.7450007 | 0 | 1 |\n",
       "| 5 | 101 | 5 |  -6 | -1.6666667 | -0.1241668 | -1.9324941 | -1.6666667 | m | -0.1241668 | 0 | 1 |\n",
       "| 6 | 101 | 6 |  -5 | -0.6666667 | -1.2678081 |  0.6881956 | -0.6666667 | m | -1.2678081 | 0 | 1 |\n",
       "\n"
      ],
      "text/plain": [
       "  id  time timec fwkstrcw   fwkdiscw   freldiscw  x          dv z          dy\n",
       "1 101 1    -10    0.3333333  0.9828781 -1.4420726  0.3333333 m   0.9828781 0 \n",
       "2 101 2     -9    0.3333333  0.9279833  0.1441343  0.3333333 m   0.9279833 0 \n",
       "3 101 3     -8    0.3333333 -0.7188603 -1.6259807  0.3333333 m  -0.7188603 0 \n",
       "4 101 4     -7    1.3333333  0.7450007  1.9219121  1.3333333 m   0.7450007 0 \n",
       "5 101 5     -6   -1.6666667 -0.1241668 -1.9324941 -1.6666667 m  -0.1241668 0 \n",
       "6 101 6     -5   -0.6666667 -1.2678081  0.6881956 -0.6666667 m  -1.2678081 0 \n",
       "  dm\n",
       "1 1 \n",
       "2 1 \n",
       "3 1 \n",
       "4 1 \n",
       "5 1 \n",
       "6 1 "
      ]
     },
     "metadata": {},
     "output_type": "display_data"
    }
   ],
   "source": [
    "# 增加1/0变量\n",
    "datalong$dy <- ifelse(datalong$dv==\"y\", 1, 0)\n",
    "datalong$dm <- ifelse(datalong$dv==\"m\", 1, 0)\n",
    "\n",
    "head(datalong)"
   ]
  },
  {
   "attachments": {
    "image-2.png": {
     "image/png": "[encoded data removed]"
    },
    "image-3.png": {
     "image/png": "[encoded data removed]"
    }
   },
   "cell_type": "markdown",
   "id": "3d996204",
   "metadata": {},
   "source": [
    "#### 中介模型建模\n",
    "\n",
    "自变量：fwkstrcw (x) 和 timec\n",
    "\n",
    "中介变量：fwkdiscw (m)\n",
    "\n",
    "两个虚拟变量：dm 和 dy\n",
    "\n",
    "\n",
    "\n",
    "![image-2.png](attachment:image-2.png)\n",
    "![image-3.png](attachment:image-3.png)"
   ]
  },
  {
   "cell_type": "code",
   "execution_count": 17,
   "id": "f32bb0bb",
   "metadata": {},
   "outputs": [
    {
     "data": {
      "text/plain": [
       "Linear mixed-effects model fit by REML\n",
       "  Data: datalong \n",
       "       AIC      BIC    logLik\n",
       "  12195.67 12290.79 -6082.837\n",
       "\n",
       "Random effects:\n",
       " Formula: ~-1 + dm:fwkstrcw + dy:fwkdiscw + dy:fwkstrcw | id\n",
       " Structure: General positive-definite, Log-Cholesky parametrization\n",
       "            StdDev     Corr         \n",
       "dm:fwkstrcw 0.26103020 dm:fwk dy:fwk\n",
       "dy:fwkdiscw 0.21769909 0.542        \n",
       "fwkstrcw:dy 0.08798665 0.441  0.932 \n",
       "Residual    1.08982601              \n",
       "\n",
       "Variance function:\n",
       " Structure: Different standard deviations per stratum\n",
       " Formula: ~1 | dm \n",
       " Parameter estimates:\n",
       "        1         0 \n",
       "1.0000000 0.8492324 \n",
       "Fixed effects:  z ~ -1 + dm + dm:fwkstrcw + dm:timec + dy + dy:fwkdiscw + dy:fwkstrcw +      dy:timec \n",
       "                  Value  Std.Error   DF   t-value p-value\n",
       "dm          -0.00000623 0.02378243 4094 -0.000262  0.9998\n",
       "dy          -0.00011824 0.02019650 4094 -0.005855  0.9953\n",
       "dm:fwkstrcw  0.19030912 0.03559543 4094  5.346448  0.0000\n",
       "dm:timec    -0.00583706 0.00397737 4094 -1.467570  0.1423\n",
       "dy:fwkdiscw  0.14780833 0.02866743 4094  5.155966  0.0000\n",
       "fwkstrcw:dy  0.10548277 0.02267412 4094  4.652121  0.0000\n",
       "timec:dy    -0.00247302 0.00338844 4094 -0.729839  0.4655\n",
       " Correlation: \n",
       "            dm     dy     dm:fwk dm:tmc dy:fwk fwkst:\n",
       "dy           0.000                                   \n",
       "dm:fwkstrcw -0.001  0.000                            \n",
       "dm:timec     0.000  0.000 -0.012                     \n",
       "dy:fwkdiscw  0.000  0.000  0.301  0.001              \n",
       "fwkstrcw:dy  0.000 -0.001  0.127  0.001  0.190       \n",
       "timec:dy     0.000  0.000  0.000  0.003  0.015 -0.014\n",
       "\n",
       "Standardized Within-Group Residuals:\n",
       "         Min           Q1          Med           Q3          Max \n",
       "-3.547996905 -0.675619228 -0.007149205  0.670459289  3.349086937 \n",
       "\n",
       "Number of Observations: 4200\n",
       "Number of Groups: 100 "
      ]
     },
     "metadata": {},
     "output_type": "display_data"
    }
   ],
   "source": [
    "#lmer mediation model\n",
    "mediationmodel.lmer <- lme(fixed = z ~ -1 + \n",
    "                 dm + dm:fwkstrcw + dm:timec +\n",
    "                 dy + dy:fwkdiscw + dy:fwkstrcw + dy:timec,  \n",
    "                 \n",
    "                 random = ~ -1  +  dm:fwkstrcw + dy:fwkdiscw + dy:fwkstrcw | id, \n",
    "                 weights = varIdent(form = ~ 1 | dm), #separate sigma^{2}_{e} for each outcome\n",
    "                 data = datalong,\n",
    "                 na.action = na.exclude,\n",
    "                control = lmeControl(opt = \"optim\", maxIter = 200, msMaxIter = 200, niterEM = 50, msMaxEval = 400))\n",
    "\n",
    "medmodelsummary <- summary(mediationmodel.lmer)\n",
    "medmodelsummary"
   ]
  },
  {
   "cell_type": "markdown",
   "id": "f02c41f9",
   "metadata": {},
   "source": [
    "0.0000224 是 m 为结果变量时的截距\n",
    "\n",
    "-0.0001127 是 y为结果变量时的截距\n",
    "\n",
    "0.1909479  是 x(fwkstrcw) 对 m （fwkdiscw）的预测效应\n",
    "\n",
    "-0.0059983  是 time 对 m 的预测效应（即，m 随时间增长的斜率）\n",
    "\n",
    "0.1490725  是 m 对 y（freldiscw）的预测效应\n",
    "\n",
    "0.1042151 是 x 对 y（freldiscw）的预测效应\n",
    "\n",
    "-0.0024735 是 time 对 y 的预测效应（即，y 岁时间增长的斜率）"
   ]
  },
  {
   "cell_type": "markdown",
   "id": "74c9bcfa",
   "metadata": {},
   "source": [
    "#### 提取固定效应"
   ]
  },
  {
   "cell_type": "code",
   "execution_count": 18,
   "id": "558bb522",
   "metadata": {},
   "outputs": [
    {
     "data": {
      "text/html": [
       "<style>\n",
       ".dl-inline {width: auto; margin:0; padding: 0}\n",
       ".dl-inline>dt, .dl-inline>dd {float: none; width: auto; display: inline-block}\n",
       ".dl-inline>dt::after {content: \":\\0020\"; padding-right: .5ex}\n",
       ".dl-inline>dt:not(:first-of-type) {padding-left: .5ex}\n",
       "</style><dl class=dl-inline><dt>dm</dt><dd>-6.23433953688288e-06</dd><dt>dy</dt><dd>-0.000118244945895903</dd><dt>dm:fwkstrcw</dt><dd>0.190309118010463</dd><dt>dm:timec</dt><dd>-0.00583706067167387</dd><dt>dy:fwkdiscw</dt><dd>0.147808327005768</dd><dt>fwkstrcw:dy</dt><dd>0.105482765315752</dd><dt>timec:dy</dt><dd>-0.00247301585489071</dd></dl>\n"
      ],
      "text/latex": [
       "\\begin{description*}\n",
       "\\item[dm] -6.23433953688288e-06\n",
       "\\item[dy] -0.000118244945895903\n",
       "\\item[dm:fwkstrcw] 0.190309118010463\n",
       "\\item[dm:timec] -0.00583706067167387\n",
       "\\item[dy:fwkdiscw] 0.147808327005768\n",
       "\\item[fwkstrcw:dy] 0.105482765315752\n",
       "\\item[timec:dy] -0.00247301585489071\n",
       "\\end{description*}\n"
      ],
      "text/markdown": [
       "dm\n",
       ":   -6.23433953688288e-06dy\n",
       ":   -0.000118244945895903dm:fwkstrcw\n",
       ":   0.190309118010463dm:timec\n",
       ":   -0.00583706067167387dy:fwkdiscw\n",
       ":   0.147808327005768fwkstrcw:dy\n",
       ":   0.105482765315752timec:dy\n",
       ":   -0.00247301585489071\n",
       "\n"
      ],
      "text/plain": [
       "           dm            dy   dm:fwkstrcw      dm:timec   dy:fwkdiscw \n",
       "-6.234340e-06 -1.182449e-04  1.903091e-01 -5.837061e-03  1.478083e-01 \n",
       "  fwkstrcw:dy      timec:dy \n",
       " 1.054828e-01 -2.473016e-03 "
      ]
     },
     "metadata": {},
     "output_type": "display_data"
    }
   ],
   "source": [
    "FE <- fixef(model_lme)\n",
    "FE"
   ]
  },
  {
   "cell_type": "code",
   "execution_count": 19,
   "id": "a0e4748f",
   "metadata": {},
   "outputs": [
    {
     "data": {
      "text/html": [
       "0.190309118010463"
      ],
      "text/latex": [
       "0.190309118010463"
      ],
      "text/markdown": [
       "0.190309118010463"
      ],
      "text/plain": [
       "[1] 0.1903091"
      ]
     },
     "metadata": {},
     "output_type": "display_data"
    }
   ],
   "source": [
    "# 自变量对中介变量的预测路径(a效应)\n",
    "a <- as.numeric(FE[3])\n",
    "a"
   ]
  },
  {
   "cell_type": "code",
   "execution_count": 20,
   "id": "bd865443",
   "metadata": {},
   "outputs": [
    {
     "data": {
      "text/html": [
       "0.147808327005768"
      ],
      "text/latex": [
       "0.147808327005768"
      ],
      "text/markdown": [
       "0.147808327005768"
      ],
      "text/plain": [
       "[1] 0.1478083"
      ]
     },
     "metadata": {},
     "output_type": "display_data"
    }
   ],
   "source": [
    "# 中介变量对因变量的预测路径（b效应）\n",
    "b <- as.numeric(FE[5])\n",
    "b"
   ]
  },
  {
   "cell_type": "code",
   "execution_count": 21,
   "id": "8ded0bb5",
   "metadata": {},
   "outputs": [
    {
     "data": {
      "text/html": [
       "0.105482765315752"
      ],
      "text/latex": [
       "0.105482765315752"
      ],
      "text/markdown": [
       "0.105482765315752"
      ],
      "text/plain": [
       "[1] 0.1054828"
      ]
     },
     "metadata": {},
     "output_type": "display_data"
    }
   ],
   "source": [
    "# 自变量对因变量的直接效应(主效应)\n",
    "cprime <- as.numeric(FE[6])\n",
    "cprime"
   ]
  },
  {
   "cell_type": "markdown",
   "id": "8a1ff91e",
   "metadata": {},
   "source": [
    "#### 提取 random effect"
   ]
  },
  {
   "cell_type": "code",
   "execution_count": 22,
   "id": "2c5d2b4e",
   "metadata": {},
   "outputs": [
    {
     "data": {
      "text/plain": [
       "id = pdLogChol(-1 + dm:fwkstrcw + dy:fwkdiscw + dy:fwkstrcw) \n",
       "            Variance    StdDev     Corr         \n",
       "dm:fwkstrcw 0.068136768 0.26103020 dm:fwk dy:fwk\n",
       "dy:fwkdiscw 0.047392895 0.21769909 0.542        \n",
       "fwkstrcw:dy 0.007741651 0.08798665 0.441  0.932 \n",
       "Residual    1.187720736 1.08982601              "
      ]
     },
     "metadata": {},
     "output_type": "display_data"
    }
   ],
   "source": [
    "VarCorr(model_lme)"
   ]
  },
  {
   "cell_type": "markdown",
   "id": "29f6798c",
   "metadata": {},
   "source": [
    "#### 计算中介效应\n"
   ]
  },
  {
   "cell_type": "code",
   "execution_count": 24,
   "id": "dd32b5b5",
   "metadata": {},
   "outputs": [
    {
     "data": {
      "text/html": [
       "0.0307997120553648"
      ],
      "text/latex": [
       "0.0307997120553648"
      ],
      "text/markdown": [
       "0.0307997120553648"
      ],
      "text/plain": [
       "[1] 0.03079971"
      ]
     },
     "metadata": {},
     "output_type": "display_data"
    }
   ],
   "source": [
    "# a 的路径效应的 random effect（取 标准差，下同）\n",
    "sig2_a <- as.numeric(VarCorr(model_lme)[1,2])\n",
    "# b 的路径效应 random effect\n",
    "sig2_b <- as.numeric(VarCorr(model_lme)[2,2])\n",
    "\n",
    "# a, b的correlation\n",
    "cor_ajbj <- as.numeric(VarCorr(model_lme)[2,3])\n",
    "\n",
    "# a, b路径的covariance\n",
    "covajbj <- sig2_a * sig2_b * cor_ajbj\n",
    "covajbj"
   ]
  },
  {
   "cell_type": "code",
   "execution_count": 25,
   "id": "4f2e8d6c",
   "metadata": {},
   "outputs": [
    {
     "data": {
      "text/html": [
       "0.0589289844024347"
      ],
      "text/latex": [
       "0.0589289844024347"
      ],
      "text/markdown": [
       "0.0589289844024347"
      ],
      "text/plain": [
       "[1] 0.05892898"
      ]
     },
     "metadata": {},
     "output_type": "display_data"
    }
   ],
   "source": [
    "indirecteffect <- a*b + covajbj  \n",
    "indirecteffect\n"
   ]
  },
  {
   "attachments": {
    "image.png": {
     "image/png": "[encoded data removed]"
    }
   },
   "cell_type": "markdown",
   "id": "c25869c9",
   "metadata": {},
   "source": [
    "![image.png](attachment:image.png)"
   ]
  },
  {
   "cell_type": "markdown",
   "id": "11614bb7",
   "metadata": {},
   "source": [
    "#### 计算总效应"
   ]
  },
  {
   "cell_type": "code",
   "execution_count": 26,
   "id": "cc7afcb0",
   "metadata": {},
   "outputs": [
    {
     "data": {
      "text/html": [
       "0.164411749718186"
      ],
      "text/latex": [
       "0.164411749718186"
      ],
      "text/markdown": [
       "0.164411749718186"
      ],
      "text/plain": [
       "[1] 0.1644117"
      ]
     },
     "metadata": {},
     "output_type": "display_data"
    }
   ],
   "source": [
    "totaleffect <- cprime + a*b + covajbj \n",
    "totaleffect"
   ]
  },
  {
   "cell_type": "markdown",
   "id": "e9d41b9f",
   "metadata": {},
   "source": [
    "### 如何计算中介效应的置信区间？\n",
    "\n",
    "使用蒙地卡罗法"
   ]
  },
  {
   "cell_type": "code",
   "execution_count": 27,
   "id": "27d5bf1c",
   "metadata": {},
   "outputs": [],
   "source": [
    "a=0.1911433\n",
    "b=0.1490231\n",
    "covajbj=0.03123412\n",
    "vara=0.001268965\n",
    "varb=0.0008323414\n",
    "covab=0.0003114941\n",
    "varcovajbj=0.0001"
   ]
  },
  {
   "cell_type": "code",
   "execution_count": 29,
   "id": "31b8c57e",
   "metadata": {},
   "outputs": [],
   "source": [
    "# 重复2万次，置信度95%\n",
    "rep=20000\n",
    "conf=95\n",
    "dvec=rnorm(rep) # 随机生成2万数据点的正态分布数据集 dvec\n",
    "avec=dvec*sqrt(vara)+a  # dvec 乘以 a路径变异（平方） 加 a路径效应\n",
    "bvec=dvec*covab/sqrt(vara)+sqrt(varb)*rnorm(rep,sd=sqrt(1-(covab^2)/(vara*varb)))+b\n",
    "cvec=rnorm(rep)*sqrt(varcovajbj)+covajbj\n",
    "ab=avec*bvec+cvec"
   ]
  },
  {
   "cell_type": "code",
   "execution_count": 30,
   "id": "4ce75ff8",
   "metadata": {},
   "outputs": [
    {
     "data": {
      "image/png": "[encoded data removed]",
      "text/plain": [
       "Plot with title \"Distribution of Indirect Effect\""
      ]
     },
     "metadata": {
      "image/png": {
       "height": 420,
       "width": 420
      }
     },
     "output_type": "display_data"
    }
   ],
   "source": [
    "\n",
    "low=(1-conf/100)/2\n",
    "upp=((1-conf/100)/2)+(conf/100)\n",
    "LL=quantile(ab,low)\n",
    "UL=quantile(ab,upp)\n",
    "LL4=format(LL,digits=4)\n",
    "UL4=format(UL,digits=4)\n",
    "################################################\n",
    "# The number of columns in the histogram can   #\n",
    "# be changed by replacing 'FD' below with      #\n",
    "# an integer value.                            #\n",
    "################################################\n",
    "hist(ab,breaks='FD',col='skyblue',xlab=paste(conf,'% Confidence Interval ','LL',LL4,'  UL',UL4),\n",
    "main='Distribution of Indirect Effect')\n"
   ]
  }
 ],
 "metadata": {
  "kernelspec": {
   "display_name": "R",
   "language": "R",
   "name": "ir"
  },
  "language_info": {
   "codemirror_mode": "r",
   "file_extension": ".r",
   "mimetype": "text/x-r-source",
   "name": "R",
   "pygments_lexer": "r",
   "version": "4.2.1"
  }
 },
 "nbformat": 4,
 "nbformat_minor": 5
}
