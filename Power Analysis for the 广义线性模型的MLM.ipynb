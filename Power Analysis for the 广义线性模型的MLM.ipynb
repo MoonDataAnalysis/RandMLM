{
 "cells": [
  {
   "cell_type": "markdown",
   "id": "bf644054",
   "metadata": {},
   "source": [
    "# 广义多层线性模型——统计功效和样本量（Power Analysis for MLM）\n",
    "\n",
    "我们常常避不开一个问题：你的样本量够吗？\n",
    "\n",
    "上节我们学习确定多层线性模型的统计功效，\n",
    "\n",
    "这一节我们更进一步，学习广义多层线性模型如何确定统计功效。"
   ]
  },
  {
   "cell_type": "code",
   "execution_count": 1,
   "id": "3be14adc",
   "metadata": {},
   "outputs": [
    {
     "name": "stderr",
     "output_type": "stream",
     "text": [
      "Warning message:\n",
      "\"程辑包'psych'是用R版本4.2.3 来建造的\"\n",
      "Warning message:\n",
      "\"程辑包'lme4'是用R版本4.2.3 来建造的\"\n",
      "载入需要的程辑包：Matrix\n",
      "\n",
      "Warning message:\n",
      "\"程辑包'Matrix'是用R版本4.2.3 来建造的\"\n",
      "Warning message:\n",
      "\"程辑包'simr'是用R版本4.2.3 来建造的\"\n",
      "\n",
      "载入程辑包：'simr'\n",
      "\n",
      "\n",
      "The following object is masked from 'package:lme4':\n",
      "\n",
      "    getData\n",
      "\n",
      "\n",
      "Warning message:\n",
      "\"程辑包'ggplot2'是用R版本4.2.3 来建造的\"\n",
      "\n",
      "载入程辑包：'ggplot2'\n",
      "\n",
      "\n",
      "The following objects are masked from 'package:psych':\n",
      "\n",
      "    %+%, alpha\n",
      "\n",
      "\n",
      "Warning message:\n",
      "\"程辑包'plyr'是用R版本4.2.3 来建造的\"\n",
      "Warning message:\n",
      "\"程辑包'lmerTest'是用R版本4.2.2 来建造的\"\n",
      "\n",
      "载入程辑包：'lmerTest'\n",
      "\n",
      "\n",
      "The following object is masked from 'package:lme4':\n",
      "\n",
      "    lmer\n",
      "\n",
      "\n",
      "The following object is masked from 'package:stats':\n",
      "\n",
      "    step\n",
      "\n",
      "\n"
     ]
    }
   ],
   "source": [
    "library(psych) # 用于描述数据\n",
    "library(lme4) # 多层线性模型函数库\n",
    "library(simr)  # 在R中用于做 power analysis 的函数库\n",
    "library(ggplot2) # 用于做可视化\n",
    "library(plyr)  # 用于做数据整理\n",
    "library(lmerTest)   # 计算 p 值"
   ]
  },
  {
   "cell_type": "code",
   "execution_count": 2,
   "id": "b1c3d9f9",
   "metadata": {},
   "outputs": [],
   "source": [
    "#set filepath for data file\n",
    "filepath <- \"https://quantdev.ssri.psu.edu/sites/qdev/files/BLdata_categorical.csv\"\n",
    "#read in the .csv file using the url() function\n",
    "data_categorical <- read.csv(file=url(filepath),header=TRUE)"
   ]
  },
  {
   "cell_type": "markdown",
   "id": "ac78f0ed",
   "metadata": {},
   "source": [
    "查看一下数据"
   ]
  },
  {
   "cell_type": "code",
   "execution_count": 3,
   "id": "94990a53",
   "metadata": {},
   "outputs": [
    {
     "data": {
      "text/html": [
       "<table class=\"dataframe\">\n",
       "<caption>A data.frame: 6 × 10</caption>\n",
       "<thead>\n",
       "\t<tr><th></th><th scope=col>id</th><th scope=col>time</th><th scope=col>time7c</th><th scope=col>pconf</th><th scope=col>lpconf</th><th scope=col>lpconfc</th><th scope=col>amang</th><th scope=col>amangc</th><th scope=col>amangcb</th><th scope=col>amangcw</th></tr>\n",
       "\t<tr><th></th><th scope=col>&lt;int&gt;</th><th scope=col>&lt;int&gt;</th><th scope=col>&lt;dbl&gt;</th><th scope=col>&lt;int&gt;</th><th scope=col>&lt;int&gt;</th><th scope=col>&lt;dbl&gt;</th><th scope=col>&lt;dbl&gt;</th><th scope=col>&lt;dbl&gt;</th><th scope=col>&lt;dbl&gt;</th><th scope=col>&lt;dbl&gt;</th></tr>\n",
       "</thead>\n",
       "<tbody>\n",
       "\t<tr><th scope=row>1</th><td>1</td><td>2</td><td>-1.875699</td><td>0</td><td>0</td><td>-0.1568773</td><td>0.4166667</td><td>-0.0697026</td><td>-0.4709372</td><td> 0.4012346</td></tr>\n",
       "\t<tr><th scope=row>2</th><td>1</td><td>3</td><td>-1.727551</td><td>0</td><td>0</td><td>-0.1568773</td><td>0.0000000</td><td>-0.4863693</td><td>-0.4709372</td><td>-0.0154321</td></tr>\n",
       "\t<tr><th scope=row>3</th><td>1</td><td>4</td><td>-1.579402</td><td>0</td><td>0</td><td>-0.1568773</td><td>0.0000000</td><td>-0.4863693</td><td>-0.4709372</td><td>-0.0154321</td></tr>\n",
       "\t<tr><th scope=row>4</th><td>1</td><td>5</td><td>-1.431254</td><td>0</td><td>0</td><td>-0.1568773</td><td>0.0000000</td><td>-0.4863693</td><td>-0.4709372</td><td>-0.0154321</td></tr>\n",
       "\t<tr><th scope=row>5</th><td>1</td><td>6</td><td>-1.283106</td><td>1</td><td>0</td><td>-0.1568773</td><td>0.0000000</td><td>-0.4863693</td><td>-0.4709372</td><td>-0.0154321</td></tr>\n",
       "\t<tr><th scope=row>6</th><td>1</td><td>7</td><td>-1.134958</td><td>0</td><td>1</td><td> 0.8431227</td><td>0.0000000</td><td>-0.4863693</td><td>-0.4709372</td><td>-0.0154321</td></tr>\n",
       "</tbody>\n",
       "</table>\n"
      ],
      "text/latex": [
       "A data.frame: 6 × 10\n",
       "\\begin{tabular}{r|llllllllll}\n",
       "  & id & time & time7c & pconf & lpconf & lpconfc & amang & amangc & amangcb & amangcw\\\\\n",
       "  & <int> & <int> & <dbl> & <int> & <int> & <dbl> & <dbl> & <dbl> & <dbl> & <dbl>\\\\\n",
       "\\hline\n",
       "\t1 & 1 & 2 & -1.875699 & 0 & 0 & -0.1568773 & 0.4166667 & -0.0697026 & -0.4709372 &  0.4012346\\\\\n",
       "\t2 & 1 & 3 & -1.727551 & 0 & 0 & -0.1568773 & 0.0000000 & -0.4863693 & -0.4709372 & -0.0154321\\\\\n",
       "\t3 & 1 & 4 & -1.579402 & 0 & 0 & -0.1568773 & 0.0000000 & -0.4863693 & -0.4709372 & -0.0154321\\\\\n",
       "\t4 & 1 & 5 & -1.431254 & 0 & 0 & -0.1568773 & 0.0000000 & -0.4863693 & -0.4709372 & -0.0154321\\\\\n",
       "\t5 & 1 & 6 & -1.283106 & 1 & 0 & -0.1568773 & 0.0000000 & -0.4863693 & -0.4709372 & -0.0154321\\\\\n",
       "\t6 & 1 & 7 & -1.134958 & 0 & 1 &  0.8431227 & 0.0000000 & -0.4863693 & -0.4709372 & -0.0154321\\\\\n",
       "\\end{tabular}\n"
      ],
      "text/markdown": [
       "\n",
       "A data.frame: 6 × 10\n",
       "\n",
       "| <!--/--> | id &lt;int&gt; | time &lt;int&gt; | time7c &lt;dbl&gt; | pconf &lt;int&gt; | lpconf &lt;int&gt; | lpconfc &lt;dbl&gt; | amang &lt;dbl&gt; | amangc &lt;dbl&gt; | amangcb &lt;dbl&gt; | amangcw &lt;dbl&gt; |\n",
       "|---|---|---|---|---|---|---|---|---|---|---|\n",
       "| 1 | 1 | 2 | -1.875699 | 0 | 0 | -0.1568773 | 0.4166667 | -0.0697026 | -0.4709372 |  0.4012346 |\n",
       "| 2 | 1 | 3 | -1.727551 | 0 | 0 | -0.1568773 | 0.0000000 | -0.4863693 | -0.4709372 | -0.0154321 |\n",
       "| 3 | 1 | 4 | -1.579402 | 0 | 0 | -0.1568773 | 0.0000000 | -0.4863693 | -0.4709372 | -0.0154321 |\n",
       "| 4 | 1 | 5 | -1.431254 | 0 | 0 | -0.1568773 | 0.0000000 | -0.4863693 | -0.4709372 | -0.0154321 |\n",
       "| 5 | 1 | 6 | -1.283106 | 1 | 0 | -0.1568773 | 0.0000000 | -0.4863693 | -0.4709372 | -0.0154321 |\n",
       "| 6 | 1 | 7 | -1.134958 | 0 | 1 |  0.8431227 | 0.0000000 | -0.4863693 | -0.4709372 | -0.0154321 |\n",
       "\n"
      ],
      "text/plain": [
       "  id time time7c    pconf lpconf lpconfc    amang     amangc     amangcb   \n",
       "1 1  2    -1.875699 0     0      -0.1568773 0.4166667 -0.0697026 -0.4709372\n",
       "2 1  3    -1.727551 0     0      -0.1568773 0.0000000 -0.4863693 -0.4709372\n",
       "3 1  4    -1.579402 0     0      -0.1568773 0.0000000 -0.4863693 -0.4709372\n",
       "4 1  5    -1.431254 0     0      -0.1568773 0.0000000 -0.4863693 -0.4709372\n",
       "5 1  6    -1.283106 1     0      -0.1568773 0.0000000 -0.4863693 -0.4709372\n",
       "6 1  7    -1.134958 0     1       0.8431227 0.0000000 -0.4863693 -0.4709372\n",
       "  amangcw   \n",
       "1  0.4012346\n",
       "2 -0.0154321\n",
       "3 -0.0154321\n",
       "4 -0.0154321\n",
       "5 -0.0154321\n",
       "6 -0.0154321"
      ]
     },
     "metadata": {},
     "output_type": "display_data"
    }
   ],
   "source": [
    "head(data_categorical)"
   ]
  },
  {
   "cell_type": "markdown",
   "id": "18d00ecf",
   "metadata": {},
   "source": [
    "#### 被试量"
   ]
  },
  {
   "cell_type": "code",
   "execution_count": 4,
   "id": "08a53980",
   "metadata": {},
   "outputs": [
    {
     "data": {
      "text/html": [
       "61"
      ],
      "text/latex": [
       "61"
      ],
      "text/markdown": [
       "61"
      ],
      "text/plain": [
       "[1] 61"
      ]
     },
     "metadata": {},
     "output_type": "display_data"
    }
   ],
   "source": [
    "length(unique(data_categorical$id))"
   ]
  },
  {
   "cell_type": "markdown",
   "id": "eb2fda21",
   "metadata": {},
   "source": [
    "#### 时间点数量"
   ]
  },
  {
   "cell_type": "code",
   "execution_count": 5,
   "id": "89f5dd4e",
   "metadata": {},
   "outputs": [
    {
     "data": {
      "text/html": [
       "27"
      ],
      "text/latex": [
       "27"
      ],
      "text/markdown": [
       "27"
      ],
      "text/plain": [
       "[1] 27"
      ]
     },
     "metadata": {},
     "output_type": "display_data"
    }
   ],
   "source": [
    "length(unique(data_categorical$time))"
   ]
  },
  {
   "cell_type": "code",
   "execution_count": null,
   "id": "02868d31",
   "metadata": {},
   "outputs": [],
   "source": []
  }
 ],
 "metadata": {
  "kernelspec": {
   "display_name": "R",
   "language": "R",
   "name": "ir"
  },
  "language_info": {
   "codemirror_mode": "r",
   "file_extension": ".r",
   "mimetype": "text/x-r-source",
   "name": "R",
   "pygments_lexer": "r",
   "version": "4.2.1"
  }
 },
 "nbformat": 4,
 "nbformat_minor": 5
}
