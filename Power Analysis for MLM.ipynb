{
 "cells": [
  {
   "cell_type": "code",
   "execution_count": 1,
   "id": "db936b8c",
   "metadata": {},
   "outputs": [
    {
     "name": "stderr",
     "output_type": "stream",
     "text": [
      "Warning message:\n",
      "\"程辑包'psych'是用R版本4.2.3 来建造的\"\n",
      "Warning message:\n",
      "\"程辑包'lme4'是用R版本4.2.3 来建造的\"\n",
      "载入需要的程辑包：Matrix\n",
      "\n",
      "Warning message:\n",
      "\"程辑包'Matrix'是用R版本4.2.3 来建造的\"\n",
      "Warning message:\n",
      "\"程辑包'simr'是用R版本4.2.3 来建造的\"\n",
      "\n",
      "载入程辑包：'simr'\n",
      "\n",
      "\n",
      "The following object is masked from 'package:lme4':\n",
      "\n",
      "    getData\n",
      "\n",
      "\n",
      "Warning message:\n",
      "\"程辑包'ggplot2'是用R版本4.2.3 来建造的\"\n",
      "\n",
      "载入程辑包：'ggplot2'\n",
      "\n",
      "\n",
      "The following objects are masked from 'package:psych':\n",
      "\n",
      "    %+%, alpha\n",
      "\n",
      "\n",
      "Warning message:\n",
      "\"程辑包'plyr'是用R版本4.2.3 来建造的\"\n"
     ]
    }
   ],
   "source": [
    "library(psych) #for describing data\n",
    "library(lme4) # multilevel models\n",
    "library(simr)  #for power analysis simualtions\n",
    "library(ggplot2) # for data visualization\n",
    "library(plyr)  # for data manipulation"
   ]
  },
  {
   "cell_type": "markdown",
   "id": "8fd50685",
   "metadata": {},
   "source": [
    "##### 载入数据"
   ]
  },
  {
   "cell_type": "code",
   "execution_count": 2,
   "id": "52c6a32d",
   "metadata": {},
   "outputs": [],
   "source": [
    "#set filepath for data file\n",
    "filepath <- \"https://quantdev.ssri.psu.edu/sites/qdev/files/BLdata_time.csv\"\n",
    "#read in the .csv file using the url() function\n",
    "data_intimacy <- read.csv(file=url(filepath),header=TRUE)"
   ]
  },
  {
   "cell_type": "markdown",
   "id": "f9de2c5c",
   "metadata": {},
   "source": [
    "##### 描述数据"
   ]
  },
  {
   "cell_type": "code",
   "execution_count": 3,
   "id": "b13811d6",
   "metadata": {},
   "outputs": [
    {
     "data": {
      "text/html": [
       "<table class=\"dataframe\">\n",
       "<caption>A psych: 5 × 13</caption>\n",
       "<thead>\n",
       "\t<tr><th></th><th scope=col>vars</th><th scope=col>n</th><th scope=col>mean</th><th scope=col>sd</th><th scope=col>median</th><th scope=col>trimmed</th><th scope=col>mad</th><th scope=col>min</th><th scope=col>max</th><th scope=col>range</th><th scope=col>skew</th><th scope=col>kurtosis</th><th scope=col>se</th></tr>\n",
       "\t<tr><th></th><th scope=col>&lt;int&gt;</th><th scope=col>&lt;dbl&gt;</th><th scope=col>&lt;dbl&gt;</th><th scope=col>&lt;dbl&gt;</th><th scope=col>&lt;dbl&gt;</th><th scope=col>&lt;dbl&gt;</th><th scope=col>&lt;dbl&gt;</th><th scope=col>&lt;dbl&gt;</th><th scope=col>&lt;dbl&gt;</th><th scope=col>&lt;dbl&gt;</th><th scope=col>&lt;dbl&gt;</th><th scope=col>&lt;dbl&gt;</th><th scope=col>&lt;dbl&gt;</th></tr>\n",
       "</thead>\n",
       "<tbody>\n",
       "\t<tr><th scope=row>id</th><td>1</td><td>800</td><td>25.500000</td><td>14.4398974</td><td>25.50</td><td>25.500000</td><td>18.532500</td><td>1</td><td>50.00</td><td>49.00</td><td> 0.000000e+00</td><td>-1.20545517</td><td>0.51052747</td></tr>\n",
       "\t<tr><th scope=row>time</th><td>2</td><td>800</td><td> 7.500000</td><td> 4.6126560</td><td> 7.50</td><td> 7.500000</td><td> 5.930400</td><td>0</td><td>15.00</td><td>15.00</td><td> 0.000000e+00</td><td>-1.21388544</td><td>0.16308202</td></tr>\n",
       "\t<tr><th scope=row>time01</th><td>3</td><td>800</td><td> 0.500000</td><td> 0.3075104</td><td> 0.50</td><td> 0.500000</td><td> 0.395360</td><td>0</td><td> 1.00</td><td> 1.00</td><td>-6.018089e-08</td><td>-1.21388548</td><td>0.01087213</td></tr>\n",
       "\t<tr><th scope=row>intimacy</th><td>4</td><td>800</td><td> 3.468713</td><td> 1.6347428</td><td> 3.33</td><td> 3.429922</td><td> 1.608621</td><td>0</td><td> 9.41</td><td> 9.41</td><td> 2.800347e-01</td><td>-0.06138059</td><td>0.05779689</td></tr>\n",
       "\t<tr><th scope=row>treatment</th><td>5</td><td>800</td><td> 0.500000</td><td> 0.5003128</td><td> 0.50</td><td> 0.500000</td><td> 0.741300</td><td>0</td><td> 1.00</td><td> 1.00</td><td> 0.000000e+00</td><td>-2.00249844</td><td>0.01768873</td></tr>\n",
       "</tbody>\n",
       "</table>\n"
      ],
      "text/latex": [
       "A psych: 5 × 13\n",
       "\\begin{tabular}{r|lllllllllllll}\n",
       "  & vars & n & mean & sd & median & trimmed & mad & min & max & range & skew & kurtosis & se\\\\\n",
       "  & <int> & <dbl> & <dbl> & <dbl> & <dbl> & <dbl> & <dbl> & <dbl> & <dbl> & <dbl> & <dbl> & <dbl> & <dbl>\\\\\n",
       "\\hline\n",
       "\tid & 1 & 800 & 25.500000 & 14.4398974 & 25.50 & 25.500000 & 18.532500 & 1 & 50.00 & 49.00 &  0.000000e+00 & -1.20545517 & 0.51052747\\\\\n",
       "\ttime & 2 & 800 &  7.500000 &  4.6126560 &  7.50 &  7.500000 &  5.930400 & 0 & 15.00 & 15.00 &  0.000000e+00 & -1.21388544 & 0.16308202\\\\\n",
       "\ttime01 & 3 & 800 &  0.500000 &  0.3075104 &  0.50 &  0.500000 &  0.395360 & 0 &  1.00 &  1.00 & -6.018089e-08 & -1.21388548 & 0.01087213\\\\\n",
       "\tintimacy & 4 & 800 &  3.468713 &  1.6347428 &  3.33 &  3.429922 &  1.608621 & 0 &  9.41 &  9.41 &  2.800347e-01 & -0.06138059 & 0.05779689\\\\\n",
       "\ttreatment & 5 & 800 &  0.500000 &  0.5003128 &  0.50 &  0.500000 &  0.741300 & 0 &  1.00 &  1.00 &  0.000000e+00 & -2.00249844 & 0.01768873\\\\\n",
       "\\end{tabular}\n"
      ],
      "text/markdown": [
       "\n",
       "A psych: 5 × 13\n",
       "\n",
       "| <!--/--> | vars &lt;int&gt; | n &lt;dbl&gt; | mean &lt;dbl&gt; | sd &lt;dbl&gt; | median &lt;dbl&gt; | trimmed &lt;dbl&gt; | mad &lt;dbl&gt; | min &lt;dbl&gt; | max &lt;dbl&gt; | range &lt;dbl&gt; | skew &lt;dbl&gt; | kurtosis &lt;dbl&gt; | se &lt;dbl&gt; |\n",
       "|---|---|---|---|---|---|---|---|---|---|---|---|---|---|\n",
       "| id | 1 | 800 | 25.500000 | 14.4398974 | 25.50 | 25.500000 | 18.532500 | 1 | 50.00 | 49.00 |  0.000000e+00 | -1.20545517 | 0.51052747 |\n",
       "| time | 2 | 800 |  7.500000 |  4.6126560 |  7.50 |  7.500000 |  5.930400 | 0 | 15.00 | 15.00 |  0.000000e+00 | -1.21388544 | 0.16308202 |\n",
       "| time01 | 3 | 800 |  0.500000 |  0.3075104 |  0.50 |  0.500000 |  0.395360 | 0 |  1.00 |  1.00 | -6.018089e-08 | -1.21388548 | 0.01087213 |\n",
       "| intimacy | 4 | 800 |  3.468713 |  1.6347428 |  3.33 |  3.429922 |  1.608621 | 0 |  9.41 |  9.41 |  2.800347e-01 | -0.06138059 | 0.05779689 |\n",
       "| treatment | 5 | 800 |  0.500000 |  0.5003128 |  0.50 |  0.500000 |  0.741300 | 0 |  1.00 |  1.00 |  0.000000e+00 | -2.00249844 | 0.01768873 |\n",
       "\n"
      ],
      "text/plain": [
       "          vars n   mean      sd         median trimmed   mad       min max  \n",
       "id        1    800 25.500000 14.4398974 25.50  25.500000 18.532500 1   50.00\n",
       "time      2    800  7.500000  4.6126560  7.50   7.500000  5.930400 0   15.00\n",
       "time01    3    800  0.500000  0.3075104  0.50   0.500000  0.395360 0    1.00\n",
       "intimacy  4    800  3.468713  1.6347428  3.33   3.429922  1.608621 0    9.41\n",
       "treatment 5    800  0.500000  0.5003128  0.50   0.500000  0.741300 0    1.00\n",
       "          range skew          kurtosis    se        \n",
       "id        49.00  0.000000e+00 -1.20545517 0.51052747\n",
       "time      15.00  0.000000e+00 -1.21388544 0.16308202\n",
       "time01     1.00 -6.018089e-08 -1.21388548 0.01087213\n",
       "intimacy   9.41  2.800347e-01 -0.06138059 0.05779689\n",
       "treatment  1.00  0.000000e+00 -2.00249844 0.01768873"
      ]
     },
     "metadata": {},
     "output_type": "display_data"
    }
   ],
   "source": [
    "#describing the data\n",
    "describe(data_intimacy)"
   ]
  },
  {
   "cell_type": "code",
   "execution_count": null,
   "id": "a3ff5a34",
   "metadata": {},
   "outputs": [],
   "source": [
    "#number of persons\n",
    "length(unique(data_intimacy$id))"
   ]
  },
  {
   "cell_type": "code",
   "execution_count": null,
   "id": "8bdffbc0",
   "metadata": {},
   "outputs": [],
   "source": [
    "#number of occasions\n",
    "length(unique(data_intimacy$time))"
   ]
  },
  {
   "cell_type": "code",
   "execution_count": null,
   "id": "a485881d",
   "metadata": {},
   "outputs": [],
   "source": [
    "#crossing of persons and occasions\n",
    "xtabs(~id+time, data=data_intimacy)"
   ]
  },
  {
   "cell_type": "markdown",
   "id": "259b425d",
   "metadata": {},
   "source": [
    "## 用手头数据建模"
   ]
  },
  {
   "cell_type": "code",
   "execution_count": 4,
   "id": "f17fa133",
   "metadata": {},
   "outputs": [
    {
     "data": {
      "text/plain": [
       "Linear mixed model fit by REML ['lmerMod']\n",
       "Formula: intimacy ~ 1 + time01 + treatment + time01:treatment + (1 + time01 |  \n",
       "    id)\n",
       "   Data: data_intimacy\n",
       "\n",
       "REML criterion at convergence: 2834.4\n",
       "\n",
       "Scaled residuals: \n",
       "    Min      1Q  Median      3Q     Max \n",
       "-2.6242 -0.6798 -0.0190  0.6433  2.4463 \n",
       "\n",
       "Random effects:\n",
       " Groups   Name        Variance Std.Dev. Corr \n",
       " id       (Intercept) 0.6858   0.8281        \n",
       "          time01      1.8936   1.3761   -0.45\n",
       " Residual             1.6925   1.3010        \n",
       "Number of obs: 800, groups:  id, 50\n",
       "\n",
       "Fixed effects:\n",
       "                 Estimate Std. Error t value\n",
       "(Intercept)       2.89897    0.20703  14.003\n",
       "time01            0.73520    0.34720   2.118\n",
       "treatment        -0.05644    0.29279  -0.193\n",
       "time01:treatment  0.92143    0.49101   1.877\n",
       "\n",
       "Correlation of Fixed Effects:\n",
       "            (Intr) time01 trtmnt\n",
       "time01      -0.599              \n",
       "treatment   -0.707  0.423       \n",
       "tm01:trtmnt  0.423 -0.707 -0.599"
      ]
     },
     "metadata": {},
     "output_type": "display_data"
    }
   ],
   "source": [
    "#Run linear growth model with AR(1) errors \n",
    "fit_lgmodel <- lmer(intimacy ~ 1 + time01 + treatment + time01:treatment + \n",
    "                      (1 + time01 | id),\n",
    "                    data=data_intimacy,\n",
    "                    na.action = na.exclude)\n",
    "#examine model summary\n",
    "summary(fit_lgmodel)"
   ]
  },
  {
   "cell_type": "markdown",
   "id": "354e5278",
   "metadata": {},
   "source": [
    "#### 使用蒙地卡罗法估计 power"
   ]
  },
  {
   "cell_type": "code",
   "execution_count": 5,
   "id": "185110a9",
   "metadata": {},
   "outputs": [
    {
     "name": "stdout",
     "output_type": "stream",
     "text": [
      "Simulating: |                                                                 Simulating: |=                                                                Simulating: |==                                                               Simulating: |===                                                              Simulating: |====                                                             Simulating: |=====                                                            Simulating: |======                                                           Simulating: |=======                                                          Simulating: |========                                                         Simulating: |=========                                                        Simulating: |==========                                                       Simulating: |===========                                                      Simulating: |============                                                     Simulating: |=============                                                    Simulating: |==============                                                   Simulating: |===============                                                  Simulating: |================                                                 Simulating: |=================                                                Simulating: |==================                                               Simulating: |===================                                              Simulating: |====================                                             Simulating: |=====================                                            Simulating: |======================                                           Simulating: |=======================                                          Simulating: |========================                                         Simulating: |=========================                                        Simulating: |==========================                                       Simulating: |===========================                                      Simulating: |============================                                     Simulating: |=============================                                    Simulating: |==============================                                   Simulating: |===============================                                  Simulating: |================================                                 Simulating: |=================================                                Simulating: |==================================                               Simulating: |===================================                              Simulating: |====================================                             Simulating: |=====================================                            Simulating: |======================================                           Simulating: |=======================================                          Simulating: |========================================                         Simulating: |=========================================                        Simulating: |==========================================                       Simulating: |===========================================                      Simulating: |============================================                     Simulating: |=============================================                    Simulating: |==============================================                   Simulating: |===============================================                  Simulating: |================================================                 Simulating: |=================================================                Simulating: |==================================================               Simulating: |===================================================              Simulating: |====================================================             Simulating: |=====================================================            Simulating: |======================================================           Simulating: |=======================================================          Simulating: |========================================================         Simulating: |=========================================================        Simulating: |==========================================================       Simulating: |===========================================================      Simulating: |============================================================     Simulating: |=============================================================    Simulating: |==============================================================   Simulating: |===============================================================  Simulating: |================================================================ Simulating: |=================================================================Simulating: |================================================================="
     ]
    },
    {
     "name": "stderr",
     "output_type": "stream",
     "text": [
      "Warning message in observedPowerWarning(sim):\n",
      "\"This appears to be an \"observed power\" calculation\"\n"
     ]
    }
   ],
   "source": [
    "#Power for the effect of interest\n",
    "SimPower_Direct<-powerSim(fit_lgmodel,test=fixed(\"time01\",\"lr\"),\n",
    "                          seed=1234, #set for replication\n",
    "                          nsim=100, alpha=.05, progress=TRUE) #options"
   ]
  },
  {
   "cell_type": "code",
   "execution_count": 6,
   "id": "3b809b99",
   "metadata": {},
   "outputs": [
    {
     "data": {
      "text/plain": [
       "Power for predictor 'time01', (95% confidence interval):\n",
       "      62.00% (51.75, 71.52)\n",
       "\n",
       "Test: Likelihood ratio\n",
       "      Effect size for time01 is 0.74\n",
       "\n",
       "Based on 100 simulations, (100 warnings, 0 errors)\n",
       "alpha = 0.05, nrow = 800\n",
       "\n",
       "Time elapsed: 0 h 0 m 13 s\n",
       "\n",
       "nb: result might be an observed power calculation"
      ]
     },
     "metadata": {},
     "output_type": "display_data"
    }
   ],
   "source": [
    "#examine post-hoc power\n",
    "SimPower_Direct"
   ]
  },
  {
   "cell_type": "markdown",
   "id": "e100521d",
   "metadata": {},
   "source": [
    "可见，power仅有62%，不够"
   ]
  },
  {
   "cell_type": "code",
   "execution_count": 7,
   "id": "2deab59b",
   "metadata": {},
   "outputs": [
    {
     "name": "stderr",
     "output_type": "stream",
     "text": [
      "Warning message in observedPowerWarning(sim):\n",
      "\"This appears to be an \"observed power\" calculation\"\n"
     ]
    }
   ],
   "source": [
    "#Power for the effect of interest\n",
    "SimPower_Direct<-powerSim(fit_lgmodel,test=fixed(\"treatment\",\"lr\"),\n",
    "                          seed=1234, #set for replication\n",
    "                          nsim=100, alpha=.05, progress=FALSE) #options"
   ]
  },
  {
   "cell_type": "code",
   "execution_count": 8,
   "id": "ea878481",
   "metadata": {},
   "outputs": [
    {
     "data": {
      "text/plain": [
       "Power for predictor 'treatment', (95% confidence interval):\n",
       "       5.00% ( 1.64, 11.28)\n",
       "\n",
       "Test: Likelihood ratio\n",
       "      Effect size for treatment is -0.056\n",
       "\n",
       "Based on 100 simulations, (100 warnings, 0 errors)\n",
       "alpha = 0.05, nrow = 800\n",
       "\n",
       "Time elapsed: 0 h 0 m 11 s\n",
       "\n",
       "nb: result might be an observed power calculation"
      ]
     },
     "metadata": {},
     "output_type": "display_data"
    }
   ],
   "source": [
    "#examine post-hoc power\n",
    "SimPower_Direct"
   ]
  },
  {
   "cell_type": "code",
   "execution_count": 9,
   "id": "43834d94",
   "metadata": {},
   "outputs": [
    {
     "name": "stderr",
     "output_type": "stream",
     "text": [
      "boundary (singular) fit: see help('isSingular')\n",
      "\n",
      "Warning message in observedPowerWarning(sim):\n",
      "\"This appears to be an \"observed power\" calculation\"\n"
     ]
    }
   ],
   "source": [
    "#Power for the effect of interest\n",
    "SimPower_Direct<-powerSim(fit_lgmodel,test=fixed(\"time01:treatment\",\"lr\"),\n",
    "                          seed=1234, #set for replication\n",
    "                          nsim=100, alpha=.05, progress=FALSE) #options"
   ]
  },
  {
   "cell_type": "code",
   "execution_count": 10,
   "id": "b493e4bf",
   "metadata": {},
   "outputs": [
    {
     "data": {
      "text/plain": [
       "Power for predictor 'time01:treatment', (95% confidence interval):\n",
       "      45.00% (35.03, 55.27)\n",
       "\n",
       "Test: Likelihood ratio\n",
       "      Effect size for time01:treatment is 0.92\n",
       "\n",
       "Based on 100 simulations, (1 warning, 0 errors)\n",
       "alpha = 0.05, nrow = 800\n",
       "\n",
       "Time elapsed: 0 h 0 m 12 s\n",
       "\n",
       "nb: result might be an observed power calculation"
      ]
     },
     "metadata": {},
     "output_type": "display_data"
    }
   ],
   "source": [
    "#examine post-hoc power\n",
    "SimPower_Direct"
   ]
  },
  {
   "cell_type": "code",
   "execution_count": 11,
   "id": "44c19141",
   "metadata": {},
   "outputs": [
    {
     "data": {
      "text/html": [
       "200"
      ],
      "text/latex": [
       "200"
      ],
      "text/markdown": [
       "200"
      ],
      "text/plain": [
       "[1] 200"
      ]
     },
     "metadata": {},
     "output_type": "display_data"
    }
   ],
   "source": [
    "#extending number of persons \n",
    "fit_lgmodelpersons <- extend(fit_lgmodel, along=\"id\", n=200)\n",
    "\n",
    "#checking length of data, number of persons\n",
    "length(unique(getData(fit_lgmodelpersons)$id))"
   ]
  },
  {
   "cell_type": "code",
   "execution_count": 12,
   "id": "028d6f2d",
   "metadata": {},
   "outputs": [
    {
     "data": {
      "text/html": [
       "16"
      ],
      "text/latex": [
       "16"
      ],
      "text/markdown": [
       "16"
      ],
      "text/plain": [
       "[1] 16"
      ]
     },
     "metadata": {},
     "output_type": "display_data"
    }
   ],
   "source": [
    "#checking length of data, number of times\n",
    "length(unique(getData(fit_lgmodelpersons)$time))"
   ]
  },
  {
   "cell_type": "code",
   "execution_count": 13,
   "id": "89d3bde2",
   "metadata": {},
   "outputs": [
    {
     "data": {
      "text/html": [
       "50"
      ],
      "text/latex": [
       "50"
      ],
      "text/markdown": [
       "50"
      ],
      "text/plain": [
       "[1] 50"
      ]
     },
     "metadata": {},
     "output_type": "display_data"
    }
   ],
   "source": [
    "#extending number of occasions \n",
    "fit_lgmodeltimes <- extend(fit_lgmodel, along=\"time\", n=60)\n",
    "\n",
    "#checking length of data, number of persons\n",
    "length(unique(getData(fit_lgmodeltimes)$id))"
   ]
  },
  {
   "cell_type": "code",
   "execution_count": 14,
   "id": "9beaf73a",
   "metadata": {},
   "outputs": [
    {
     "data": {
      "text/html": [
       "60"
      ],
      "text/latex": [
       "60"
      ],
      "text/markdown": [
       "60"
      ],
      "text/plain": [
       "[1] 60"
      ]
     },
     "metadata": {},
     "output_type": "display_data"
    }
   ],
   "source": [
    "#checking length of data, number of times\n",
    "length(unique(getData(fit_lgmodeltimes)$time))"
   ]
  },
  {
   "cell_type": "code",
   "execution_count": 15,
   "id": "8e4446df",
   "metadata": {},
   "outputs": [
    {
     "name": "stderr",
     "output_type": "stream",
     "text": [
      "Warning message in observedPowerWarning(sim):\n",
      "\"This appears to be an \"observed power\" calculation\"\n"
     ]
    }
   ],
   "source": [
    "#running power curve\n",
    "powerCurve_persons <- powerCurve(fit_lgmodelpersons, \n",
    "                                fixed(\"time01:treatment\", \"lr\"),\n",
    "                                along = \"id\",\n",
    "                                breaks = c(32,63,94,125,157,188),\n",
    "                                nsim=100,alpha=.05, progress=FALSE)"
   ]
  },
  {
   "cell_type": "code",
   "execution_count": 16,
   "id": "5a5c2953",
   "metadata": {},
   "outputs": [
    {
     "data": {
      "text/html": [
       "<table class=\"dataframe\">\n",
       "<caption>A summary.powerCurve: 6 × 7</caption>\n",
       "<thead>\n",
       "\t<tr><th scope=col>nrow</th><th scope=col>nlevels</th><th scope=col>successes</th><th scope=col>trials</th><th scope=col>mean</th><th scope=col>lower</th><th scope=col>upper</th></tr>\n",
       "\t<tr><th scope=col>&lt;int&gt;</th><th scope=col>&lt;dbl&gt;</th><th scope=col>&lt;int&gt;</th><th scope=col>&lt;dbl&gt;</th><th scope=col>&lt;dbl&gt;</th><th scope=col>&lt;dbl&gt;</th><th scope=col>&lt;dbl&gt;</th></tr>\n",
       "</thead>\n",
       "<tbody>\n",
       "\t<tr><td> 512</td><td> 32</td><td>28</td><td>100</td><td>0.28</td><td>0.1947936</td><td>0.3786670</td></tr>\n",
       "\t<tr><td>1008</td><td> 63</td><td>54</td><td>100</td><td>0.54</td><td>0.4374116</td><td>0.6401566</td></tr>\n",
       "\t<tr><td>1504</td><td> 94</td><td>76</td><td>100</td><td>0.76</td><td>0.6642645</td><td>0.8397754</td></tr>\n",
       "\t<tr><td>2000</td><td>125</td><td>87</td><td>100</td><td>0.87</td><td>0.7879593</td><td>0.9289270</td></tr>\n",
       "\t<tr><td>2512</td><td>157</td><td>92</td><td>100</td><td>0.92</td><td>0.8484424</td><td>0.9648284</td></tr>\n",
       "\t<tr><td>3008</td><td>188</td><td>98</td><td>100</td><td>0.98</td><td>0.9296161</td><td>0.9975687</td></tr>\n",
       "</tbody>\n",
       "</table>\n"
      ],
      "text/latex": [
       "A summary.powerCurve: 6 × 7\n",
       "\\begin{tabular}{lllllll}\n",
       " nrow & nlevels & successes & trials & mean & lower & upper\\\\\n",
       " <int> & <dbl> & <int> & <dbl> & <dbl> & <dbl> & <dbl>\\\\\n",
       "\\hline\n",
       "\t  512 &  32 & 28 & 100 & 0.28 & 0.1947936 & 0.3786670\\\\\n",
       "\t 1008 &  63 & 54 & 100 & 0.54 & 0.4374116 & 0.6401566\\\\\n",
       "\t 1504 &  94 & 76 & 100 & 0.76 & 0.6642645 & 0.8397754\\\\\n",
       "\t 2000 & 125 & 87 & 100 & 0.87 & 0.7879593 & 0.9289270\\\\\n",
       "\t 2512 & 157 & 92 & 100 & 0.92 & 0.8484424 & 0.9648284\\\\\n",
       "\t 3008 & 188 & 98 & 100 & 0.98 & 0.9296161 & 0.9975687\\\\\n",
       "\\end{tabular}\n"
      ],
      "text/markdown": [
       "\n",
       "A summary.powerCurve: 6 × 7\n",
       "\n",
       "| nrow &lt;int&gt; | nlevels &lt;dbl&gt; | successes &lt;int&gt; | trials &lt;dbl&gt; | mean &lt;dbl&gt; | lower &lt;dbl&gt; | upper &lt;dbl&gt; |\n",
       "|---|---|---|---|---|---|---|\n",
       "|  512 |  32 | 28 | 100 | 0.28 | 0.1947936 | 0.3786670 |\n",
       "| 1008 |  63 | 54 | 100 | 0.54 | 0.4374116 | 0.6401566 |\n",
       "| 1504 |  94 | 76 | 100 | 0.76 | 0.6642645 | 0.8397754 |\n",
       "| 2000 | 125 | 87 | 100 | 0.87 | 0.7879593 | 0.9289270 |\n",
       "| 2512 | 157 | 92 | 100 | 0.92 | 0.8484424 | 0.9648284 |\n",
       "| 3008 | 188 | 98 | 100 | 0.98 | 0.9296161 | 0.9975687 |\n",
       "\n"
      ],
      "text/plain": [
       "  nrow nlevels successes trials mean lower     upper    \n",
       "1  512  32     28        100    0.28 0.1947936 0.3786670\n",
       "2 1008  63     54        100    0.54 0.4374116 0.6401566\n",
       "3 1504  94     76        100    0.76 0.6642645 0.8397754\n",
       "4 2000 125     87        100    0.87 0.7879593 0.9289270\n",
       "5 2512 157     92        100    0.92 0.8484424 0.9648284\n",
       "6 3008 188     98        100    0.98 0.9296161 0.9975687"
      ]
     },
     "metadata": {},
     "output_type": "display_data"
    }
   ],
   "source": [
    "#examining power estiamtes\n",
    "summary(powerCurve_persons)"
   ]
  },
  {
   "cell_type": "code",
   "execution_count": 17,
   "id": "d54c8ae4",
   "metadata": {},
   "outputs": [
    {
     "name": "stderr",
     "output_type": "stream",
     "text": [
      "boundary (singular) fit: see help('isSingular')\n",
      "\n",
      "boundary (singular) fit: see help('isSingular')\n",
      "\n",
      "boundary (singular) fit: see help('isSingular')\n",
      "\n",
      "boundary (singular) fit: see help('isSingular')\n",
      "\n",
      "boundary (singular) fit: see help('isSingular')\n",
      "\n",
      "boundary (singular) fit: see help('isSingular')\n",
      "\n",
      "boundary (singular) fit: see help('isSingular')\n",
      "\n",
      "boundary (singular) fit: see help('isSingular')\n",
      "\n",
      "Warning message in observedPowerWarning(sim):\n",
      "\"This appears to be an \"observed power\" calculation\"\n"
     ]
    }
   ],
   "source": [
    "#running power curve\n",
    "powerCurve_times <-powerCurve(fit_lgmodeltimes, \n",
    "                              fixed(\"time01:treatment\", \"lr\"),\n",
    "                              within = \"id\",\n",
    "                              breaks = c(10,20,30,40,50,60),\n",
    "                              nsim=100,alpha=.05, progress=FALSE)"
   ]
  },
  {
   "cell_type": "code",
   "execution_count": 18,
   "id": "ff813453",
   "metadata": {},
   "outputs": [
    {
     "data": {
      "text/html": [
       "<table class=\"dataframe\">\n",
       "<caption>A summary.powerCurve: 6 × 7</caption>\n",
       "<thead>\n",
       "\t<tr><th scope=col>nrow</th><th scope=col>nlevels</th><th scope=col>successes</th><th scope=col>trials</th><th scope=col>mean</th><th scope=col>lower</th><th scope=col>upper</th></tr>\n",
       "\t<tr><th scope=col>&lt;int&gt;</th><th scope=col>&lt;dbl&gt;</th><th scope=col>&lt;int&gt;</th><th scope=col>&lt;dbl&gt;</th><th scope=col>&lt;dbl&gt;</th><th scope=col>&lt;dbl&gt;</th><th scope=col>&lt;dbl&gt;</th></tr>\n",
       "</thead>\n",
       "<tbody>\n",
       "\t<tr><td> 500</td><td>10</td><td>29</td><td>100</td><td>0.29</td><td>0.2035742</td><td>0.3892660</td></tr>\n",
       "\t<tr><td>1000</td><td>20</td><td>49</td><td>100</td><td>0.49</td><td>0.3886442</td><td>0.5919637</td></tr>\n",
       "\t<tr><td>1500</td><td>30</td><td>51</td><td>100</td><td>0.51</td><td>0.4080363</td><td>0.6113558</td></tr>\n",
       "\t<tr><td>2000</td><td>40</td><td>54</td><td>100</td><td>0.54</td><td>0.4374116</td><td>0.6401566</td></tr>\n",
       "\t<tr><td>2500</td><td>50</td><td>59</td><td>100</td><td>0.59</td><td>0.4871442</td><td>0.6873800</td></tr>\n",
       "\t<tr><td>3000</td><td>60</td><td>60</td><td>100</td><td>0.60</td><td>0.4972092</td><td>0.6967052</td></tr>\n",
       "</tbody>\n",
       "</table>\n"
      ],
      "text/latex": [
       "A summary.powerCurve: 6 × 7\n",
       "\\begin{tabular}{lllllll}\n",
       " nrow & nlevels & successes & trials & mean & lower & upper\\\\\n",
       " <int> & <dbl> & <int> & <dbl> & <dbl> & <dbl> & <dbl>\\\\\n",
       "\\hline\n",
       "\t  500 & 10 & 29 & 100 & 0.29 & 0.2035742 & 0.3892660\\\\\n",
       "\t 1000 & 20 & 49 & 100 & 0.49 & 0.3886442 & 0.5919637\\\\\n",
       "\t 1500 & 30 & 51 & 100 & 0.51 & 0.4080363 & 0.6113558\\\\\n",
       "\t 2000 & 40 & 54 & 100 & 0.54 & 0.4374116 & 0.6401566\\\\\n",
       "\t 2500 & 50 & 59 & 100 & 0.59 & 0.4871442 & 0.6873800\\\\\n",
       "\t 3000 & 60 & 60 & 100 & 0.60 & 0.4972092 & 0.6967052\\\\\n",
       "\\end{tabular}\n"
      ],
      "text/markdown": [
       "\n",
       "A summary.powerCurve: 6 × 7\n",
       "\n",
       "| nrow &lt;int&gt; | nlevels &lt;dbl&gt; | successes &lt;int&gt; | trials &lt;dbl&gt; | mean &lt;dbl&gt; | lower &lt;dbl&gt; | upper &lt;dbl&gt; |\n",
       "|---|---|---|---|---|---|---|\n",
       "|  500 | 10 | 29 | 100 | 0.29 | 0.2035742 | 0.3892660 |\n",
       "| 1000 | 20 | 49 | 100 | 0.49 | 0.3886442 | 0.5919637 |\n",
       "| 1500 | 30 | 51 | 100 | 0.51 | 0.4080363 | 0.6113558 |\n",
       "| 2000 | 40 | 54 | 100 | 0.54 | 0.4374116 | 0.6401566 |\n",
       "| 2500 | 50 | 59 | 100 | 0.59 | 0.4871442 | 0.6873800 |\n",
       "| 3000 | 60 | 60 | 100 | 0.60 | 0.4972092 | 0.6967052 |\n",
       "\n"
      ],
      "text/plain": [
       "  nrow nlevels successes trials mean lower     upper    \n",
       "1  500 10      29        100    0.29 0.2035742 0.3892660\n",
       "2 1000 20      49        100    0.49 0.3886442 0.5919637\n",
       "3 1500 30      51        100    0.51 0.4080363 0.6113558\n",
       "4 2000 40      54        100    0.54 0.4374116 0.6401566\n",
       "5 2500 50      59        100    0.59 0.4871442 0.6873800\n",
       "6 3000 60      60        100    0.60 0.4972092 0.6967052"
      ]
     },
     "metadata": {},
     "output_type": "display_data"
    }
   ],
   "source": [
    "#examining power estiamtes\n",
    "summary(powerCurve_times)"
   ]
  },
  {
   "cell_type": "code",
   "execution_count": 19,
   "id": "50ea19e8",
   "metadata": {},
   "outputs": [],
   "source": [
    "#preparing persons power curve data\n",
    "powerdata_persons <- as.data.frame(summary(powerCurve_persons))\n",
    "powerdata_persons$persons <- powerdata_persons$nlevels\n",
    "powerdata_persons$times <- 16\n",
    "powerdata_persons$design <- \"persons\"\n",
    "\n",
    "#preparing times power curve data\n",
    "powerdata_times <- as.data.frame(summary(powerCurve_times))\n",
    "powerdata_times$persons <-50\n",
    "powerdata_times$times <- powerdata_times$nlevels\n",
    "powerdata_times$design <- \"times\"\n",
    "\n",
    "#merging together\n",
    "powerdata_all <- rbind(powerdata_persons, powerdata_times)"
   ]
  },
  {
   "cell_type": "code",
   "execution_count": 20,
   "id": "3003db2c",
   "metadata": {},
   "outputs": [
    {
     "name": "stderr",
     "output_type": "stream",
     "text": [
      "Warning message:\n",
      "\"\u001b[1m\u001b[22mUse of `powerdata_all$design` is discouraged.\n",
      "\u001b[36mi\u001b[39m Use `design` instead.\"\n"
     ]
    },
    {
     "data": {
      "image/png": "[encoded data removed]",
      "text/plain": [
       "plot without title"
      ]
     },
     "metadata": {
      "image/png": {
       "height": 420,
       "width": 420
      }
     },
     "output_type": "display_data"
    }
   ],
   "source": [
    "#Plotting curves\n",
    "ggplot(data = powerdata_all,\n",
    "       aes(y = mean, x=nrow, group=factor(design))) +\n",
    "  #power goal\n",
    "  geom_hline(yintercept=0.8, color=\"gray40\",lty = 2) +\n",
    "  #persons curve\n",
    "  geom_line(color=\"black\") +\n",
    "  geom_errorbar(ymin=powerdata_all$lower,ymax=powerdata_all$upper, width=50, color=\"black\") +\n",
    "  geom_point(aes(shape=factor(powerdata_all$design)),size=3, color=\"black\", show.legend = FALSE) +\n",
    "  scale_shape_manual(values=c(15,17)) +\n",
    "  scale_x_continuous(limits=c(500,3100),\n",
    "                     breaks=c(500,1000,1500,2000,2500,3000),\n",
    "                     name=\"Number of Total Observations\") +\n",
    "  scale_y_continuous(limits=c(0,1.0), \n",
    "                     breaks=c(0,.2,.4,.6,.8,1.0), \n",
    "                     name=\"Power\") +  \n",
    "  theme_classic() +\n",
    "  #theme(axis.title=element_text(size=14),\n",
    "  #      axis.text=element_text(size=14),\n",
    "  #      plot.title=element_text(size=14, hjust=.5)) +\n",
    "  ggtitle(\"Power Curves for time01:treatment interaction\")"
   ]
  }
 ],
 "metadata": {
  "kernelspec": {
   "display_name": "R",
   "language": "R",
   "name": "ir"
  },
  "language_info": {
   "codemirror_mode": "r",
   "file_extension": ".r",
   "mimetype": "text/x-r-source",
   "name": "R",
   "pygments_lexer": "r",
   "version": "4.2.1"
  }
 },
 "nbformat": 4,
 "nbformat_minor": 5
}
