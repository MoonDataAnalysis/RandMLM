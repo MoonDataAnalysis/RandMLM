{
 "cells": [
  {
   "cell_type": "markdown",
   "id": "e3428570",
   "metadata": {},
   "source": [
    "# Differential Equation Model"
   ]
  },
  {
   "cell_type": "code",
   "execution_count": 1,
   "id": "a980d8ae",
   "metadata": {},
   "outputs": [
    {
     "name": "stderr",
     "output_type": "stream",
     "text": [
      "Warning message:\n",
      "\"程辑包'rstudioapi'是用R版本4.2.2 来建造的\"\n",
      "Warning message:\n",
      "\"程辑包'psych'是用R版本4.2.3 来建造的\"\n",
      "Warning message:\n",
      "\"程辑包'deSolve'是用R版本4.2.3 来建造的\"\n",
      "Warning message:\n",
      "\"程辑包'ggplot2'是用R版本4.2.3 来建造的\"\n",
      "\n",
      "载入程辑包：'ggplot2'\n",
      "\n",
      "\n",
      "The following objects are masked from 'package:psych':\n",
      "\n",
      "    %+%, alpha\n",
      "\n",
      "\n",
      "Warning message:\n",
      "\"程辑包'lme4'是用R版本4.2.3 来建造的\"\n",
      "载入需要的程辑包：Matrix\n",
      "\n",
      "Warning message:\n",
      "\"程辑包'Matrix'是用R版本4.2.3 来建造的\"\n",
      "\n",
      "载入程辑包：'lme4'\n",
      "\n",
      "\n",
      "The following object is masked from 'package:nlme':\n",
      "\n",
      "    lmList\n",
      "\n",
      "\n",
      "Warning message:\n",
      "\"程辑包'zoo'是用R版本4.2.3 来建造的\"\n",
      "\n",
      "载入程辑包：'zoo'\n",
      "\n",
      "\n",
      "The following objects are masked from 'package:base':\n",
      "\n",
      "    as.Date, as.Date.numeric\n",
      "\n",
      "\n",
      "Warning message:\n",
      "\"程辑包'plyr'是用R版本4.2.3 来建造的\"\n"
     ]
    }
   ],
   "source": [
    "library(rstudioapi)\n",
    "library(psych)\n",
    "library(deSolve)  #for the differential equation solvers\n",
    "library(ggplot2)   #for plotting\n",
    "library(nlme)     #for fitting mixed effets models\n",
    "library(lme4)     # for fitting mixed effects models \n",
    "library(zoo)       #for making time-series embedded data\n",
    "library(reshape2)  #for reshaping data\n",
    "library(plyr)     # for person-mean centering"
   ]
  },
  {
   "cell_type": "markdown",
   "id": "997822e4",
   "metadata": {},
   "source": [
    "#### 载入数据"
   ]
  },
  {
   "cell_type": "code",
   "execution_count": 2,
   "id": "ae392f85",
   "metadata": {},
   "outputs": [],
   "source": [
    "#set filepath for data file\n",
    "filepath <- \"https://quantdev.ssri.psu.edu/sites/qdev/files/AMIBshare_phase2_daily_2019_0501.csv\"\n",
    "#read in the .csv file using the url() function\n",
    "AMIB_daily <- read.csv(file=url(filepath),header=TRUE)"
   ]
  },
  {
   "cell_type": "code",
   "execution_count": 3,
   "id": "9c179506",
   "metadata": {},
   "outputs": [
    {
     "data": {
      "text/html": [
       "<table class=\"dataframe\">\n",
       "<caption>A data.frame: 6 × 3</caption>\n",
       "<thead>\n",
       "\t<tr><th></th><th scope=col>id</th><th scope=col>day</th><th scope=col>daynew</th></tr>\n",
       "\t<tr><th></th><th scope=col>&lt;int&gt;</th><th scope=col>&lt;int&gt;</th><th scope=col>&lt;dbl&gt;</th></tr>\n",
       "</thead>\n",
       "<tbody>\n",
       "\t<tr><th scope=row>1</th><td>203</td><td>0</td><td>0</td></tr>\n",
       "\t<tr><th scope=row>2</th><td>203</td><td>1</td><td>1</td></tr>\n",
       "\t<tr><th scope=row>3</th><td>203</td><td>2</td><td>2</td></tr>\n",
       "\t<tr><th scope=row>4</th><td>203</td><td>3</td><td>3</td></tr>\n",
       "\t<tr><th scope=row>5</th><td>203</td><td>4</td><td>4</td></tr>\n",
       "\t<tr><th scope=row>6</th><td>203</td><td>5</td><td>5</td></tr>\n",
       "</tbody>\n",
       "</table>\n"
      ],
      "text/latex": [
       "A data.frame: 6 × 3\n",
       "\\begin{tabular}{r|lll}\n",
       "  & id & day & daynew\\\\\n",
       "  & <int> & <int> & <dbl>\\\\\n",
       "\\hline\n",
       "\t1 & 203 & 0 & 0\\\\\n",
       "\t2 & 203 & 1 & 1\\\\\n",
       "\t3 & 203 & 2 & 2\\\\\n",
       "\t4 & 203 & 3 & 3\\\\\n",
       "\t5 & 203 & 4 & 4\\\\\n",
       "\t6 & 203 & 5 & 5\\\\\n",
       "\\end{tabular}\n"
      ],
      "text/markdown": [
       "\n",
       "A data.frame: 6 × 3\n",
       "\n",
       "| <!--/--> | id &lt;int&gt; | day &lt;int&gt; | daynew &lt;dbl&gt; |\n",
       "|---|---|---|---|\n",
       "| 1 | 203 | 0 | 0 |\n",
       "| 2 | 203 | 1 | 1 |\n",
       "| 3 | 203 | 2 | 2 |\n",
       "| 4 | 203 | 3 | 3 |\n",
       "| 5 | 203 | 4 | 4 |\n",
       "| 6 | 203 | 5 | 5 |\n",
       "\n"
      ],
      "text/plain": [
       "  id  day daynew\n",
       "1 203 0   0     \n",
       "2 203 1   1     \n",
       "3 203 2   2     \n",
       "4 203 3   3     \n",
       "5 203 4   4     \n",
       "6 203 5   5     "
      ]
     },
     "metadata": {},
     "output_type": "display_data"
    }
   ],
   "source": [
    "# recode day\n",
    "AMIB_daily$daynew <- ifelse(AMIB_daily$id >=300 & AMIB_daily$id < 400, AMIB_daily$day-3, AMIB_daily$day)\n",
    "\n",
    "#check new data\n",
    "head(AMIB_daily[which(AMIB_daily$id == 203),c(\"id\",\"day\",\"daynew\")])"
   ]
  },
  {
   "cell_type": "code",
   "execution_count": 4,
   "id": "1e130e3d",
   "metadata": {},
   "outputs": [
    {
     "data": {
      "text/html": [
       "<table class=\"dataframe\">\n",
       "<caption>A data.frame: 6 × 3</caption>\n",
       "<thead>\n",
       "\t<tr><th></th><th scope=col>id</th><th scope=col>day</th><th scope=col>daynew</th></tr>\n",
       "\t<tr><th></th><th scope=col>&lt;int&gt;</th><th scope=col>&lt;int&gt;</th><th scope=col>&lt;dbl&gt;</th></tr>\n",
       "</thead>\n",
       "<tbody>\n",
       "\t<tr><th scope=row>228</th><td>301</td><td>0</td><td>-3</td></tr>\n",
       "\t<tr><th scope=row>229</th><td>301</td><td>1</td><td>-2</td></tr>\n",
       "\t<tr><th scope=row>230</th><td>301</td><td>2</td><td>-1</td></tr>\n",
       "\t<tr><th scope=row>231</th><td>301</td><td>3</td><td> 0</td></tr>\n",
       "\t<tr><th scope=row>232</th><td>301</td><td>4</td><td> 1</td></tr>\n",
       "\t<tr><th scope=row>233</th><td>301</td><td>5</td><td> 2</td></tr>\n",
       "</tbody>\n",
       "</table>\n"
      ],
      "text/latex": [
       "A data.frame: 6 × 3\n",
       "\\begin{tabular}{r|lll}\n",
       "  & id & day & daynew\\\\\n",
       "  & <int> & <int> & <dbl>\\\\\n",
       "\\hline\n",
       "\t228 & 301 & 0 & -3\\\\\n",
       "\t229 & 301 & 1 & -2\\\\\n",
       "\t230 & 301 & 2 & -1\\\\\n",
       "\t231 & 301 & 3 &  0\\\\\n",
       "\t232 & 301 & 4 &  1\\\\\n",
       "\t233 & 301 & 5 &  2\\\\\n",
       "\\end{tabular}\n"
      ],
      "text/markdown": [
       "\n",
       "A data.frame: 6 × 3\n",
       "\n",
       "| <!--/--> | id &lt;int&gt; | day &lt;int&gt; | daynew &lt;dbl&gt; |\n",
       "|---|---|---|---|\n",
       "| 228 | 301 | 0 | -3 |\n",
       "| 229 | 301 | 1 | -2 |\n",
       "| 230 | 301 | 2 | -1 |\n",
       "| 231 | 301 | 3 |  0 |\n",
       "| 232 | 301 | 4 |  1 |\n",
       "| 233 | 301 | 5 |  2 |\n",
       "\n"
      ],
      "text/plain": [
       "    id  day daynew\n",
       "228 301 0   -3    \n",
       "229 301 1   -2    \n",
       "230 301 2   -1    \n",
       "231 301 3    0    \n",
       "232 301 4    1    \n",
       "233 301 5    2    "
      ]
     },
     "metadata": {},
     "output_type": "display_data"
    }
   ],
   "source": [
    "head(AMIB_daily[which(AMIB_daily$id == 301),c(\"id\",\"day\",\"daynew\")])"
   ]
  },
  {
   "cell_type": "code",
   "execution_count": 5,
   "id": "49a2a505",
   "metadata": {},
   "outputs": [],
   "source": [
    "AMIB_daily <- AMIB_daily[,c(\"id\",\"daynew\",\"affbalance\")]"
   ]
  },
  {
   "cell_type": "code",
   "execution_count": 6,
   "id": "19ae59ef",
   "metadata": {},
   "outputs": [],
   "source": [
    "#calculate intraindividual means\n",
    "AMIB_imeans <- ddply(AMIB_daily, \"id\", summarize,\n",
    "                       affbalance_trait = mean(affbalance, na.rm=TRUE))\n",
    "\n",
    "#merging person-level data into daily data\n",
    "AMIB_daily <- merge(AMIB_daily,AMIB_imeans,by=\"id\")\n",
    "\n",
    "#calculating state variables\n",
    "AMIB_daily$affbalance_state <- AMIB_daily$affbalance - AMIB_daily$affbalance_trait"
   ]
  },
  {
   "cell_type": "code",
   "execution_count": 7,
   "id": "a9df06fa",
   "metadata": {},
   "outputs": [
    {
     "name": "stderr",
     "output_type": "stream",
     "text": [
      "Warning message:\n",
      "\"\u001b[1m\u001b[22mUsing `size` aesthetic for lines was deprecated in ggplot2 3.4.0.\n",
      "\u001b[36mi\u001b[39m Please use `linewidth` instead.\"\n"
     ]
    },
    {
     "data": {
      "image/png": "[encoded data removed]",
      "text/plain": [
       "plot without title"
      ]
     },
     "metadata": {
      "image/png": {
       "height": 420,
       "width": 420
      }
     },
     "output_type": "display_data"
    }
   ],
   "source": [
    "cols <- c(\"Raw\"=\"#FC6170\",\"Detrended\"=\"#696CFF\")\n",
    "\n",
    "#pdf(\"Raw&DetrendedAffBalanceDataViz.pdf\",width=9,height=5.75)\n",
    "ggplot(data = AMIB_daily[which(AMIB_daily$id <= 226),], aes(x = daynew)) +\n",
    "  geom_line(aes(y=affbalance, colour=\"Raw\"), size=1, linetype=\"solid\") +\n",
    "  geom_line(aes(y=affbalance_state, colour=\"Detrended\"), size=1, linetype=\"solid\") +\n",
    "  scale_colour_manual(name=\"Data Type\",\n",
    "                      values=cols, \n",
    "                      guide = guide_legend(override.aes = list(\n",
    "                      linetype = c(\"solid\",\"solid\"),\n",
    "                      size=1))) +\n",
    "  xlab(\"Day\") + \n",
    "  ylab(\"Affect Balance\") +\n",
    "  facet_wrap(~id) +\n",
    "  theme_classic() +\n",
    "  theme(axis.title=element_text(size=18),\n",
    "        axis.text=element_text(size=14, colour=\"black\"),\n",
    "        plot.title=element_text(size=18, hjust=.5,face=\"bold\"),\n",
    "        strip.text=element_text(size=12),\n",
    "        legend.text=element_text(size=14),\n",
    "        legend.title=element_text(size=14)) +\n",
    "  ggtitle(\"Plot of Affect Balance Time Series\\nfor 9 Individuals\")"
   ]
  },
  {
   "cell_type": "markdown",
   "id": "93b7d34c",
   "metadata": {},
   "source": [
    "# Differentiate the Data\n",
    "\n",
    "### GLLA模型"
   ]
  },
  {
   "cell_type": "code",
   "execution_count": 8,
   "id": "9f499581",
   "metadata": {},
   "outputs": [],
   "source": [
    "GLLA <- function(x, embed, tau, deltaT, order=2) {\n",
    "        L <- rep(1,embed)\n",
    "        for(i in 1:order) {\n",
    "            L <- cbind(L,(((c(1:embed)-mean(1:embed))*tau*deltaT)^i)/factorial(i))\n",
    "            }\n",
    "        \n",
    "        W <- solve(t(L)%*%L)%*%t(L)\n",
    "        #EMat <- Embed(x,embed,1)\n",
    "        #replacement for Embed for embed = 5\n",
    "          xzoo <- zoo(x)\n",
    "      xzooembed <- cbind(lag(xzoo,k=-2), lag(xzoo,k=-1), xzoo, lag(xzoo,k=1), lag(xzoo,k=2))\n",
    "      EMat <- as.matrix(xzooembed)\n",
    "    #Continuation\n",
    "        Estimates <- EMat%*%t(W)\n",
    "\n",
    "        return(Estimates)\n",
    "        }"
   ]
  },
  {
   "cell_type": "code",
   "execution_count": 9,
   "id": "48542385",
   "metadata": {},
   "outputs": [],
   "source": [
    "# This is the for-loop that will go through the data and calculate derivatives.\n",
    "# it goes through all of the elements of 'curr_data', and uses GLLA\n",
    "idlist <- unique(AMIB_daily$id)\n",
    "#create open object\n",
    "derivdf <- data.frame()\n",
    "    for(i in 1:length(idlist)){\n",
    "      #i <- 1 #for testing\n",
    "        curr_data = AMIB_daily[which(AMIB_daily$id == idlist[i]),]\n",
    "        derivs_x = GLLA(x = curr_data[,'affbalance_state'], embed = 5, tau = 1, deltaT = 1, order = 2)\n",
    "        colnames(derivs_x) = c('x_est', 'dx_est', 'd2x_est')\n",
    "        derivs_plus = cbind(curr_data, derivs_x)\n",
    "    derivdf<- rbind(derivdf,derivs_plus)\n",
    "    }"
   ]
  },
  {
   "cell_type": "code",
   "execution_count": 10,
   "id": "fd18262d",
   "metadata": {},
   "outputs": [
    {
     "data": {
      "text/html": [
       "<table class=\"dataframe\">\n",
       "<caption>A data.frame: 6 × 6</caption>\n",
       "<thead>\n",
       "\t<tr><th></th><th scope=col>id</th><th scope=col>daynew</th><th scope=col>affbalance_state</th><th scope=col>x_est</th><th scope=col>dx_est</th><th scope=col>d2x_est</th></tr>\n",
       "\t<tr><th></th><th scope=col>&lt;dbl&gt;</th><th scope=col>&lt;dbl&gt;</th><th scope=col>&lt;dbl&gt;</th><th scope=col>&lt;dbl&gt;</th><th scope=col>&lt;dbl&gt;</th><th scope=col>&lt;dbl&gt;</th></tr>\n",
       "</thead>\n",
       "<tbody>\n",
       "\t<tr><th scope=row>1</th><td>203</td><td>0</td><td> 1.44</td><td>   NA</td><td>   NA</td><td>   NA</td></tr>\n",
       "\t<tr><th scope=row>2</th><td>203</td><td>1</td><td> 1.24</td><td>   NA</td><td>   NA</td><td>   NA</td></tr>\n",
       "\t<tr><th scope=row>3</th><td>203</td><td>2</td><td> 0.54</td><td> 0.85</td><td>-0.68</td><td>-0.43</td></tr>\n",
       "\t<tr><th scope=row>4</th><td>203</td><td>3</td><td> 0.44</td><td> 0.13</td><td>-1.33</td><td>-0.87</td></tr>\n",
       "\t<tr><th scope=row>5</th><td>203</td><td>4</td><td>-1.56</td><td>-2.12</td><td>-0.64</td><td> 1.09</td></tr>\n",
       "\t<tr><th scope=row>6</th><td>203</td><td>5</td><td>-4.36</td><td>-2.80</td><td> 0.09</td><td> 1.70</td></tr>\n",
       "</tbody>\n",
       "</table>\n"
      ],
      "text/latex": [
       "A data.frame: 6 × 6\n",
       "\\begin{tabular}{r|llllll}\n",
       "  & id & daynew & affbalance\\_state & x\\_est & dx\\_est & d2x\\_est\\\\\n",
       "  & <dbl> & <dbl> & <dbl> & <dbl> & <dbl> & <dbl>\\\\\n",
       "\\hline\n",
       "\t1 & 203 & 0 &  1.44 &    NA &    NA &    NA\\\\\n",
       "\t2 & 203 & 1 &  1.24 &    NA &    NA &    NA\\\\\n",
       "\t3 & 203 & 2 &  0.54 &  0.85 & -0.68 & -0.43\\\\\n",
       "\t4 & 203 & 3 &  0.44 &  0.13 & -1.33 & -0.87\\\\\n",
       "\t5 & 203 & 4 & -1.56 & -2.12 & -0.64 &  1.09\\\\\n",
       "\t6 & 203 & 5 & -4.36 & -2.80 &  0.09 &  1.70\\\\\n",
       "\\end{tabular}\n"
      ],
      "text/markdown": [
       "\n",
       "A data.frame: 6 × 6\n",
       "\n",
       "| <!--/--> | id &lt;dbl&gt; | daynew &lt;dbl&gt; | affbalance_state &lt;dbl&gt; | x_est &lt;dbl&gt; | dx_est &lt;dbl&gt; | d2x_est &lt;dbl&gt; |\n",
       "|---|---|---|---|---|---|---|\n",
       "| 1 | 203 | 0 |  1.44 |    NA |    NA |    NA |\n",
       "| 2 | 203 | 1 |  1.24 |    NA |    NA |    NA |\n",
       "| 3 | 203 | 2 |  0.54 |  0.85 | -0.68 | -0.43 |\n",
       "| 4 | 203 | 3 |  0.44 |  0.13 | -1.33 | -0.87 |\n",
       "| 5 | 203 | 4 | -1.56 | -2.12 | -0.64 |  1.09 |\n",
       "| 6 | 203 | 5 | -4.36 | -2.80 |  0.09 |  1.70 |\n",
       "\n"
      ],
      "text/plain": [
       "  id  daynew affbalance_state x_est dx_est d2x_est\n",
       "1 203 0       1.44               NA    NA     NA  \n",
       "2 203 1       1.24               NA    NA     NA  \n",
       "3 203 2       0.54             0.85 -0.68  -0.43  \n",
       "4 203 3       0.44             0.13 -1.33  -0.87  \n",
       "5 203 4      -1.56            -2.12 -0.64   1.09  \n",
       "6 203 5      -4.36            -2.80  0.09   1.70  "
      ]
     },
     "metadata": {},
     "output_type": "display_data"
    }
   ],
   "source": [
    "round(head(derivdf[,c(\"id\",\"daynew\",\"affbalance_state\",\"x_est\",\"dx_est\",\"d2x_est\")]),2)"
   ]
  },
  {
   "cell_type": "code",
   "execution_count": 11,
   "id": "4445ae5f",
   "metadata": {},
   "outputs": [
    {
     "data": {
      "text/html": [
       "<table class=\"dataframe\">\n",
       "<caption>A psych: 4 × 13</caption>\n",
       "<thead>\n",
       "\t<tr><th></th><th scope=col>vars</th><th scope=col>n</th><th scope=col>mean</th><th scope=col>sd</th><th scope=col>median</th><th scope=col>trimmed</th><th scope=col>mad</th><th scope=col>min</th><th scope=col>max</th><th scope=col>range</th><th scope=col>skew</th><th scope=col>kurtosis</th><th scope=col>se</th></tr>\n",
       "\t<tr><th></th><th scope=col>&lt;int&gt;</th><th scope=col>&lt;dbl&gt;</th><th scope=col>&lt;dbl&gt;</th><th scope=col>&lt;dbl&gt;</th><th scope=col>&lt;dbl&gt;</th><th scope=col>&lt;dbl&gt;</th><th scope=col>&lt;dbl&gt;</th><th scope=col>&lt;dbl&gt;</th><th scope=col>&lt;dbl&gt;</th><th scope=col>&lt;dbl&gt;</th><th scope=col>&lt;dbl&gt;</th><th scope=col>&lt;dbl&gt;</th><th scope=col>&lt;dbl&gt;</th></tr>\n",
       "</thead>\n",
       "<tbody>\n",
       "\t<tr><th scope=row>affbalance_state</th><td>1</td><td>627</td><td>-2.151112e-19</td><td>1.4388118</td><td> 0.15000000</td><td> 0.06878198</td><td>1.293905</td><td>-5.680000</td><td>4.395238</td><td>10.075238</td><td>-0.53309756</td><td>0.6060793</td><td>0.05746061</td></tr>\n",
       "\t<tr><th scope=row>x_est</th><td>2</td><td>503</td><td>-4.322274e-02</td><td>1.1526467</td><td> 0.05857143</td><td>-0.02186499</td><td>1.065354</td><td>-5.028571</td><td>3.487143</td><td> 8.515714</td><td>-0.28977528</td><td>0.8514126</td><td>0.05139398</td></tr>\n",
       "\t<tr><th scope=row>dx_est</th><td>3</td><td>503</td><td> 2.395626e-03</td><td>0.5389493</td><td>-0.03000000</td><td>-0.01394541</td><td>0.489258</td><td>-1.660000</td><td>1.930000</td><td> 3.590000</td><td> 0.27098555</td><td>0.5509287</td><td>0.02403056</td></tr>\n",
       "\t<tr><th scope=row>d2x_est</th><td>4</td><td>503</td><td> 1.557796e-02</td><td>0.7616762</td><td> 0.04285714</td><td> 0.01306274</td><td>0.656580</td><td>-2.600000</td><td>2.828571</td><td> 5.428571</td><td> 0.07498893</td><td>0.8366534</td><td>0.03396146</td></tr>\n",
       "</tbody>\n",
       "</table>\n"
      ],
      "text/latex": [
       "A psych: 4 × 13\n",
       "\\begin{tabular}{r|lllllllllllll}\n",
       "  & vars & n & mean & sd & median & trimmed & mad & min & max & range & skew & kurtosis & se\\\\\n",
       "  & <int> & <dbl> & <dbl> & <dbl> & <dbl> & <dbl> & <dbl> & <dbl> & <dbl> & <dbl> & <dbl> & <dbl> & <dbl>\\\\\n",
       "\\hline\n",
       "\taffbalance\\_state & 1 & 627 & -2.151112e-19 & 1.4388118 &  0.15000000 &  0.06878198 & 1.293905 & -5.680000 & 4.395238 & 10.075238 & -0.53309756 & 0.6060793 & 0.05746061\\\\\n",
       "\tx\\_est & 2 & 503 & -4.322274e-02 & 1.1526467 &  0.05857143 & -0.02186499 & 1.065354 & -5.028571 & 3.487143 &  8.515714 & -0.28977528 & 0.8514126 & 0.05139398\\\\\n",
       "\tdx\\_est & 3 & 503 &  2.395626e-03 & 0.5389493 & -0.03000000 & -0.01394541 & 0.489258 & -1.660000 & 1.930000 &  3.590000 &  0.27098555 & 0.5509287 & 0.02403056\\\\\n",
       "\td2x\\_est & 4 & 503 &  1.557796e-02 & 0.7616762 &  0.04285714 &  0.01306274 & 0.656580 & -2.600000 & 2.828571 &  5.428571 &  0.07498893 & 0.8366534 & 0.03396146\\\\\n",
       "\\end{tabular}\n"
      ],
      "text/markdown": [
       "\n",
       "A psych: 4 × 13\n",
       "\n",
       "| <!--/--> | vars &lt;int&gt; | n &lt;dbl&gt; | mean &lt;dbl&gt; | sd &lt;dbl&gt; | median &lt;dbl&gt; | trimmed &lt;dbl&gt; | mad &lt;dbl&gt; | min &lt;dbl&gt; | max &lt;dbl&gt; | range &lt;dbl&gt; | skew &lt;dbl&gt; | kurtosis &lt;dbl&gt; | se &lt;dbl&gt; |\n",
       "|---|---|---|---|---|---|---|---|---|---|---|---|---|---|\n",
       "| affbalance_state | 1 | 627 | -2.151112e-19 | 1.4388118 |  0.15000000 |  0.06878198 | 1.293905 | -5.680000 | 4.395238 | 10.075238 | -0.53309756 | 0.6060793 | 0.05746061 |\n",
       "| x_est | 2 | 503 | -4.322274e-02 | 1.1526467 |  0.05857143 | -0.02186499 | 1.065354 | -5.028571 | 3.487143 |  8.515714 | -0.28977528 | 0.8514126 | 0.05139398 |\n",
       "| dx_est | 3 | 503 |  2.395626e-03 | 0.5389493 | -0.03000000 | -0.01394541 | 0.489258 | -1.660000 | 1.930000 |  3.590000 |  0.27098555 | 0.5509287 | 0.02403056 |\n",
       "| d2x_est | 4 | 503 |  1.557796e-02 | 0.7616762 |  0.04285714 |  0.01306274 | 0.656580 | -2.600000 | 2.828571 |  5.428571 |  0.07498893 | 0.8366534 | 0.03396146 |\n",
       "\n"
      ],
      "text/plain": [
       "                 vars n   mean          sd        median      trimmed    \n",
       "affbalance_state 1    627 -2.151112e-19 1.4388118  0.15000000  0.06878198\n",
       "x_est            2    503 -4.322274e-02 1.1526467  0.05857143 -0.02186499\n",
       "dx_est           3    503  2.395626e-03 0.5389493 -0.03000000 -0.01394541\n",
       "d2x_est          4    503  1.557796e-02 0.7616762  0.04285714  0.01306274\n",
       "                 mad      min       max      range     skew        kurtosis \n",
       "affbalance_state 1.293905 -5.680000 4.395238 10.075238 -0.53309756 0.6060793\n",
       "x_est            1.065354 -5.028571 3.487143  8.515714 -0.28977528 0.8514126\n",
       "dx_est           0.489258 -1.660000 1.930000  3.590000  0.27098555 0.5509287\n",
       "d2x_est          0.656580 -2.600000 2.828571  5.428571  0.07498893 0.8366534\n",
       "                 se        \n",
       "affbalance_state 0.05746061\n",
       "x_est            0.05139398\n",
       "dx_est           0.02403056\n",
       "d2x_est          0.03396146"
      ]
     },
     "metadata": {},
     "output_type": "display_data"
    }
   ],
   "source": [
    "describe(derivdf[,c(\"affbalance_state\",\"x_est\",\"dx_est\",\"d2x_est\")])"
   ]
  },
  {
   "cell_type": "markdown",
   "id": "026fbd7a",
   "metadata": {},
   "source": [
    "# 微分可视化"
   ]
  },
  {
   "cell_type": "code",
   "execution_count": 12,
   "id": "289c6fd1",
   "metadata": {},
   "outputs": [
    {
     "name": "stderr",
     "output_type": "stream",
     "text": [
      "Warning message:\n",
      "\"\u001b[1m\u001b[22mRemoved 4 rows containing missing values (`geom_line()`).\"\n",
      "Warning message:\n",
      "\"\u001b[1m\u001b[22mRemoved 4 rows containing missing values (`geom_line()`).\"\n",
      "Warning message:\n",
      "\"\u001b[1m\u001b[22mRemoved 4 rows containing missing values (`geom_line()`).\"\n"
     ]
    },
    {
     "data": {
      "image/png": "[encoded data removed]",
      "text/plain": [
       "plot without title"
      ]
     },
     "metadata": {
      "image/png": {
       "height": 420,
       "width": 420
      }
     },
     "output_type": "display_data"
    }
   ],
   "source": [
    "#pdf(\"DerivEstimatesDataViz.pdf\",width=9, height=5.75)\n",
    "cols <- c(\"x\"=\"#FC6170\", \"dx\"=\"#26BFBF\", \"d2x\"=\"#FF8A47\")\n",
    "ggplot(data = derivdf[which(derivdf$id <= 205),], aes(x = daynew)) +\n",
    "  geom_line(aes(y=x_est, colour=\"x\"), linetype = \"solid\", size=1) +\n",
    "  geom_line(aes(y=dx_est, colour=\"dx\"), linetype = \"solid\", size=1) +\n",
    "  geom_line(aes(y=d2x_est, colour=\"d2x\"), linetype = \"solid\", size=1) +\n",
    "  scale_colour_manual(name=\"Derivative\",\n",
    "                      values=cols, \n",
    "                      guide = guide_legend(override.aes = list(\n",
    "                      linetype = c(\"solid\",\"solid\", \"solid\"),\n",
    "                      size=1))) +\n",
    "  xlab(\"Day\") + \n",
    "  ylab(\"GLLA Derivative Estimates\") +\n",
    "  facet_wrap(~id,nrow=5) +\n",
    "  theme_classic() +\n",
    "  theme(axis.title=element_text(size=16),\n",
    "        axis.text=element_text(size=10, colour=\"black\"),\n",
    "        plot.title=element_text(size=16, hjust=.5,face=\"bold\"),\n",
    "        legend.title=element_text(size=14),\n",
    "        legend.text=element_text(size=12),\n",
    "        strip.text=element_text(size=12)) +\n",
    "  ggtitle(\"Plot of x, dx, and d2x\")"
   ]
  },
  {
   "cell_type": "markdown",
   "id": "e1beb369",
   "metadata": {},
   "source": [
    "# Fit Damped Linear Oscillator (DLO)"
   ]
  },
  {
   "cell_type": "code",
   "execution_count": 13,
   "id": "09db9728",
   "metadata": {},
   "outputs": [
    {
     "name": "stdout",
     "output_type": "stream",
     "text": [
      "\n",
      "**Iteration 1\n",
      "LME step: Loglik: -314.5108, nlminb iterations: 1\n",
      "reStruct  parameters:\n",
      "      id \n",
      "1.130059 \n",
      " Beginning PNLS step: ..  completed fit_nlme() step.\n",
      "PNLS step: RSS =  96.47977 \n",
      " fixed effects: -0.5438015  -0.0253445  \n",
      " iterations: 3 \n",
      "Convergence crit. (must all become <= tolerance = 1e-05):\n",
      "       fixed     reStruct \n",
      "6.054371e-01 2.168754e-06 \n",
      "\n",
      "**Iteration 2\n",
      "LME step: Loglik: -314.5108, nlminb iterations: 1\n",
      "reStruct  parameters:\n",
      "      id \n",
      "1.130062 \n",
      " Beginning PNLS step: ..  completed fit_nlme() step.\n",
      "PNLS step: RSS =  96.47977 \n",
      " fixed effects: -0.5438015  -0.0253445  \n",
      " iterations: 1 \n",
      "Convergence crit. (must all become <= tolerance = 1e-05):\n",
      "       fixed     reStruct \n",
      "0.000000e+00 1.734997e-13 \n"
     ]
    }
   ],
   "source": [
    "dlo_modfit <- nlme(d2x_est ~ eta_x*x_est + zeta_x*dx_est,\n",
    "                        fixed = eta_x + zeta_x ~ 1,\n",
    "                        random = eta_x ~ 1|id,\n",
    "                        start = c(eta_x  = -0.80,    # frequency of x\n",
    "                                  zeta_x  = -0.01),    # damping of x\n",
    "                        data=derivdf,\n",
    "                        na.action = na.exclude,\n",
    "                        verbose=TRUE)"
   ]
  },
  {
   "cell_type": "code",
   "execution_count": 14,
   "id": "27c45b2d",
   "metadata": {},
   "outputs": [
    {
     "data": {
      "text/plain": [
       "Nonlinear mixed-effects model fit by maximum likelihood\n",
       "  Model: d2x_est ~ eta_x * x_est + zeta_x * dx_est \n",
       "  Data: derivdf \n",
       "       AIC      BIC    logLik\n",
       "  637.0216 653.9039 -314.5108\n",
       "\n",
       "Random effects:\n",
       " Formula: eta_x ~ 1 | id\n",
       "            eta_x  Residual\n",
       "StdDev: 0.1414668 0.4379597\n",
       "\n",
       "Fixed effects:  eta_x + zeta_x ~ 1 \n",
       "            Value  Std.Error  DF    t-value p-value\n",
       "eta_x  -0.5438015 0.03293993 472 -16.508886   0.000\n",
       "zeta_x -0.0253445 0.03643417 472  -0.695625   0.487\n",
       " Correlation: \n",
       "       eta_x\n",
       "zeta_x 0.004\n",
       "\n",
       "Standardized Within-Group Residuals:\n",
       "         Min           Q1          Med           Q3          Max \n",
       "-4.033033909 -0.608529547  0.003441901  0.602124636  3.200024742 \n",
       "\n",
       "Number of Observations: 503\n",
       "Number of Groups: 30 "
      ]
     },
     "metadata": {},
     "output_type": "display_data"
    }
   ],
   "source": [
    "summary(dlo_modfit)"
   ]
  },
  {
   "cell_type": "code",
   "execution_count": 15,
   "id": "dd74cec8",
   "metadata": {},
   "outputs": [
    {
     "data": {
      "text/plain": [
       "Approximate 95% confidence intervals\n",
       "\n",
       " Fixed effects:\n",
       "             lower       est.       upper\n",
       "eta_x  -0.60839970 -0.5438015 -0.47920324\n",
       "zeta_x -0.09679526 -0.0253445  0.04610626\n",
       "\n",
       " Random Effects:\n",
       "  Level: id \n",
       "               lower      est.     upper\n",
       "sd(eta_x) 0.09463504 0.1414668 0.2114742\n",
       "\n",
       " Within-group standard error:\n",
       "    lower      est.     upper \n",
       "0.4109590 0.4379597 0.4667344 "
      ]
     },
     "metadata": {},
     "output_type": "display_data"
    }
   ],
   "source": [
    "intervals(dlo_modfit)"
   ]
  },
  {
   "cell_type": "code",
   "execution_count": null,
   "id": "a35a39c5",
   "metadata": {},
   "outputs": [],
   "source": []
  }
 ],
 "metadata": {
  "kernelspec": {
   "display_name": "R",
   "language": "R",
   "name": "ir"
  },
  "language_info": {
   "codemirror_mode": "r",
   "file_extension": ".r",
   "mimetype": "text/x-r-source",
   "name": "R",
   "pygments_lexer": "r",
   "version": "4.2.1"
  }
 },
 "nbformat": 4,
 "nbformat_minor": 5
}
