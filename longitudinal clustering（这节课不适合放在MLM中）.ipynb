{
 "cells": [
  {
   "cell_type": "markdown",
   "id": "4fffa912",
   "metadata": {},
   "source": [
    "# 目录\n",
    "\n",
    "####"
   ]
  },
  {
   "cell_type": "markdown",
   "id": "be5e98a3",
   "metadata": {},
   "source": []
  },
  {
   "cell_type": "code",
   "execution_count": 1,
   "id": "515bf6c4",
   "metadata": {},
   "outputs": [
    {
     "name": "stderr",
     "output_type": "stream",
     "text": [
      "Warning message:\n",
      "\"程辑包'psych'是用R版本4.2.3 来建造的\"\n",
      "Warning message:\n",
      "\"程辑包'ggplot2'是用R版本4.2.3 来建造的\"\n",
      "\n",
      "载入程辑包：'ggplot2'\n",
      "\n",
      "\n",
      "The following objects are masked from 'package:psych':\n",
      "\n",
      "    %+%, alpha\n",
      "\n",
      "\n"
     ]
    }
   ],
   "source": [
    "#general packages\n",
    "library(psych)\n",
    "library(ggplot2)"
   ]
  },
  {
   "cell_type": "code",
   "execution_count": 4,
   "id": "be3970d8",
   "metadata": {},
   "outputs": [
    {
     "name": "stderr",
     "output_type": "stream",
     "text": [
      "Warning message:\n",
      "\"程辑包'TSclust'是用R版本4.2.3 来建造的\"\n",
      "Registered S3 method overwritten by 'quantmod':\n",
      "  method            from\n",
      "  as.zoo.data.frame zoo \n",
      "\n"
     ]
    }
   ],
   "source": [
    "#cluster packages\n",
    "library(cluster) #clustering\n",
    "\n",
    "library(TSclust) #time series clustering"
   ]
  },
  {
   "cell_type": "markdown",
   "id": "db57c630",
   "metadata": {},
   "source": [
    "## 读入可体松数据\n",
    "\n"
   ]
  },
  {
   "cell_type": "code",
   "execution_count": 5,
   "id": "9d779d7b",
   "metadata": {},
   "outputs": [],
   "source": [
    "#set filepath for data file\n",
    "filepath <- \"https://quantdev.ssri.psu.edu/sites/qdev/files/TheCortisolData.csv\"\n",
    "#read in the .csv file using the url() function\n",
    "cortisol_wide <- read.csv(file=url(filepath),header=TRUE)"
   ]
  },
  {
   "cell_type": "code",
   "execution_count": 6,
   "id": "6011715b",
   "metadata": {},
   "outputs": [
    {
     "data": {
      "text/html": [
       "<table class=\"dataframe\">\n",
       "<caption>A data.frame: 6 × 10</caption>\n",
       "<thead>\n",
       "\t<tr><th></th><th scope=col>id</th><th scope=col>cort_0</th><th scope=col>cort_1</th><th scope=col>cort_2</th><th scope=col>cort_3</th><th scope=col>cort_4</th><th scope=col>cort_5</th><th scope=col>cort_6</th><th scope=col>cort_7</th><th scope=col>cort_8</th></tr>\n",
       "\t<tr><th></th><th scope=col>&lt;int&gt;</th><th scope=col>&lt;dbl&gt;</th><th scope=col>&lt;dbl&gt;</th><th scope=col>&lt;dbl&gt;</th><th scope=col>&lt;dbl&gt;</th><th scope=col>&lt;dbl&gt;</th><th scope=col>&lt;dbl&gt;</th><th scope=col>&lt;dbl&gt;</th><th scope=col>&lt;dbl&gt;</th><th scope=col>&lt;dbl&gt;</th></tr>\n",
       "</thead>\n",
       "<tbody>\n",
       "\t<tr><th scope=row>1</th><td>1</td><td>4.2</td><td>4.1</td><td> 9.7</td><td>14.0</td><td>19.0</td><td>18.0</td><td>20.0</td><td>23.0</td><td>24.0</td></tr>\n",
       "\t<tr><th scope=row>2</th><td>2</td><td>5.5</td><td>5.6</td><td>14.0</td><td>16.0</td><td>19.0</td><td>17.0</td><td>18.0</td><td>20.0</td><td>19.0</td></tr>\n",
       "\t<tr><th scope=row>3</th><td>3</td><td>4.0</td><td>3.8</td><td> 7.5</td><td>12.0</td><td>14.0</td><td>13.0</td><td> 9.1</td><td> 8.2</td><td> 7.9</td></tr>\n",
       "\t<tr><th scope=row>4</th><td>4</td><td>6.1</td><td>5.6</td><td>14.0</td><td>20.0</td><td>26.0</td><td>23.0</td><td>26.0</td><td>25.0</td><td>26.0</td></tr>\n",
       "\t<tr><th scope=row>5</th><td>5</td><td>4.6</td><td>4.4</td><td> 7.2</td><td>12.3</td><td>15.8</td><td>16.1</td><td>17.0</td><td>17.8</td><td>19.1</td></tr>\n",
       "\t<tr><th scope=row>6</th><td>6</td><td>6.8</td><td>9.5</td><td>14.2</td><td>19.6</td><td>19.0</td><td>13.9</td><td>13.4</td><td>12.5</td><td>11.7</td></tr>\n",
       "</tbody>\n",
       "</table>\n"
      ],
      "text/latex": [
       "A data.frame: 6 × 10\n",
       "\\begin{tabular}{r|llllllllll}\n",
       "  & id & cort\\_0 & cort\\_1 & cort\\_2 & cort\\_3 & cort\\_4 & cort\\_5 & cort\\_6 & cort\\_7 & cort\\_8\\\\\n",
       "  & <int> & <dbl> & <dbl> & <dbl> & <dbl> & <dbl> & <dbl> & <dbl> & <dbl> & <dbl>\\\\\n",
       "\\hline\n",
       "\t1 & 1 & 4.2 & 4.1 &  9.7 & 14.0 & 19.0 & 18.0 & 20.0 & 23.0 & 24.0\\\\\n",
       "\t2 & 2 & 5.5 & 5.6 & 14.0 & 16.0 & 19.0 & 17.0 & 18.0 & 20.0 & 19.0\\\\\n",
       "\t3 & 3 & 4.0 & 3.8 &  7.5 & 12.0 & 14.0 & 13.0 &  9.1 &  8.2 &  7.9\\\\\n",
       "\t4 & 4 & 6.1 & 5.6 & 14.0 & 20.0 & 26.0 & 23.0 & 26.0 & 25.0 & 26.0\\\\\n",
       "\t5 & 5 & 4.6 & 4.4 &  7.2 & 12.3 & 15.8 & 16.1 & 17.0 & 17.8 & 19.1\\\\\n",
       "\t6 & 6 & 6.8 & 9.5 & 14.2 & 19.6 & 19.0 & 13.9 & 13.4 & 12.5 & 11.7\\\\\n",
       "\\end{tabular}\n"
      ],
      "text/markdown": [
       "\n",
       "A data.frame: 6 × 10\n",
       "\n",
       "| <!--/--> | id &lt;int&gt; | cort_0 &lt;dbl&gt; | cort_1 &lt;dbl&gt; | cort_2 &lt;dbl&gt; | cort_3 &lt;dbl&gt; | cort_4 &lt;dbl&gt; | cort_5 &lt;dbl&gt; | cort_6 &lt;dbl&gt; | cort_7 &lt;dbl&gt; | cort_8 &lt;dbl&gt; |\n",
       "|---|---|---|---|---|---|---|---|---|---|---|\n",
       "| 1 | 1 | 4.2 | 4.1 |  9.7 | 14.0 | 19.0 | 18.0 | 20.0 | 23.0 | 24.0 |\n",
       "| 2 | 2 | 5.5 | 5.6 | 14.0 | 16.0 | 19.0 | 17.0 | 18.0 | 20.0 | 19.0 |\n",
       "| 3 | 3 | 4.0 | 3.8 |  7.5 | 12.0 | 14.0 | 13.0 |  9.1 |  8.2 |  7.9 |\n",
       "| 4 | 4 | 6.1 | 5.6 | 14.0 | 20.0 | 26.0 | 23.0 | 26.0 | 25.0 | 26.0 |\n",
       "| 5 | 5 | 4.6 | 4.4 |  7.2 | 12.3 | 15.8 | 16.1 | 17.0 | 17.8 | 19.1 |\n",
       "| 6 | 6 | 6.8 | 9.5 | 14.2 | 19.6 | 19.0 | 13.9 | 13.4 | 12.5 | 11.7 |\n",
       "\n"
      ],
      "text/plain": [
       "  id cort_0 cort_1 cort_2 cort_3 cort_4 cort_5 cort_6 cort_7 cort_8\n",
       "1 1  4.2    4.1     9.7   14.0   19.0   18.0   20.0   23.0   24.0  \n",
       "2 2  5.5    5.6    14.0   16.0   19.0   17.0   18.0   20.0   19.0  \n",
       "3 3  4.0    3.8     7.5   12.0   14.0   13.0    9.1    8.2    7.9  \n",
       "4 4  6.1    5.6    14.0   20.0   26.0   23.0   26.0   25.0   26.0  \n",
       "5 5  4.6    4.4     7.2   12.3   15.8   16.1   17.0   17.8   19.1  \n",
       "6 6  6.8    9.5    14.2   19.6   19.0   13.9   13.4   12.5   11.7  "
      ]
     },
     "metadata": {},
     "output_type": "display_data"
    }
   ],
   "source": [
    "head(cortisol_wide,6)"
   ]
  },
  {
   "cell_type": "markdown",
   "id": "9580a3b4",
   "metadata": {},
   "source": [
    "## 整理时间序列数据"
   ]
  },
  {
   "cell_type": "code",
   "execution_count": 7,
   "id": "5c3d43e4",
   "metadata": {},
   "outputs": [],
   "source": [
    "#reshaping wide to long\n",
    "cortisol_long <- reshape(data=cortisol_wide, \n",
    "                         timevar=c(\"time\"), \n",
    "                         idvar=\"id\",\n",
    "                         varying=c(\"cort_0\",\"cort_1\",\"cort_2\",\"cort_3\",\n",
    "                                   \"cort_4\",\"cort_5\",\"cort_6\",\"cort_7\",\"cort_8\"),\n",
    "                         direction=\"long\", sep=\"_\")\n",
    "#sorting for easy viewing\n",
    "# order by id and time\n",
    "cortisol_long <- cortisol_long[order(cortisol_long$id,cortisol_long$time), ]"
   ]
  },
  {
   "cell_type": "code",
   "execution_count": 8,
   "id": "f0d9cf2d",
   "metadata": {},
   "outputs": [
    {
     "data": {
      "text/html": [
       "<table class=\"dataframe\">\n",
       "<caption>A data.frame: 18 × 3</caption>\n",
       "<thead>\n",
       "\t<tr><th></th><th scope=col>id</th><th scope=col>time</th><th scope=col>cort</th></tr>\n",
       "\t<tr><th></th><th scope=col>&lt;int&gt;</th><th scope=col>&lt;dbl&gt;</th><th scope=col>&lt;dbl&gt;</th></tr>\n",
       "</thead>\n",
       "<tbody>\n",
       "\t<tr><th scope=row>1.0</th><td>1</td><td>0</td><td> 4.2</td></tr>\n",
       "\t<tr><th scope=row>1.1</th><td>1</td><td>1</td><td> 4.1</td></tr>\n",
       "\t<tr><th scope=row>1.2</th><td>1</td><td>2</td><td> 9.7</td></tr>\n",
       "\t<tr><th scope=row>1.3</th><td>1</td><td>3</td><td>14.0</td></tr>\n",
       "\t<tr><th scope=row>1.4</th><td>1</td><td>4</td><td>19.0</td></tr>\n",
       "\t<tr><th scope=row>1.5</th><td>1</td><td>5</td><td>18.0</td></tr>\n",
       "\t<tr><th scope=row>1.6</th><td>1</td><td>6</td><td>20.0</td></tr>\n",
       "\t<tr><th scope=row>1.7</th><td>1</td><td>7</td><td>23.0</td></tr>\n",
       "\t<tr><th scope=row>1.8</th><td>1</td><td>8</td><td>24.0</td></tr>\n",
       "\t<tr><th scope=row>2.0</th><td>2</td><td>0</td><td> 5.5</td></tr>\n",
       "\t<tr><th scope=row>2.1</th><td>2</td><td>1</td><td> 5.6</td></tr>\n",
       "\t<tr><th scope=row>2.2</th><td>2</td><td>2</td><td>14.0</td></tr>\n",
       "\t<tr><th scope=row>2.3</th><td>2</td><td>3</td><td>16.0</td></tr>\n",
       "\t<tr><th scope=row>2.4</th><td>2</td><td>4</td><td>19.0</td></tr>\n",
       "\t<tr><th scope=row>2.5</th><td>2</td><td>5</td><td>17.0</td></tr>\n",
       "\t<tr><th scope=row>2.6</th><td>2</td><td>6</td><td>18.0</td></tr>\n",
       "\t<tr><th scope=row>2.7</th><td>2</td><td>7</td><td>20.0</td></tr>\n",
       "\t<tr><th scope=row>2.8</th><td>2</td><td>8</td><td>19.0</td></tr>\n",
       "</tbody>\n",
       "</table>\n"
      ],
      "text/latex": [
       "A data.frame: 18 × 3\n",
       "\\begin{tabular}{r|lll}\n",
       "  & id & time & cort\\\\\n",
       "  & <int> & <dbl> & <dbl>\\\\\n",
       "\\hline\n",
       "\t1.0 & 1 & 0 &  4.2\\\\\n",
       "\t1.1 & 1 & 1 &  4.1\\\\\n",
       "\t1.2 & 1 & 2 &  9.7\\\\\n",
       "\t1.3 & 1 & 3 & 14.0\\\\\n",
       "\t1.4 & 1 & 4 & 19.0\\\\\n",
       "\t1.5 & 1 & 5 & 18.0\\\\\n",
       "\t1.6 & 1 & 6 & 20.0\\\\\n",
       "\t1.7 & 1 & 7 & 23.0\\\\\n",
       "\t1.8 & 1 & 8 & 24.0\\\\\n",
       "\t2.0 & 2 & 0 &  5.5\\\\\n",
       "\t2.1 & 2 & 1 &  5.6\\\\\n",
       "\t2.2 & 2 & 2 & 14.0\\\\\n",
       "\t2.3 & 2 & 3 & 16.0\\\\\n",
       "\t2.4 & 2 & 4 & 19.0\\\\\n",
       "\t2.5 & 2 & 5 & 17.0\\\\\n",
       "\t2.6 & 2 & 6 & 18.0\\\\\n",
       "\t2.7 & 2 & 7 & 20.0\\\\\n",
       "\t2.8 & 2 & 8 & 19.0\\\\\n",
       "\\end{tabular}\n"
      ],
      "text/markdown": [
       "\n",
       "A data.frame: 18 × 3\n",
       "\n",
       "| <!--/--> | id &lt;int&gt; | time &lt;dbl&gt; | cort &lt;dbl&gt; |\n",
       "|---|---|---|---|\n",
       "| 1.0 | 1 | 0 |  4.2 |\n",
       "| 1.1 | 1 | 1 |  4.1 |\n",
       "| 1.2 | 1 | 2 |  9.7 |\n",
       "| 1.3 | 1 | 3 | 14.0 |\n",
       "| 1.4 | 1 | 4 | 19.0 |\n",
       "| 1.5 | 1 | 5 | 18.0 |\n",
       "| 1.6 | 1 | 6 | 20.0 |\n",
       "| 1.7 | 1 | 7 | 23.0 |\n",
       "| 1.8 | 1 | 8 | 24.0 |\n",
       "| 2.0 | 2 | 0 |  5.5 |\n",
       "| 2.1 | 2 | 1 |  5.6 |\n",
       "| 2.2 | 2 | 2 | 14.0 |\n",
       "| 2.3 | 2 | 3 | 16.0 |\n",
       "| 2.4 | 2 | 4 | 19.0 |\n",
       "| 2.5 | 2 | 5 | 17.0 |\n",
       "| 2.6 | 2 | 6 | 18.0 |\n",
       "| 2.7 | 2 | 7 | 20.0 |\n",
       "| 2.8 | 2 | 8 | 19.0 |\n",
       "\n"
      ],
      "text/plain": [
       "    id time cort\n",
       "1.0 1  0     4.2\n",
       "1.1 1  1     4.1\n",
       "1.2 1  2     9.7\n",
       "1.3 1  3    14.0\n",
       "1.4 1  4    19.0\n",
       "1.5 1  5    18.0\n",
       "1.6 1  6    20.0\n",
       "1.7 1  7    23.0\n",
       "1.8 1  8    24.0\n",
       "2.0 2  0     5.5\n",
       "2.1 2  1     5.6\n",
       "2.2 2  2    14.0\n",
       "2.3 2  3    16.0\n",
       "2.4 2  4    19.0\n",
       "2.5 2  5    17.0\n",
       "2.6 2  6    18.0\n",
       "2.7 2  7    20.0\n",
       "2.8 2  8    19.0"
      ]
     },
     "metadata": {},
     "output_type": "display_data"
    }
   ],
   "source": [
    "head(cortisol_long,18)"
   ]
  },
  {
   "cell_type": "markdown",
   "id": "d9df648e",
   "metadata": {},
   "source": [
    "## 绘制时间序列数据"
   ]
  },
  {
   "cell_type": "code",
   "execution_count": 9,
   "id": "94607f54",
   "metadata": {},
   "outputs": [
    {
     "data": {
      "image/png": "[encoded data removed]",
      "text/plain": [
       "plot without title"
      ]
     },
     "metadata": {
      "image/png": {
       "height": 420,
       "width": 420
      }
     },
     "output_type": "display_data"
    }
   ],
   "source": [
    "#intraindividual change trajetories by id\n",
    "ggplot(data = cortisol_long, aes(x = time, y = cort, group = id)) +\n",
    "  geom_point(color=\"black\") + \n",
    "  geom_line(color=\"black\")  +\n",
    "  xlab(\"Time\") + \n",
    "  ylab(\"Cortisol\") + ylim(0,30) +\n",
    "  scale_x_continuous(breaks=seq(0,8,by=1)) +\n",
    "  facet_wrap(vars(id))"
   ]
  },
  {
   "cell_type": "markdown",
   "id": "fc56a053",
   "metadata": {},
   "source": [
    "## 对时间序列数据聚类，并可视化\n"
   ]
  },
  {
   "cell_type": "code",
   "execution_count": 10,
   "id": "76cd82c8",
   "metadata": {},
   "outputs": [
    {
     "data": {
      "text/html": [
       "<table class=\"dataframe\">\n",
       "<caption>A matrix: 34 × 9 of type dbl</caption>\n",
       "<thead>\n",
       "\t<tr><th scope=col>cort_0</th><th scope=col>cort_1</th><th scope=col>cort_2</th><th scope=col>cort_3</th><th scope=col>cort_4</th><th scope=col>cort_5</th><th scope=col>cort_6</th><th scope=col>cort_7</th><th scope=col>cort_8</th></tr>\n",
       "</thead>\n",
       "<tbody>\n",
       "\t<tr><td> 4.2</td><td> 4.1</td><td> 9.7</td><td>14.0</td><td>19.0</td><td>18.0</td><td>20.0</td><td>23.0</td><td>24.0</td></tr>\n",
       "\t<tr><td> 5.5</td><td> 5.6</td><td>14.0</td><td>16.0</td><td>19.0</td><td>17.0</td><td>18.0</td><td>20.0</td><td>19.0</td></tr>\n",
       "\t<tr><td> 4.0</td><td> 3.8</td><td> 7.5</td><td>12.0</td><td>14.0</td><td>13.0</td><td> 9.1</td><td> 8.2</td><td> 7.9</td></tr>\n",
       "\t<tr><td> 6.1</td><td> 5.6</td><td>14.0</td><td>20.0</td><td>26.0</td><td>23.0</td><td>26.0</td><td>25.0</td><td>26.0</td></tr>\n",
       "\t<tr><td> 4.6</td><td> 4.4</td><td> 7.2</td><td>12.3</td><td>15.8</td><td>16.1</td><td>17.0</td><td>17.8</td><td>19.1</td></tr>\n",
       "\t<tr><td> 6.8</td><td> 9.5</td><td>14.2</td><td>19.6</td><td>19.0</td><td>13.9</td><td>13.4</td><td>12.5</td><td>11.7</td></tr>\n",
       "\t<tr><td> 7.4</td><td> 9.2</td><td>14.0</td><td>18.0</td><td>19.0</td><td>16.0</td><td>16.0</td><td>18.0</td><td>18.0</td></tr>\n",
       "\t<tr><td> 9.2</td><td>10.0</td><td>16.0</td><td>21.0</td><td>24.0</td><td>21.0</td><td>19.0</td><td>21.0</td><td>25.0</td></tr>\n",
       "\t<tr><td> 3.9</td><td> 3.3</td><td> 9.4</td><td>16.0</td><td>18.1</td><td>14.3</td><td>13.7</td><td>13.8</td><td>13.9</td></tr>\n",
       "\t<tr><td> 9.3</td><td> 8.5</td><td>11.5</td><td>17.0</td><td>21.6</td><td>23.1</td><td>23.7</td><td>22.6</td><td>24.7</td></tr>\n",
       "\t<tr><td> 6.0</td><td> 5.8</td><td>12.2</td><td>17.5</td><td>22.6</td><td>19.4</td><td>14.3</td><td>16.3</td><td>14.1</td></tr>\n",
       "\t<tr><td> 5.1</td><td> 5.5</td><td>12.4</td><td>17.2</td><td>19.9</td><td>16.9</td><td>13.8</td><td>12.8</td><td>13.5</td></tr>\n",
       "\t<tr><td> 6.3</td><td> 6.0</td><td>16.7</td><td>24.9</td><td>27.1</td><td>18.5</td><td>15.9</td><td>14.1</td><td>12.2</td></tr>\n",
       "\t<tr><td> 3.8</td><td> 3.6</td><td>12.7</td><td>16.4</td><td>15.1</td><td>11.2</td><td>12.1</td><td>13.8</td><td>11.8</td></tr>\n",
       "\t<tr><td> 5.1</td><td> 5.2</td><td> 9.9</td><td>12.2</td><td>13.4</td><td>12.0</td><td>12.6</td><td>15.3</td><td>13.6</td></tr>\n",
       "\t<tr><td> 5.8</td><td> 5.2</td><td>11.9</td><td>17.9</td><td>20.5</td><td>20.2</td><td>17.7</td><td>20.1</td><td>17.4</td></tr>\n",
       "\t<tr><td> 5.5</td><td> 4.6</td><td>10.1</td><td>19.5</td><td>23.0</td><td>21.7</td><td>19.7</td><td>19.6</td><td>19.8</td></tr>\n",
       "\t<tr><td>11.8</td><td>11.3</td><td>12.4</td><td>18.6</td><td>19.2</td><td>14.4</td><td>13.0</td><td>12.2</td><td>10.7</td></tr>\n",
       "\t<tr><td> 3.0</td><td> 3.0</td><td> 9.0</td><td>19.0</td><td>21.0</td><td>15.0</td><td>11.0</td><td>12.0</td><td>12.0</td></tr>\n",
       "\t<tr><td> 3.0</td><td> 3.0</td><td>10.0</td><td>18.0</td><td>18.0</td><td>13.0</td><td>10.0</td><td>10.0</td><td>10.0</td></tr>\n",
       "\t<tr><td> 6.0</td><td> 5.0</td><td> 8.0</td><td>15.0</td><td>19.0</td><td>11.0</td><td>10.0</td><td> 9.0</td><td>10.0</td></tr>\n",
       "\t<tr><td> 3.0</td><td> 2.0</td><td> 7.0</td><td>15.0</td><td>21.0</td><td>18.0</td><td>16.0</td><td>17.0</td><td>21.0</td></tr>\n",
       "\t<tr><td> 3.0</td><td> 3.0</td><td> 7.0</td><td>15.0</td><td>17.0</td><td>17.0</td><td>14.0</td><td>17.0</td><td>16.0</td></tr>\n",
       "\t<tr><td> 3.0</td><td> 3.0</td><td>10.0</td><td>17.0</td><td>21.0</td><td>26.0</td><td>21.0</td><td>23.0</td><td>21.0</td></tr>\n",
       "\t<tr><td> 3.0</td><td> 2.0</td><td> 6.0</td><td> 7.0</td><td>13.0</td><td> 9.0</td><td> 7.0</td><td> 8.0</td><td> 7.0</td></tr>\n",
       "\t<tr><td> 7.0</td><td> 6.0</td><td> 9.0</td><td>15.0</td><td>15.0</td><td>13.0</td><td>14.0</td><td>15.0</td><td>16.0</td></tr>\n",
       "\t<tr><td> 5.0</td><td> 5.0</td><td>14.0</td><td>21.0</td><td>25.0</td><td>20.0</td><td>15.0</td><td>16.0</td><td>17.0</td></tr>\n",
       "\t<tr><td> 4.0</td><td> 3.0</td><td>16.0</td><td>24.0</td><td>25.0</td><td>19.0</td><td>17.0</td><td>18.0</td><td>17.0</td></tr>\n",
       "\t<tr><td> 5.0</td><td> 4.0</td><td>13.0</td><td>18.0</td><td>21.0</td><td>20.0</td><td>22.0</td><td>20.0</td><td>23.0</td></tr>\n",
       "\t<tr><td> 3.0</td><td> 3.0</td><td>14.0</td><td>23.0</td><td>21.0</td><td>18.0</td><td>15.0</td><td>17.0</td><td>24.0</td></tr>\n",
       "\t<tr><td> 2.0</td><td> 2.0</td><td>10.0</td><td>20.0</td><td>21.0</td><td>14.0</td><td>10.0</td><td> 9.0</td><td> 8.0</td></tr>\n",
       "\t<tr><td>12.0</td><td>11.0</td><td> 8.0</td><td>22.0</td><td>18.0</td><td>12.0</td><td>11.0</td><td>10.0</td><td>12.0</td></tr>\n",
       "\t<tr><td> 3.0</td><td> 3.0</td><td> 6.0</td><td>14.0</td><td>18.0</td><td>17.0</td><td>17.0</td><td>17.0</td><td>17.0</td></tr>\n",
       "\t<tr><td> 3.0</td><td> 3.0</td><td> 6.0</td><td>17.0</td><td>12.0</td><td> 8.0</td><td> 6.0</td><td> 7.0</td><td> 6.0</td></tr>\n",
       "</tbody>\n",
       "</table>\n"
      ],
      "text/latex": [
       "A matrix: 34 × 9 of type dbl\n",
       "\\begin{tabular}{lllllllll}\n",
       " cort\\_0 & cort\\_1 & cort\\_2 & cort\\_3 & cort\\_4 & cort\\_5 & cort\\_6 & cort\\_7 & cort\\_8\\\\\n",
       "\\hline\n",
       "\t  4.2 &  4.1 &  9.7 & 14.0 & 19.0 & 18.0 & 20.0 & 23.0 & 24.0\\\\\n",
       "\t  5.5 &  5.6 & 14.0 & 16.0 & 19.0 & 17.0 & 18.0 & 20.0 & 19.0\\\\\n",
       "\t  4.0 &  3.8 &  7.5 & 12.0 & 14.0 & 13.0 &  9.1 &  8.2 &  7.9\\\\\n",
       "\t  6.1 &  5.6 & 14.0 & 20.0 & 26.0 & 23.0 & 26.0 & 25.0 & 26.0\\\\\n",
       "\t  4.6 &  4.4 &  7.2 & 12.3 & 15.8 & 16.1 & 17.0 & 17.8 & 19.1\\\\\n",
       "\t  6.8 &  9.5 & 14.2 & 19.6 & 19.0 & 13.9 & 13.4 & 12.5 & 11.7\\\\\n",
       "\t  7.4 &  9.2 & 14.0 & 18.0 & 19.0 & 16.0 & 16.0 & 18.0 & 18.0\\\\\n",
       "\t  9.2 & 10.0 & 16.0 & 21.0 & 24.0 & 21.0 & 19.0 & 21.0 & 25.0\\\\\n",
       "\t  3.9 &  3.3 &  9.4 & 16.0 & 18.1 & 14.3 & 13.7 & 13.8 & 13.9\\\\\n",
       "\t  9.3 &  8.5 & 11.5 & 17.0 & 21.6 & 23.1 & 23.7 & 22.6 & 24.7\\\\\n",
       "\t  6.0 &  5.8 & 12.2 & 17.5 & 22.6 & 19.4 & 14.3 & 16.3 & 14.1\\\\\n",
       "\t  5.1 &  5.5 & 12.4 & 17.2 & 19.9 & 16.9 & 13.8 & 12.8 & 13.5\\\\\n",
       "\t  6.3 &  6.0 & 16.7 & 24.9 & 27.1 & 18.5 & 15.9 & 14.1 & 12.2\\\\\n",
       "\t  3.8 &  3.6 & 12.7 & 16.4 & 15.1 & 11.2 & 12.1 & 13.8 & 11.8\\\\\n",
       "\t  5.1 &  5.2 &  9.9 & 12.2 & 13.4 & 12.0 & 12.6 & 15.3 & 13.6\\\\\n",
       "\t  5.8 &  5.2 & 11.9 & 17.9 & 20.5 & 20.2 & 17.7 & 20.1 & 17.4\\\\\n",
       "\t  5.5 &  4.6 & 10.1 & 19.5 & 23.0 & 21.7 & 19.7 & 19.6 & 19.8\\\\\n",
       "\t 11.8 & 11.3 & 12.4 & 18.6 & 19.2 & 14.4 & 13.0 & 12.2 & 10.7\\\\\n",
       "\t  3.0 &  3.0 &  9.0 & 19.0 & 21.0 & 15.0 & 11.0 & 12.0 & 12.0\\\\\n",
       "\t  3.0 &  3.0 & 10.0 & 18.0 & 18.0 & 13.0 & 10.0 & 10.0 & 10.0\\\\\n",
       "\t  6.0 &  5.0 &  8.0 & 15.0 & 19.0 & 11.0 & 10.0 &  9.0 & 10.0\\\\\n",
       "\t  3.0 &  2.0 &  7.0 & 15.0 & 21.0 & 18.0 & 16.0 & 17.0 & 21.0\\\\\n",
       "\t  3.0 &  3.0 &  7.0 & 15.0 & 17.0 & 17.0 & 14.0 & 17.0 & 16.0\\\\\n",
       "\t  3.0 &  3.0 & 10.0 & 17.0 & 21.0 & 26.0 & 21.0 & 23.0 & 21.0\\\\\n",
       "\t  3.0 &  2.0 &  6.0 &  7.0 & 13.0 &  9.0 &  7.0 &  8.0 &  7.0\\\\\n",
       "\t  7.0 &  6.0 &  9.0 & 15.0 & 15.0 & 13.0 & 14.0 & 15.0 & 16.0\\\\\n",
       "\t  5.0 &  5.0 & 14.0 & 21.0 & 25.0 & 20.0 & 15.0 & 16.0 & 17.0\\\\\n",
       "\t  4.0 &  3.0 & 16.0 & 24.0 & 25.0 & 19.0 & 17.0 & 18.0 & 17.0\\\\\n",
       "\t  5.0 &  4.0 & 13.0 & 18.0 & 21.0 & 20.0 & 22.0 & 20.0 & 23.0\\\\\n",
       "\t  3.0 &  3.0 & 14.0 & 23.0 & 21.0 & 18.0 & 15.0 & 17.0 & 24.0\\\\\n",
       "\t  2.0 &  2.0 & 10.0 & 20.0 & 21.0 & 14.0 & 10.0 &  9.0 &  8.0\\\\\n",
       "\t 12.0 & 11.0 &  8.0 & 22.0 & 18.0 & 12.0 & 11.0 & 10.0 & 12.0\\\\\n",
       "\t  3.0 &  3.0 &  6.0 & 14.0 & 18.0 & 17.0 & 17.0 & 17.0 & 17.0\\\\\n",
       "\t  3.0 &  3.0 &  6.0 & 17.0 & 12.0 &  8.0 &  6.0 &  7.0 &  6.0\\\\\n",
       "\\end{tabular}\n"
      ],
      "text/markdown": [
       "\n",
       "A matrix: 34 × 9 of type dbl\n",
       "\n",
       "| cort_0 | cort_1 | cort_2 | cort_3 | cort_4 | cort_5 | cort_6 | cort_7 | cort_8 |\n",
       "|---|---|---|---|---|---|---|---|---|\n",
       "|  4.2 |  4.1 |  9.7 | 14.0 | 19.0 | 18.0 | 20.0 | 23.0 | 24.0 |\n",
       "|  5.5 |  5.6 | 14.0 | 16.0 | 19.0 | 17.0 | 18.0 | 20.0 | 19.0 |\n",
       "|  4.0 |  3.8 |  7.5 | 12.0 | 14.0 | 13.0 |  9.1 |  8.2 |  7.9 |\n",
       "|  6.1 |  5.6 | 14.0 | 20.0 | 26.0 | 23.0 | 26.0 | 25.0 | 26.0 |\n",
       "|  4.6 |  4.4 |  7.2 | 12.3 | 15.8 | 16.1 | 17.0 | 17.8 | 19.1 |\n",
       "|  6.8 |  9.5 | 14.2 | 19.6 | 19.0 | 13.9 | 13.4 | 12.5 | 11.7 |\n",
       "|  7.4 |  9.2 | 14.0 | 18.0 | 19.0 | 16.0 | 16.0 | 18.0 | 18.0 |\n",
       "|  9.2 | 10.0 | 16.0 | 21.0 | 24.0 | 21.0 | 19.0 | 21.0 | 25.0 |\n",
       "|  3.9 |  3.3 |  9.4 | 16.0 | 18.1 | 14.3 | 13.7 | 13.8 | 13.9 |\n",
       "|  9.3 |  8.5 | 11.5 | 17.0 | 21.6 | 23.1 | 23.7 | 22.6 | 24.7 |\n",
       "|  6.0 |  5.8 | 12.2 | 17.5 | 22.6 | 19.4 | 14.3 | 16.3 | 14.1 |\n",
       "|  5.1 |  5.5 | 12.4 | 17.2 | 19.9 | 16.9 | 13.8 | 12.8 | 13.5 |\n",
       "|  6.3 |  6.0 | 16.7 | 24.9 | 27.1 | 18.5 | 15.9 | 14.1 | 12.2 |\n",
       "|  3.8 |  3.6 | 12.7 | 16.4 | 15.1 | 11.2 | 12.1 | 13.8 | 11.8 |\n",
       "|  5.1 |  5.2 |  9.9 | 12.2 | 13.4 | 12.0 | 12.6 | 15.3 | 13.6 |\n",
       "|  5.8 |  5.2 | 11.9 | 17.9 | 20.5 | 20.2 | 17.7 | 20.1 | 17.4 |\n",
       "|  5.5 |  4.6 | 10.1 | 19.5 | 23.0 | 21.7 | 19.7 | 19.6 | 19.8 |\n",
       "| 11.8 | 11.3 | 12.4 | 18.6 | 19.2 | 14.4 | 13.0 | 12.2 | 10.7 |\n",
       "|  3.0 |  3.0 |  9.0 | 19.0 | 21.0 | 15.0 | 11.0 | 12.0 | 12.0 |\n",
       "|  3.0 |  3.0 | 10.0 | 18.0 | 18.0 | 13.0 | 10.0 | 10.0 | 10.0 |\n",
       "|  6.0 |  5.0 |  8.0 | 15.0 | 19.0 | 11.0 | 10.0 |  9.0 | 10.0 |\n",
       "|  3.0 |  2.0 |  7.0 | 15.0 | 21.0 | 18.0 | 16.0 | 17.0 | 21.0 |\n",
       "|  3.0 |  3.0 |  7.0 | 15.0 | 17.0 | 17.0 | 14.0 | 17.0 | 16.0 |\n",
       "|  3.0 |  3.0 | 10.0 | 17.0 | 21.0 | 26.0 | 21.0 | 23.0 | 21.0 |\n",
       "|  3.0 |  2.0 |  6.0 |  7.0 | 13.0 |  9.0 |  7.0 |  8.0 |  7.0 |\n",
       "|  7.0 |  6.0 |  9.0 | 15.0 | 15.0 | 13.0 | 14.0 | 15.0 | 16.0 |\n",
       "|  5.0 |  5.0 | 14.0 | 21.0 | 25.0 | 20.0 | 15.0 | 16.0 | 17.0 |\n",
       "|  4.0 |  3.0 | 16.0 | 24.0 | 25.0 | 19.0 | 17.0 | 18.0 | 17.0 |\n",
       "|  5.0 |  4.0 | 13.0 | 18.0 | 21.0 | 20.0 | 22.0 | 20.0 | 23.0 |\n",
       "|  3.0 |  3.0 | 14.0 | 23.0 | 21.0 | 18.0 | 15.0 | 17.0 | 24.0 |\n",
       "|  2.0 |  2.0 | 10.0 | 20.0 | 21.0 | 14.0 | 10.0 |  9.0 |  8.0 |\n",
       "| 12.0 | 11.0 |  8.0 | 22.0 | 18.0 | 12.0 | 11.0 | 10.0 | 12.0 |\n",
       "|  3.0 |  3.0 |  6.0 | 14.0 | 18.0 | 17.0 | 17.0 | 17.0 | 17.0 |\n",
       "|  3.0 |  3.0 |  6.0 | 17.0 | 12.0 |  8.0 |  6.0 |  7.0 |  6.0 |\n",
       "\n"
      ],
      "text/plain": [
       "      cort_0 cort_1 cort_2 cort_3 cort_4 cort_5 cort_6 cort_7 cort_8\n",
       " [1,]  4.2    4.1    9.7   14.0   19.0   18.0   20.0   23.0   24.0  \n",
       " [2,]  5.5    5.6   14.0   16.0   19.0   17.0   18.0   20.0   19.0  \n",
       " [3,]  4.0    3.8    7.5   12.0   14.0   13.0    9.1    8.2    7.9  \n",
       " [4,]  6.1    5.6   14.0   20.0   26.0   23.0   26.0   25.0   26.0  \n",
       " [5,]  4.6    4.4    7.2   12.3   15.8   16.1   17.0   17.8   19.1  \n",
       " [6,]  6.8    9.5   14.2   19.6   19.0   13.9   13.4   12.5   11.7  \n",
       " [7,]  7.4    9.2   14.0   18.0   19.0   16.0   16.0   18.0   18.0  \n",
       " [8,]  9.2   10.0   16.0   21.0   24.0   21.0   19.0   21.0   25.0  \n",
       " [9,]  3.9    3.3    9.4   16.0   18.1   14.3   13.7   13.8   13.9  \n",
       "[10,]  9.3    8.5   11.5   17.0   21.6   23.1   23.7   22.6   24.7  \n",
       "[11,]  6.0    5.8   12.2   17.5   22.6   19.4   14.3   16.3   14.1  \n",
       "[12,]  5.1    5.5   12.4   17.2   19.9   16.9   13.8   12.8   13.5  \n",
       "[13,]  6.3    6.0   16.7   24.9   27.1   18.5   15.9   14.1   12.2  \n",
       "[14,]  3.8    3.6   12.7   16.4   15.1   11.2   12.1   13.8   11.8  \n",
       "[15,]  5.1    5.2    9.9   12.2   13.4   12.0   12.6   15.3   13.6  \n",
       "[16,]  5.8    5.2   11.9   17.9   20.5   20.2   17.7   20.1   17.4  \n",
       "[17,]  5.5    4.6   10.1   19.5   23.0   21.7   19.7   19.6   19.8  \n",
       "[18,] 11.8   11.3   12.4   18.6   19.2   14.4   13.0   12.2   10.7  \n",
       "[19,]  3.0    3.0    9.0   19.0   21.0   15.0   11.0   12.0   12.0  \n",
       "[20,]  3.0    3.0   10.0   18.0   18.0   13.0   10.0   10.0   10.0  \n",
       "[21,]  6.0    5.0    8.0   15.0   19.0   11.0   10.0    9.0   10.0  \n",
       "[22,]  3.0    2.0    7.0   15.0   21.0   18.0   16.0   17.0   21.0  \n",
       "[23,]  3.0    3.0    7.0   15.0   17.0   17.0   14.0   17.0   16.0  \n",
       "[24,]  3.0    3.0   10.0   17.0   21.0   26.0   21.0   23.0   21.0  \n",
       "[25,]  3.0    2.0    6.0    7.0   13.0    9.0    7.0    8.0    7.0  \n",
       "[26,]  7.0    6.0    9.0   15.0   15.0   13.0   14.0   15.0   16.0  \n",
       "[27,]  5.0    5.0   14.0   21.0   25.0   20.0   15.0   16.0   17.0  \n",
       "[28,]  4.0    3.0   16.0   24.0   25.0   19.0   17.0   18.0   17.0  \n",
       "[29,]  5.0    4.0   13.0   18.0   21.0   20.0   22.0   20.0   23.0  \n",
       "[30,]  3.0    3.0   14.0   23.0   21.0   18.0   15.0   17.0   24.0  \n",
       "[31,]  2.0    2.0   10.0   20.0   21.0   14.0   10.0    9.0    8.0  \n",
       "[32,] 12.0   11.0    8.0   22.0   18.0   12.0   11.0   10.0   12.0  \n",
       "[33,]  3.0    3.0    6.0   14.0   18.0   17.0   17.0   17.0   17.0  \n",
       "[34,]  3.0    3.0    6.0   17.0   12.0    8.0    6.0    7.0    6.0  "
      ]
     },
     "metadata": {},
     "output_type": "display_data"
    }
   ],
   "source": [
    "#making data into a matrix (without id variable)\n",
    "cortmatrix <- as.matrix(cortisol_wide[ ,-1])\n",
    "cortmatrix"
   ]
  },
  {
   "cell_type": "markdown",
   "id": "0f1308e2",
   "metadata": {},
   "source": [
    "## 计算距离"
   ]
  },
  {
   "cell_type": "code",
   "execution_count": 11,
   "id": "2c24cfc0",
   "metadata": {},
   "outputs": [
    {
     "data": {
      "text/html": [
       "<table class=\"dataframe\">\n",
       "<caption>A matrix: 5 × 5 of type dbl</caption>\n",
       "<thead>\n",
       "\t<tr><th></th><th scope=col>1</th><th scope=col>2</th><th scope=col>3</th><th scope=col>4</th><th scope=col>5</th></tr>\n",
       "</thead>\n",
       "<tbody>\n",
       "\t<tr><th scope=row>1</th><td> 0.0</td><td>22.3</td><td> 89.4</td><td> 24.9</td><td>28.2</td></tr>\n",
       "\t<tr><th scope=row>2</th><td>22.3</td><td> 0.0</td><td> 73.6</td><td> 41.6</td><td>13.8</td></tr>\n",
       "\t<tr><th scope=row>3</th><td>89.4</td><td>73.6</td><td>  0.0</td><td>127.8</td><td>58.1</td></tr>\n",
       "\t<tr><th scope=row>4</th><td>24.9</td><td>41.6</td><td>127.8</td><td>  0.0</td><td>51.4</td></tr>\n",
       "\t<tr><th scope=row>5</th><td>28.2</td><td>13.8</td><td> 58.1</td><td> 51.4</td><td> 0.0</td></tr>\n",
       "</tbody>\n",
       "</table>\n"
      ],
      "text/latex": [
       "A matrix: 5 × 5 of type dbl\n",
       "\\begin{tabular}{r|lllll}\n",
       "  & 1 & 2 & 3 & 4 & 5\\\\\n",
       "\\hline\n",
       "\t1 &  0.0 & 22.3 &  89.4 &  24.9 & 28.2\\\\\n",
       "\t2 & 22.3 &  0.0 &  73.6 &  41.6 & 13.8\\\\\n",
       "\t3 & 89.4 & 73.6 &   0.0 & 127.8 & 58.1\\\\\n",
       "\t4 & 24.9 & 41.6 & 127.8 &   0.0 & 51.4\\\\\n",
       "\t5 & 28.2 & 13.8 &  58.1 &  51.4 &  0.0\\\\\n",
       "\\end{tabular}\n"
      ],
      "text/markdown": [
       "\n",
       "A matrix: 5 × 5 of type dbl\n",
       "\n",
       "| <!--/--> | 1 | 2 | 3 | 4 | 5 |\n",
       "|---|---|---|---|---|---|\n",
       "| 1 |  0.0 | 22.3 |  89.4 |  24.9 | 28.2 |\n",
       "| 2 | 22.3 |  0.0 |  73.6 |  41.6 | 13.8 |\n",
       "| 3 | 89.4 | 73.6 |   0.0 | 127.8 | 58.1 |\n",
       "| 4 | 24.9 | 41.6 | 127.8 |   0.0 | 51.4 |\n",
       "| 5 | 28.2 | 13.8 |  58.1 |  51.4 |  0.0 |\n",
       "\n"
      ],
      "text/plain": [
       "  1    2    3     4     5   \n",
       "1  0.0 22.3  89.4  24.9 28.2\n",
       "2 22.3  0.0  73.6  41.6 13.8\n",
       "3 89.4 73.6   0.0 127.8 58.1\n",
       "4 24.9 41.6 127.8   0.0 51.4\n",
       "5 28.2 13.8  58.1  51.4  0.0"
      ]
     },
     "metadata": {},
     "output_type": "display_data"
    }
   ],
   "source": [
    "#calculating dissimilarity matrix using TSclust diss() function\n",
    "cort_dist <- diss(SERIES=cortmatrix, METHOD=\"DTW\") #DTW = Dynamic Time Warping\n",
    "\n",
    "#adding informative column names\n",
    "names(cort_dist) <- cortisol_wide$id\n",
    "\n",
    "#examine distance/dissimilarity matrix (only first 5 time-series for space reasons)\n",
    "as.matrix(cort_dist)[1:5,1:5]"
   ]
  },
  {
   "cell_type": "markdown",
   "id": "f6eb8064",
   "metadata": {},
   "source": [
    "## 基于距离聚类"
   ]
  },
  {
   "cell_type": "code",
   "execution_count": 12,
   "id": "620e7097",
   "metadata": {},
   "outputs": [
    {
     "data": {
      "image/png": "[encoded data removed]",
      "text/plain": [
       "Plot with title \"Cortisol Clustering\""
      ]
     },
     "metadata": {
      "image/png": {
       "height": 420,
       "width": 420
      }
     },
     "output_type": "display_data"
    }
   ],
   "source": [
    "#perform hierachical clustering on the diss object\n",
    "cort_hclust <- hclust(cort_dist, method=\"complete\",members=names(cort_dist))\n",
    "#show the resulting dendrogram\n",
    "plot(cort_hclust, main=\"Cortisol Clustering\")"
   ]
  },
  {
   "cell_type": "code",
   "execution_count": 13,
   "id": "a064014a",
   "metadata": {},
   "outputs": [
    {
     "data": {
      "image/png": "[encoded data removed]",
      "text/plain": [
       "Plot with title \"Cortisol Clustering\""
      ]
     },
     "metadata": {
      "image/png": {
       "height": 420,
       "width": 420
      }
     },
     "output_type": "display_data"
    }
   ],
   "source": [
    "# Compute linkages\n",
    "cort_agnesclust <- agnes(cort_dist, diss=TRUE, method=\"complete\")\n",
    "#show the resulting dendrogram\n",
    "plot(cort_agnesclust, which.plot = 2, main = \"Cortisol Clustering\")"
   ]
  },
  {
   "cell_type": "markdown",
   "id": "84fb6f50",
   "metadata": {},
   "source": [
    "## 确定聚类的数量"
   ]
  },
  {
   "cell_type": "code",
   "execution_count": 14,
   "id": "5d596d4f",
   "metadata": {},
   "outputs": [
    {
     "data": {
      "text/html": [
       "<style>\n",
       ".dl-inline {width: auto; margin:0; padding: 0}\n",
       ".dl-inline>dt, .dl-inline>dd {float: none; width: auto; display: inline-block}\n",
       ".dl-inline>dt::after {content: \":\\0020\"; padding-right: .5ex}\n",
       ".dl-inline>dt:not(:first-of-type) {padding-left: .5ex}\n",
       "</style><dl class=dl-inline><dt>1</dt><dd>1</dd><dt>2</dt><dd>1</dd><dt>3</dt><dd>2</dd><dt>4</dt><dd>1</dd><dt>5</dt><dd>1</dd><dt>6</dt><dd>2</dd><dt>7</dt><dd>1</dd><dt>8</dt><dd>1</dd><dt>9</dt><dd>2</dd><dt>10</dt><dd>1</dd><dt>11</dt><dd>2</dd><dt>12</dt><dd>2</dd><dt>13</dt><dd>2</dd><dt>14</dt><dd>2</dd><dt>15</dt><dd>2</dd><dt>16</dt><dd>1</dd><dt>17</dt><dd>1</dd><dt>18</dt><dd>2</dd><dt>19</dt><dd>2</dd><dt>20</dt><dd>2</dd><dt>21</dt><dd>2</dd><dt>22</dt><dd>1</dd><dt>23</dt><dd>1</dd><dt>24</dt><dd>1</dd><dt>25</dt><dd>2</dd><dt>26</dt><dd>1</dd><dt>27</dt><dd>1</dd><dt>28</dt><dd>1</dd><dt>29</dt><dd>1</dd><dt>30</dt><dd>1</dd><dt>31</dt><dd>2</dd><dt>32</dt><dd>2</dd><dt>33</dt><dd>1</dd><dt>34</dt><dd>2</dd></dl>\n"
      ],
      "text/latex": [
       "\\begin{description*}\n",
       "\\item[1] 1\n",
       "\\item[2] 1\n",
       "\\item[3] 2\n",
       "\\item[4] 1\n",
       "\\item[5] 1\n",
       "\\item[6] 2\n",
       "\\item[7] 1\n",
       "\\item[8] 1\n",
       "\\item[9] 2\n",
       "\\item[10] 1\n",
       "\\item[11] 2\n",
       "\\item[12] 2\n",
       "\\item[13] 2\n",
       "\\item[14] 2\n",
       "\\item[15] 2\n",
       "\\item[16] 1\n",
       "\\item[17] 1\n",
       "\\item[18] 2\n",
       "\\item[19] 2\n",
       "\\item[20] 2\n",
       "\\item[21] 2\n",
       "\\item[22] 1\n",
       "\\item[23] 1\n",
       "\\item[24] 1\n",
       "\\item[25] 2\n",
       "\\item[26] 1\n",
       "\\item[27] 1\n",
       "\\item[28] 1\n",
       "\\item[29] 1\n",
       "\\item[30] 1\n",
       "\\item[31] 2\n",
       "\\item[32] 2\n",
       "\\item[33] 1\n",
       "\\item[34] 2\n",
       "\\end{description*}\n"
      ],
      "text/markdown": [
       "1\n",
       ":   12\n",
       ":   13\n",
       ":   24\n",
       ":   15\n",
       ":   16\n",
       ":   27\n",
       ":   18\n",
       ":   19\n",
       ":   210\n",
       ":   111\n",
       ":   212\n",
       ":   213\n",
       ":   214\n",
       ":   215\n",
       ":   216\n",
       ":   117\n",
       ":   118\n",
       ":   219\n",
       ":   220\n",
       ":   221\n",
       ":   222\n",
       ":   123\n",
       ":   124\n",
       ":   125\n",
       ":   226\n",
       ":   127\n",
       ":   128\n",
       ":   129\n",
       ":   130\n",
       ":   131\n",
       ":   232\n",
       ":   233\n",
       ":   134\n",
       ":   2\n",
       "\n"
      ],
      "text/plain": [
       " 1  2  3  4  5  6  7  8  9 10 11 12 13 14 15 16 17 18 19 20 21 22 23 24 25 26 \n",
       " 1  1  2  1  1  2  1  1  2  1  2  2  2  2  2  1  1  2  2  2  2  1  1  1  2  1 \n",
       "27 28 29 30 31 32 33 34 \n",
       " 1  1  1  1  2  2  1  2 "
      ]
     },
     "metadata": {},
     "output_type": "display_data"
    }
   ],
   "source": [
    "##primary solution\n",
    "#imposing number of clusters\n",
    "cort_cluster2 <- cutree(cort_hclust, k = 2)\n",
    "#examine cluster assignments\n",
    "cort_cluster2"
   ]
  },
  {
   "cell_type": "code",
   "execution_count": 15,
   "id": "5231877a",
   "metadata": {},
   "outputs": [
    {
     "data": {
      "text/plain": [
       "cort_cluster2\n",
       " 1  2 \n",
       "18 16 "
      ]
     },
     "metadata": {},
     "output_type": "display_data"
    }
   ],
   "source": [
    "#examine number of individuals in each cluster\n",
    "table(cort_cluster2)"
   ]
  },
  {
   "cell_type": "code",
   "execution_count": 16,
   "id": "d5b2f877",
   "metadata": {},
   "outputs": [
    {
     "data": {
      "text/html": [
       "<style>\n",
       ".list-inline {list-style: none; margin:0; padding: 0}\n",
       ".list-inline>li {display: inline-block}\n",
       ".list-inline>li:not(:last-child)::after {content: \"\\00b7\"; padding: 0 .5ex}\n",
       "</style>\n",
       "<ol class=list-inline><li>1</li><li>1</li><li>2</li><li>3</li><li>1</li><li>4</li><li>1</li><li>3</li><li>4</li><li>3</li><li>4</li><li>4</li><li>4</li><li>4</li><li>4</li><li>1</li><li>1</li><li>4</li><li>4</li><li>4</li><li>4</li><li>1</li><li>1</li><li>1</li><li>2</li><li>1</li><li>1</li><li>1</li><li>1</li><li>1</li><li>4</li><li>4</li><li>1</li><li>2</li></ol>\n"
      ],
      "text/latex": [
       "\\begin{enumerate*}\n",
       "\\item 1\n",
       "\\item 1\n",
       "\\item 2\n",
       "\\item 3\n",
       "\\item 1\n",
       "\\item 4\n",
       "\\item 1\n",
       "\\item 3\n",
       "\\item 4\n",
       "\\item 3\n",
       "\\item 4\n",
       "\\item 4\n",
       "\\item 4\n",
       "\\item 4\n",
       "\\item 4\n",
       "\\item 1\n",
       "\\item 1\n",
       "\\item 4\n",
       "\\item 4\n",
       "\\item 4\n",
       "\\item 4\n",
       "\\item 1\n",
       "\\item 1\n",
       "\\item 1\n",
       "\\item 2\n",
       "\\item 1\n",
       "\\item 1\n",
       "\\item 1\n",
       "\\item 1\n",
       "\\item 1\n",
       "\\item 4\n",
       "\\item 4\n",
       "\\item 1\n",
       "\\item 2\n",
       "\\end{enumerate*}\n"
      ],
      "text/markdown": [
       "1. 1\n",
       "2. 1\n",
       "3. 2\n",
       "4. 3\n",
       "5. 1\n",
       "6. 4\n",
       "7. 1\n",
       "8. 3\n",
       "9. 4\n",
       "10. 3\n",
       "11. 4\n",
       "12. 4\n",
       "13. 4\n",
       "14. 4\n",
       "15. 4\n",
       "16. 1\n",
       "17. 1\n",
       "18. 4\n",
       "19. 4\n",
       "20. 4\n",
       "21. 4\n",
       "22. 1\n",
       "23. 1\n",
       "24. 1\n",
       "25. 2\n",
       "26. 1\n",
       "27. 1\n",
       "28. 1\n",
       "29. 1\n",
       "30. 1\n",
       "31. 4\n",
       "32. 4\n",
       "33. 1\n",
       "34. 2\n",
       "\n",
       "\n"
      ],
      "text/plain": [
       " [1] 1 1 2 3 1 4 1 3 4 3 4 4 4 4 4 1 1 4 4 4 4 1 1 1 2 1 1 1 1 1 4 4 1 2"
      ]
     },
     "metadata": {},
     "output_type": "display_data"
    }
   ],
   "source": [
    "#imposing number of clusters\n",
    "cort_cluster4 <- cutree(cort_agnesclust, k = 4)\n",
    "#examine cluster assignments\n",
    "cort_cluster4"
   ]
  },
  {
   "cell_type": "code",
   "execution_count": 17,
   "id": "9b200e26",
   "metadata": {},
   "outputs": [
    {
     "data": {
      "text/plain": [
       "cort_cluster4\n",
       " 1  2  3  4 \n",
       "15  3  3 13 "
      ]
     },
     "metadata": {},
     "output_type": "display_data"
    }
   ],
   "source": [
    "#examine number of individuals in each cluster\n",
    "table(cort_cluster4)"
   ]
  },
  {
   "cell_type": "markdown",
   "id": "768f0ac0",
   "metadata": {},
   "source": [
    "## 整理完善原来的数据，并可视化出来"
   ]
  },
  {
   "cell_type": "code",
   "execution_count": 18,
   "id": "d0ffa972",
   "metadata": {},
   "outputs": [],
   "source": [
    "#binding cluster solutions with the wide data\n",
    "cortisol_widecluster <- cbind(cortisol_wide,cort_cluster2,cort_cluster4)\n",
    "\n",
    "#reshaping to long data for plotting\n",
    "#reshaping wide to long\n",
    "cortisol_longcluster <- reshape(data=cortisol_widecluster, \n",
    "                         timevar=c(\"time\"), \n",
    "                         idvar=c(\"id\",\"cort_cluster2\",\"cort_cluster4\"),\n",
    "                         varying=c(\"cort_0\",\"cort_1\",\"cort_2\",\"cort_3\",\n",
    "                                   \"cort_4\",\"cort_5\",\"cort_6\",\"cort_7\",\"cort_8\"),\n",
    "                         direction=\"long\", sep=\"_\")\n",
    "#ordering by id and time for easy viewing\n",
    "cortisol_longcluster <- cortisol_longcluster[order(cortisol_longcluster$id,cortisol_longcluster$time), ]"
   ]
  },
  {
   "cell_type": "markdown",
   "id": "4fca60c2",
   "metadata": {},
   "source": [
    "## 根据ID做简单展示"
   ]
  },
  {
   "cell_type": "code",
   "execution_count": 19,
   "id": "b55b6d89",
   "metadata": {},
   "outputs": [
    {
     "data": {
      "image/png": "[encoded data removed]",
      "text/plain": [
       "plot without title"
      ]
     },
     "metadata": {
      "image/png": {
       "height": 420,
       "width": 420
      }
     },
     "output_type": "display_data"
    }
   ],
   "source": [
    "#2 cluster solution\n",
    "#intraindividual change trajetories by ID\n",
    "ggplot(data = cortisol_longcluster, aes(x = time, y = cort, group = id)) +\n",
    "  #geom_point(aes(x = time, y = cort,color=factor(cort_cluster2))) + \n",
    "  geom_line(aes(x = time, y = cort,color=factor(cort_cluster2))) +\n",
    "  xlab(\"Time\") + \n",
    "  ylab(\"Cortisol\") + ylim(0,30) +\n",
    "  scale_x_continuous(breaks=seq(0,8,by=1)) +\n",
    "  facet_wrap(vars(id)) +\n",
    "  guides(color=\"none\")"
   ]
  },
  {
   "cell_type": "code",
   "execution_count": 20,
   "id": "28684af8",
   "metadata": {},
   "outputs": [
    {
     "data": {
      "image/png": "[encoded data removed]",
      "text/plain": [
       "plot without title"
      ]
     },
     "metadata": {
      "image/png": {
       "height": 420,
       "width": 420
      }
     },
     "output_type": "display_data"
    }
   ],
   "source": [
    "#4 cluster solution\n",
    "#intraindividual change trajetories by ID\n",
    "ggplot(data = cortisol_longcluster, aes(x = time, y = cort, group = id)) +\n",
    "  #geom_point(aes(x = time, y = cort,color=factor(cort_cluster4))) + \n",
    "  geom_line(aes(x = time, y = cort,color=factor(cort_cluster4))) +\n",
    "  xlab(\"Time\") + \n",
    "  ylab(\"Cortisol\") + ylim(0,30) +\n",
    "  scale_x_continuous(breaks=seq(0,8,by=1)) +\n",
    "  facet_wrap(vars(id)) +\n",
    "  guides(color=\"none\")"
   ]
  },
  {
   "cell_type": "markdown",
   "id": "61aed017",
   "metadata": {},
   "source": [
    "## 根据不同颜色对两组数据可视化"
   ]
  },
  {
   "cell_type": "code",
   "execution_count": 21,
   "id": "acc578b4",
   "metadata": {},
   "outputs": [
    {
     "data": {
      "image/png": "[encoded data removed]",
      "text/plain": [
       "plot without title"
      ]
     },
     "metadata": {
      "image/png": {
       "height": 420,
       "width": 420
      }
     },
     "output_type": "display_data"
    }
   ],
   "source": [
    "#intraindividual change trajetories by cluster\n",
    "ggplot(data = cortisol_longcluster, aes(x = time, y = cort, group = id)) +\n",
    "  #geom_point(aes(x = time, y = cort,color=factor(cort_cluster4))) + \n",
    "  geom_line(aes(x = time, y = cort,color=factor(cort_cluster4))) +\n",
    "  xlab(\"Time\") + \n",
    "  ylab(\"Cortisol\") + ylim(0,30) +\n",
    "  scale_x_continuous(breaks=seq(0,8,by=1)) +\n",
    "  facet_wrap(vars(cort_cluster2)) +\n",
    "  guides(color=\"none\")"
   ]
  },
  {
   "cell_type": "code",
   "execution_count": null,
   "id": "6e180c3b",
   "metadata": {},
   "outputs": [],
   "source": []
  }
 ],
 "metadata": {
  "kernelspec": {
   "display_name": "R",
   "language": "R",
   "name": "ir"
  },
  "language_info": {
   "codemirror_mode": "r",
   "file_extension": ".r",
   "mimetype": "text/x-r-source",
   "name": "R",
   "pygments_lexer": "r",
   "version": "4.2.1"
  }
 },
 "nbformat": 4,
 "nbformat_minor": 5
}
